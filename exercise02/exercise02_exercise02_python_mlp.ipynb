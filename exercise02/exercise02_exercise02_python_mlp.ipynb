{
 "cells": [
  {
   "cell_type": "markdown",
   "metadata": {},
   "source": [
    "# Exercise 2\n",
    "\n",
    "The exercise focuses on implementing a small feedforward neural network and training it on the MNIST dataset.\n",
    "We recommend looking at Chapter 6 in the \"Deep Learning\" book.\n",
    "\n",
    "We provide code for structure and utility, you have to **fill in the TODO-gaps**.\n",
    "It might initially look like a lot of unnecessary code, but it keeps the network extensible. In the following exercises you can reuse what you've done here. Most common neural network libraries (*pytorch*, *tensorflow/keras*, …) are similarly structured, hence they will be easy to use once you've finished this notebook. As we will be using *pytorch* towards the end of the lecture, our API resembles the API of the pytorch framework.\n",
    "\n",
    "\n",
    "We will implement two different cost functions and play a bit with the value of the different hyperparameters to see how performances change as a function of those. In particular, we will focus on\n",
    "\n",
    "* Nonlinear activation functions\n",
    "* Multi-Layer Perceptrons (MLP) a.k.a. Feed-forward neural networks.\n",
    "* Quadratic Cost Function\n",
    "* Cross Entropy Cost Function\n",
    "\n",
    "Note that we'll implement all of these operations to operate on batches of data."
   ]
  },
  {
   "cell_type": "code",
   "execution_count": 38,
   "metadata": {},
   "outputs": [],
   "source": [
    "# Some imports used in the code below\n",
    "\n",
    "from typing import Iterable, List, Optional, Tuple  # type annotations\n",
    "\n",
    "import numpy as np  # linear algebra\n",
    "import matplotlib.pyplot as plt  # plotting\n",
    "import scipy.optimize  # gradient check"
   ]
  },
  {
   "cell_type": "markdown",
   "metadata": {
    "colab_type": "text",
    "id": "o2w5-mnoueIu"
   },
   "source": [
    "The cell below contains the two main classes to structure your network. \n",
    "\n",
    "**Parameter** is used to represent trainable variables in the network, e.g., a layer's weights $w$. The weights themself are a *numpy array* as the parameter's `data` attribute. The associated parameter gradient (e.g. $\\frac{\\partial L}{\\partial w}$) can be stored in the `grad` attribute.\n",
    "\n",
    "\n",
    "\n",
    "**Module** is the base class for all parts of the network (activations, layers, …) and even the network itself. They all have to implement the `forward` and `backward` methods. For backpropagation activation will flow *forward* and gradient will flow *backward* through the *network graph and it's modules*. \n",
    "\n",
    "Additional module provides utility to check the correctness of implementation by approximating *backward* with [finite difference approximations](https://en.wikipedia.org/wiki/Finite_difference#Relation_with_derivatives)  of *forward*.\n",
    "\n",
    "*Note:* All modules operate on batches of samples. E.g. the input shape of `Linear.forward` is `(batch_size, feature_shape, 1)` (we will use the last dimension in future exercises). In this exercise we will not make use of gradients and the backwards method. In the next exercise we will see how one can update the weights of a neural network using backpropagation."
   ]
  },
  {
   "cell_type": "code",
   "execution_count": 39,
   "metadata": {},
   "outputs": [],
   "source": [
    "class Parameter:\n",
    "    \"\"\"A trainable parameter.\n",
    "\n",
    "    This class not only stores the value of the parameter (self.data) but also tensors/\n",
    "    properties associated with it, such as the gradient (self.grad) of the current backward\n",
    "    pass.\n",
    "    \"\"\"\n",
    "\n",
    "    def __init__(self, data: np.ndarray, grad: Optional[np.ndarray] = None, name=None):\n",
    "        self.data = data  # type: np.ndarray\n",
    "        self.grad = grad  # type: Optional[np.ndarray]\n",
    "        self.name = name  # type: Optional[str]\n",
    "        self.state_dict = dict()  # dict to store additional, optional information\n",
    "        \n",
    "        \n",
    "class Module:\n",
    "    \"\"\"The base class all network modules must inherit from.\"\"\"\n",
    "\n",
    "    def __init__(self):\n",
    "        # Cache of the input of the forward pass.\n",
    "        # We need it during the backward pass in most layers,\n",
    "        #  e.g., to compute the gradient w.r.t to the weights.\n",
    "        self.input_cache = None\n",
    "\n",
    "    def __call__(self, *args) -> np.ndarray:\n",
    "        \"\"\"Alias for forward, convenience function.\"\"\"\n",
    "        return self.forward(*args)\n",
    "\n",
    "    def forward(self, *args) -> np.ndarray:\n",
    "        \"\"\"Compute the forward pass through the module.\n",
    "\n",
    "        Args:\n",
    "           args: The inputs, e.g., the output of the previous layer.\n",
    "        \"\"\"\n",
    "        raise NotImplementedError\n",
    "\n",
    "    def backward(self, grad: np.ndarray) -> np.ndarray:\n",
    "        \"\"\"Compute the backward pass through the module.\n",
    "\n",
    "        This method computes the gradients with respect to the trainable\n",
    "        parameters and with respect to the first input.\n",
    "        If the module has trainable parameters, this method needs to update\n",
    "        the respective parameter.grad property.\n",
    "\n",
    "        Args:\n",
    "            grad: The gradient of the following layer.\n",
    "\n",
    "        Returns:\n",
    "            The gradient with respect to the first input argument. In general\n",
    "            it might be useful to return the gradients w.r.t. to all inputs, we\n",
    "            omit this here to keep things simple.\n",
    "        \"\"\"\n",
    "        raise NotImplementedError\n",
    "\n",
    "    def parameters(self) -> List[Parameter]:\n",
    "        \"\"\"Return the module parameters.\"\"\"\n",
    "        return []  # default to empty list\n",
    "\n",
    "    def check_gradients(self, input_args: Tuple[np.ndarray]):\n",
    "        \"\"\"Verify the implementation of the gradients.\n",
    "\n",
    "        This includes the gradient with respect to the input as well as the\n",
    "        gradients w.r.t. the parameters if the module contains any.\n",
    "\n",
    "        As the scipy grad check only works on scalar functions, we compute\n",
    "        the sum over the output to obtain a scalar.\n",
    "        \"\"\"\n",
    "        assert isinstance(input_args, tuple), (\n",
    "            \"input_args must be a tuple but is {}\".format(type(input_args)))\n",
    "        TOLERANCE = 1e-6\n",
    "        self.check_gradients_wrt_input(input_args, TOLERANCE)\n",
    "        self.check_gradients_wrt_params(input_args, TOLERANCE)\n",
    "\n",
    "    def _zero_grad(self):\n",
    "        \"\"\"(Re-) intialize the param's grads to 0. Helper for grad checking.\"\"\"\n",
    "        for p in self.parameters():\n",
    "            p.grad = np.zeros_like(p.data)\n",
    "\n",
    "    def check_gradients_wrt_input(self, input_args: Tuple[np.ndarray],\n",
    "                                  tolerance: float):\n",
    "        \"\"\"Verify the implementation of the module's gradient w.r.t. input.\"\"\"\n",
    "\n",
    "        def output_given_input(x: np.ndarray):\n",
    "            \"\"\"Wrap self.forward for scipy.optimize.check_grad.\"\"\"\n",
    "            # we only compute the gradient w.r.t. to the first input arg.\n",
    "            args = (x.reshape(input_args[0].shape),) + input_args[1:]\n",
    "            return np.sum(self.forward(*args))\n",
    "\n",
    "        def grad_given_input(x: np.ndarray):\n",
    "            \"\"\"Wrap self.backward for scipy.optimize.check_grad.\"\"\"\n",
    "            self._zero_grad()\n",
    "            # run self.forward to store the new input\n",
    "            args = (x.reshape(input_args[0].shape),) + input_args[1:]\n",
    "            out = self.forward(*args)\n",
    "            # compute the gradient w.r.t. to the input\n",
    "            return np.ravel(self.backward(np.ones_like(out)))\n",
    "\n",
    "        error = scipy.optimize.check_grad(\n",
    "            output_given_input, grad_given_input, np.ravel(input_args[0]))\n",
    "        num_outputs = np.prod(self.forward(*input_args).shape)\n",
    "        if np.squeeze(error) / num_outputs > tolerance:\n",
    "            raise RuntimeError(\"Check of gradient w.r.t. to input for {} failed.\"\n",
    "                               \"Error {:.4E} > {:.4E}.\"\n",
    "                               .format(self, np.squeeze(error), tolerance))\n",
    "\n",
    "    def check_gradients_wrt_params(self, input_args: Tuple[np.ndarray],\n",
    "                                   tolerance: float):\n",
    "        \"\"\"Verify the implementation of the module's gradient w.r.t. params.\"\"\"\n",
    "        for param in self.parameters():\n",
    "            def output_given_params(new_param: np.ndarray):\n",
    "                \"\"\"Wrap self.forward, change the parameters to new_param.\"\"\"\n",
    "                param.data = new_param.reshape(param.data.shape)\n",
    "                return np.sum(self.forward(*input_args))\n",
    "\n",
    "            def grad_given_params(new_param: np.ndarray):\n",
    "                self._zero_grad()\n",
    "                param.data = new_param.reshape(param.data.shape)\n",
    "                out = self.forward(*input_args)\n",
    "                # compute the gradient w.r.t. to param\n",
    "                self.backward(np.ones_like(out))\n",
    "                return np.ravel(param.grad)\n",
    "            # flatten the param as scipy can only handle 1D params\n",
    "            param_init = np.ravel(np.copy(param.data))\n",
    "            error = scipy.optimize.check_grad(output_given_params,\n",
    "                                              grad_given_params,\n",
    "                                              param_init)\n",
    "            num_outputs = np.prod(self.forward(*input_args).shape)\n",
    "            if np.squeeze(error) / num_outputs > tolerance:\n",
    "                raise RuntimeError(\"Check of gradient w.r.t. to param '{}' for\"\n",
    "                                   \"{} failed. Error {:.4E} > {:.4E}.\"\n",
    "                                   .format(param.name, self, error, tolerance))"
   ]
  },
  {
   "cell_type": "markdown",
   "metadata": {
    "colab_type": "text",
    "id": "Pvmc_mniueI2"
   },
   "source": [
    "# Nonlinearities\n",
    "\n",
    "## Sigmoid (1 point)\n",
    "\n",
    "Implement your first network module: The sigmoid activation function.\n",
    "\n",
    "Verify your sigmoid function by plotting."
   ]
  },
  {
   "cell_type": "code",
   "execution_count": 40,
   "metadata": {},
   "outputs": [],
   "source": [
    "class Sigmoid(Module):\n",
    "    def _sigmoid(self, z: np.ndarray) -> np.ndarray:\n",
    "        # START TODO ################\n",
    "        return 1 / (1 + np.exp(-z))\n",
    "        # END TODO###################\n",
    "\n",
    "    def forward(self, z: np.ndarray) -> np.ndarray:\n",
    "        assert len(z.shape) == 3, (\"z.shape should be (batch_size, input_size, 1)\"\n",
    "                                   \" but is {}.\".format(z.shape))\n",
    "        h = self._sigmoid(z)\n",
    "        # here it's useful to store the activation \n",
    "        #  instead of the input\n",
    "        self.input_cache = h\n",
    "        \n",
    "        return h"
   ]
  },
  {
   "cell_type": "code",
   "execution_count": 41,
   "metadata": {},
   "outputs": [
    {
     "data": {
      "image/png": "[encoded data removed]",
      "text/plain": [
       "<Figure size 432x288 with 1 Axes>"
      ]
     },
     "metadata": {
      "needs_background": "light"
     },
     "output_type": "display_data"
    }
   ],
   "source": [
    "x = np.linspace(-4, +4, 100)\n",
    "sigmoid = Sigmoid()\n",
    "\n",
    "y = np.ravel(sigmoid(x.reshape(-1, 1, 1)))\n",
    "# equal to call of sigmoid.forward(x)\n",
    "    \n",
    "plt.plot(x,y)\n",
    "plt.xlabel('input')\n",
    "plt.ylabel('output')\n",
    "plt.grid(True)\n",
    "plt.show()"
   ]
  },
  {
   "cell_type": "markdown",
   "metadata": {
    "colab_type": "text",
    "id": "mMQ5DmToueJC"
   },
   "source": [
    "## Relu (1 + 0.5 points)\n",
    "\n",
    "Implement Relu and plot for verification"
   ]
  },
  {
   "cell_type": "code",
   "execution_count": 42,
   "metadata": {},
   "outputs": [],
   "source": [
    "class Relu(Module):\n",
    "    def _Relu_inplace(self, z: np.ndarray) -> None:\n",
    "        \"\"\" NOTE: Faster but this method modifies the original array \"\"\"\n",
    "        z[z<0] = 0\n",
    "\n",
    "    def _Relu(self, z: np.ndarray) -> np.ndarray:\n",
    "        return np.maximum(z,0)\n",
    "\n",
    "    def forward(self, z: np.ndarray) -> np.ndarray:\n",
    "        self.input_cache = z\n",
    "        # START TODO ################\n",
    "        return self._Relu(z)\n",
    "        # END TODO###################"
   ]
  },
  {
   "cell_type": "code",
   "execution_count": 43,
   "metadata": {},
   "outputs": [
    {
     "data": {
      "image/png": "[encoded data removed]",
      "text/plain": [
       "<Figure size 432x288 with 1 Axes>"
      ]
     },
     "metadata": {
      "needs_background": "light"
     },
     "output_type": "display_data"
    }
   ],
   "source": [
    "# Plot Relu\n",
    "\n",
    "# START TODO ################\n",
    "x = np.linspace(-4, +4, 100)\n",
    "relu = Relu()\n",
    "\n",
    "y = np.ravel(relu(x.reshape(-1, 1, 1)))\n",
    "# equal to call of sigmoid.forward(x)\n",
    "\n",
    "plt.plot(x,y)\n",
    "plt.xlabel('input')\n",
    "plt.ylabel('output')\n",
    "plt.grid(True)\n",
    "plt.show()\n",
    "# END TODO###################"
   ]
  },
  {
   "cell_type": "markdown",
   "metadata": {
    "colab_type": "text",
    "id": "-zsNa01IueJN"
   },
   "source": [
    "## Softmax (1 point)\n",
    "\n",
    "Implement the numerical stable softmax. We will not need the backward pass. "
   ]
  },
  {
   "cell_type": "code",
   "execution_count": 44,
   "metadata": {},
   "outputs": [],
   "source": [
    "class Softmax(Module):\n",
    "    def _softmax(self, z):\n",
    "        # don't reduce (sum) over batch axis\n",
    "        reduction_axes = tuple(range(1, len(z.shape))) \n",
    "        \n",
    "        # START TODO ################\n",
    "        # Shift input for numerical stability.\n",
    "        b = np.max(z)\n",
    "        exp_z = np.exp(z-b)\n",
    "        sum_exp_z = np.sum(exp_z, axis=reduction_axes).reshape(-1,1,1)\n",
    "        h = exp_z / sum_exp_z\n",
    "        # END TODO###################\n",
    "        return h\n",
    "    \n",
    "    def forward(self, z: np.ndarray) -> np.ndarray:\n",
    "        h = self._softmax(z)\n",
    "        return h"
   ]
  },
  {
   "cell_type": "code",
   "execution_count": 45,
   "metadata": {},
   "outputs": [],
   "source": [
    "# Check your softmax\n",
    "softmax = Softmax()\n",
    "x = np.array([1.0, 2.0, 3.0, 4.0, 1.0, 2.0, 3.0] ).reshape(1, -1, 1)\n",
    "\n",
    "# Testcase from https://en.wikipedia.org/wiki/Softmax_function#Example\n",
    "np.testing.assert_allclose(\n",
    "    np.ravel(softmax(x)), \n",
    "    [0.02364054, 0.06426166, 0.1746813, 0.474833, 0.02364054, 0.06426166, 0.1746813],\n",
    "    rtol=1e-5, err_msg=\"Softmax is not correct implemented\")"
   ]
  },
  {
   "cell_type": "markdown",
   "metadata": {
    "colab_type": "text",
    "id": "JuHOIiLhueJX"
   },
   "source": [
    "# Linear Layer (2 points)\n",
    "\n",
    "Implement a linear (in other frameworks also called dense or fully connected) network layer. \n",
    "Here you also have to use the Parameter class."
   ]
  },
  {
   "cell_type": "code",
   "execution_count": 46,
   "metadata": {},
   "outputs": [],
   "source": [
    "class Linear(Module):\n",
    "\n",
    "    def __init__(self, in_features: int, out_features: int):\n",
    "        super().__init__()\n",
    "        \n",
    "        w_data = 0.01 * np.random.randn(out_features, in_features)\n",
    "        self.W = Parameter(w_data, \"W\")\n",
    "        \n",
    "        b_data = 0.01 * np.ones((out_features, 1))\n",
    "        self.b = Parameter(b_data, \"b\")\n",
    "\n",
    "    def forward(self, x: np.ndarray) -> np.ndarray:\n",
    "        assert len(x.shape) == 3, (\"x.shape should be (batch_size, input_size, 1)\"\n",
    "                                   \" but is {}.\".format(x.shape))\n",
    "        self.input_cache = x\n",
    "        # START TODO ################\n",
    "        # Remember: Access weight data through self.W.data\n",
    "        return np.matmul(self.W.data, x) + self.b.data\n",
    "        # END TODO ##################\n",
    "\n",
    "    def parameters(self) -> List[Parameter]:\n",
    "        # START TODO ################ \n",
    "        # Return all parameters of Linear\n",
    "        return [self.W, self.b]\n",
    "        # END TODO ##################"
   ]
  },
  {
   "cell_type": "code",
   "execution_count": 47,
   "metadata": {},
   "outputs": [],
   "source": [
    "# Linear layer shape test\n",
    "N = 5\n",
    "x = np.random.rand(N, 2, 1)\n",
    "out_dim = 3\n",
    "in_dim = x.shape[1]\n",
    "linear = Linear(in_features=in_dim, out_features=out_dim)\n",
    "result = linear.forward(x)\n",
    "assert result.shape == (5, 3, 1)"
   ]
  },
  {
   "cell_type": "markdown",
   "metadata": {
    "colab_type": "text",
    "id": "k8FtzDUfueJd"
   },
   "source": [
    "# Cost Functions (1 point)\n",
    "\n"
   ]
  },
  {
   "cell_type": "code",
   "execution_count": 48,
   "metadata": {},
   "outputs": [],
   "source": [
    "# Define the Cross-Entropy cost functions\n",
    "class CrossEntropyLoss(Module):\n",
    "    \"\"\"Compute the cross entropy.\"\"\"\n",
    "\n",
    "    def __init__(self):\n",
    "        super().__init__()\n",
    "        self.softmax = Softmax()\n",
    "\n",
    "    def forward(self, a: np.ndarray, y: np.ndarray) -> np.ndarray:\n",
    "        \"\"\"Compute the cross entropy, mean over batch size.\"\"\"\n",
    "        a = self.softmax(a)\n",
    "        self.input_cache = a, y\n",
    "        \n",
    "        # compute the mean over the batch\n",
    "        # START TODO ################ \n",
    "        # --- assuming:\n",
    "        # a.shape = (batchsize, feature_dim, 1)\n",
    "        # y.shape = (batchsize, num_classes, 1)\n",
    "        assert a.ndim == 3, f'Expected a.shape=(batchsize, feature_dim, 1), got {a.shape}'\n",
    "        assert y.ndim == 3, f'Expected y.shape=(batchsize, num_classes, 1), got {y.shape}'\n",
    "        reduction_axes = tuple(range(1, len(a.shape)))\n",
    "        neg_log_likelihood = -np.log(a) * y\n",
    "        return np.mean(neg_log_likelihood)\n",
    "        # END TODO ##################\n",
    "\n",
    "\n",
    "class MSELoss(Module):\n",
    "    \"\"\"Compute the mean squared error loss.\"\"\"\n",
    "\n",
    "    def forward(self, a: np.ndarray, y: np.ndarray) -> np.ndarray:\n",
    "        self.input_cache = a, y\n",
    "        return np.sum(0.5 * np.linalg.norm(a - y, axis=-1)**2) / len(a)"
   ]
  },
  {
   "cell_type": "code",
   "execution_count": 49,
   "metadata": {},
   "outputs": [],
   "source": [
    "# Cost funciton shape test\n",
    "\n",
    "pred = np.array([0, 1, 1, 0]).reshape(-1,1,1)\n",
    "y = np.array([0, 1, 1, 0]).reshape(-1,1,1)\n",
    "\n",
    "CEL = CrossEntropyLoss()\n",
    "result = CEL.forward(pred, y)\n",
    "assert result == 0.0\n",
    "\n",
    "MSEL = MSELoss()\n",
    "result2 = MSEL.forward(pred, y)\n",
    "assert result == 0.0"
   ]
  },
  {
   "cell_type": "markdown",
   "metadata": {
    "colab_type": "text",
    "id": "tzJ8oxApueJi"
   },
   "source": [
    "# Sequential Network (1 point)"
   ]
  },
  {
   "cell_type": "code",
   "execution_count": 50,
   "metadata": {},
   "outputs": [],
   "source": [
    "class Sequential(Module):\n",
    "    \"\"\"A sequential container to stack modules.\n",
    "\n",
    "    Modules will be added to it in the order they are passed to the\n",
    "    constructor.\n",
    "\n",
    "    Example network with one hidden layer:\n",
    "    model = Sequential(\n",
    "                  Linear(5,10),\n",
    "                  ReLU(),\n",
    "                  Linear(10,10),\n",
    "                )\n",
    "    \"\"\"\n",
    "    def __init__(self, *args: List[Module]):\n",
    "        super().__init__()\n",
    "        self.modules = args\n",
    "\n",
    "    def forward(self, x: np.ndarray) -> np.ndarray:\n",
    "        # START TODO ################ \n",
    "        result = x\n",
    "        for m in self.modules:\n",
    "            x = m.forward(x)\n",
    "        # Remember: module(x) is equivalent to module.forward(x)\n",
    "        # END TODO ##################\n",
    "        return x\n",
    "\n",
    "    def parameters(self) -> List[Parameter]:\n",
    "        # iterate over modules and retrieve their parameters, iterate over\n",
    "        # parameters to flatten the list\n",
    "        return [param for module in self.modules\n",
    "                for param in module.parameters()]"
   ]
  },
  {
   "cell_type": "code",
   "execution_count": 51,
   "metadata": {},
   "outputs": [],
   "source": [
    "# test sequential network\n",
    "\n",
    "N = 5\n",
    "x_data = np.random.rand(N, 2, 1)\n",
    "in_dim = x_data.shape[1]\n",
    "linear1 = Linear(in_features=in_dim, out_features=3)\n",
    "relu = Relu()\n",
    "linear2 = Linear(3, 2)\n",
    "\n",
    "model = Sequential(linear1, relu, linear2)\n",
    "result = model.forward(x_data)\n",
    "assert result.shape == (5,2,1)"
   ]
  },
  {
   "cell_type": "markdown",
   "metadata": {
    "colab_type": "text",
    "id": "SmNlenRuueKF"
   },
   "source": [
    "# Experiments\n",
    "\n",
    "We will now implement a simple multilayer perceptron whose output aprroximates the output of the [XOR](https://en.wikipedia.org/wiki/XOR_gate) operation. At this point we are not concerned to generalize; we only care to learn a function that can classify each pair in $X = \\{ [0,0]^T, [0,1]^T, [1,0]^T, [1,1]^T \\}$ to one of the classes in $Y = \\{ 0, 1 \\}$."
   ]
  },
  {
   "cell_type": "code",
   "execution_count": 52,
   "metadata": {},
   "outputs": [],
   "source": [
    "# training set\n",
    "X = np.array([[0, 0],\n",
    "              [0, 1],\n",
    "              [1, 0],\n",
    "              [1, 1]])\n",
    "\n",
    "# true labels\n",
    "Y = np.array([0, 1, 1, 0],)"
   ]
  },
  {
   "cell_type": "markdown",
   "metadata": {
    "colab_type": "text",
    "id": "G4leewMl5TQA"
   },
   "source": [
    "\n",
    "1) Fit a logistic regression model to the X data. What is the predicted output and the best accuracy you can achieve? (1 point)\n",
    "\n",
    "**HINT**: *You can use* [`sklearn.linear_model.LogisticRegression`](https://scikit-learn.org/stable/modules/generated/sklearn.linear_model.LogisticRegression.html) *with the LBFGS solver.*"
   ]
  },
  {
   "cell_type": "code",
   "execution_count": 53,
   "metadata": {},
   "outputs": [],
   "source": [
    "from sklearn.linear_model import LogisticRegression\n",
    "\n",
    "def logistic_regression(x: np.ndarray, y: np.ndarray) -> Tuple[np.ndarray, float]:\n",
    "  \"\"\" Implement a logistic regression model for binary classification.\n",
    "  Args:\n",
    "    x: np.ndarray with shape (nr_examples, nr_features). Input examples.\n",
    "    y: np.ndarray with shape (nr_examples,). True labels.\n",
    "\n",
    "  Returns:\n",
    "    Tuple[prediction, score]:\n",
    "      prediction: np.ndarray with shape (nr_examples,). Predicted labels.\n",
    "      score: float. Overall score of the model.\n",
    "  \"\"\"\n",
    "  # START TODO ################\n",
    "  clf = LogisticRegression(solver='lbfgs')\n",
    "  clf.fit(x, y)\n",
    "  y_pred = clf.predict(x)\n",
    "  score = clf.score(x, y)\n",
    "  return (y_pred, score)\n",
    "  # END TODO ##################"
   ]
  },
  {
   "cell_type": "code",
   "execution_count": 54,
   "metadata": {},
   "outputs": [],
   "source": [
    "p, s = logistic_regression(X, Y)"
   ]
  },
  {
   "cell_type": "markdown",
   "metadata": {
    "colab_type": "text",
    "id": "PdBi_Qcy5aVe"
   },
   "source": [
    "2) *Now define a sequential model (Linear, Relu, Linear) with 2 hidden units. Our model output will therefore be computed as:* $ f(x) = w^T max\\{ 0, W^TX + c \\} + b ,$ *where $W = \\begin{bmatrix} 1 & 1 \\\\ 1 & 1 \\end{bmatrix}$, $c = \\begin{bmatrix} 0 \\\\ -1 \\end{bmatrix}$, $w = \\begin{bmatrix} 1 \\\\ -2 \\end{bmatrix}$ and $b = 0$. For this part you have to:*\n",
    "  * instantiate the sequential model. (1 point)\n",
    "  * set the weights of the sequential model to the corresponding minimizer's values as shown above. (0.5 points)\n",
    "  * Propagate the input examples through the network to get the output. (0.5 points)\n",
    "  * Compute the cross entropy loss. (0.5 points)\n",
    "\n",
    "*NOTE: These parameters are actually the minimizers of some cost, e.g. one of the cost functions shown above. In the next exercise, we will learn how backpropagation is used to find these minimizers of the cost function using gradient descent.*"
   ]
  },
  {
   "cell_type": "code",
   "execution_count": 55,
   "metadata": {},
   "outputs": [],
   "source": [
    "# START TODO ################ \n",
    "# Define the model here!\n",
    "l1 = Linear(in_features=2, out_features=2)\n",
    "l2 = Relu()\n",
    "l3 = Linear(in_features=2, out_features=1)\n",
    "model = Sequential(l1, l2, l3)\n",
    "# END TODO ##################"
   ]
  },
  {
   "cell_type": "code",
   "execution_count": 56,
   "metadata": {},
   "outputs": [],
   "source": [
    "# START TODO ################\n",
    "# change the model weights\n",
    "w1 = np.ones((2,2))\n",
    "b1 = np.array([0, -1]).reshape(-1, 1)\n",
    "w2 = np.array([1, -2]).reshape(1, -1)\n",
    "b2 = 0\n",
    "# --- l1 ----\n",
    "model.modules[0].W = Parameter(data=w1, name='w1')\n",
    "model.modules[0].b = Parameter(data=b1, name='b1')\n",
    "# --- l3 ---\n",
    "model.modules[2].W = Parameter(data=w2, name='w2')\n",
    "model.modules[2].b = Parameter(data=b2, name='b2')\n",
    "# END TODO ##################"
   ]
  },
  {
   "cell_type": "code",
   "execution_count": 57,
   "metadata": {},
   "outputs": [],
   "source": [
    "# expand the shape of the input tensor\n",
    "x = np.expand_dims(X, -1)\n",
    "\n",
    "def predict(model: Module, input_data: np.ndarray, output_size: int=1) -> np.ndarray:\n",
    "  \"\"\"Propagate the input through the network and return the output.\n",
    "  Args:\n",
    "    model: Module. Sequential model representing the neural network\n",
    "    input_data: np.ndarray of shape (nr_examples, nr_features). Input data.\n",
    "    output_size: int. The output neurons in the MLP. This would be 1 for a binary classification task.\n",
    "  Returns:\n",
    "    prediction: np.ndarray of shape (nr_examples, output_size)\n",
    "  \"\"\"\n",
    "  # START TODO ################\n",
    "  # propagate the input_data through the model and reshape accordingly \n",
    "  # to (nr_examples, output_size)\n",
    "  assert input_data.ndim == 3, f'Expected input of shape (nr_examples, nr_features, 1), got {input_data.shape}'\n",
    "  prediction = model.forward(input_data).reshape(input_data.shape[0], output_size)\n",
    "  # END TODO ##################\n",
    "  return prediction"
   ]
  },
  {
   "cell_type": "code",
   "execution_count": 58,
   "metadata": {},
   "outputs": [],
   "source": [
    "prediction = predict(model, x)\n",
    "assert np.array_equal(np.ravel(prediction), np.array([0, 1, 1, 0]))"
   ]
  },
  {
   "cell_type": "code",
   "execution_count": 59,
   "metadata": {},
   "outputs": [],
   "source": [
    "loss_fn = CrossEntropyLoss()\n",
    "\n",
    "# START TODO ################\n",
    "# given the true labels Y and the predictions compute the cross entropy loss defined above\n",
    "loss = loss_fn.forward(prediction.reshape(-1,1,1), Y.reshape(-1,1,1))\n",
    "# END TODO ##################\n",
    "\n",
    "assert loss == -.0"
   ]
  },
  {
   "cell_type": "markdown",
   "metadata": {
    "colab_type": "text",
    "id": "ChWTTjPNC-rS"
   },
   "source": [
    "3) Instantiate a new sequential model with 3 hidden units this time. Assign the correct values to the model parameters such that the output of the neural network remains the same as in the model with 2 hidden units. How many minimizers does the neural network have in this case? (1.5 points)"
   ]
  },
  {
   "cell_type": "code",
   "execution_count": 60,
   "metadata": {},
   "outputs": [],
   "source": [
    "# START TODO ################ \n",
    "l1 = Linear(in_features=2, out_features=3)\n",
    "l2 = Relu()\n",
    "l3 = Linear(in_features=3, out_features=1)\n",
    "model_3units = Sequential(l1, l2, l3)\n",
    "# END TODO ##################"
   ]
  },
  {
   "cell_type": "code",
   "execution_count": 61,
   "metadata": {},
   "outputs": [],
   "source": [
    "# START TODO ################\n",
    "# change the model weights\n",
    "w1 = np.array([[1,1],[1,1],[0,0]])\n",
    "b1 = np.array([0, -1, 0]).reshape(-1, 1)\n",
    "w2 = np.array([1, -2, 1]).reshape(1, -1)\n",
    "b2 = 0\n",
    "# --- l1 ----\n",
    "model_3units.modules[0].W = Parameter(data=w1, name='w1')\n",
    "model_3units.modules[0].b = Parameter(data=b1, name='b1')\n",
    "# --- l3 ---\n",
    "model_3units.modules[2].W = Parameter(data=w2, name='w2')\n",
    "model_3units.modules[2].b = Parameter(data=b2, name='b2')\n",
    "# END TODO ##################"
   ]
  },
  {
   "cell_type": "code",
   "execution_count": 62,
   "metadata": {},
   "outputs": [
    {
     "name": "stdout",
     "output_type": "stream",
     "text": [
      "[[0]\n",
      " [1]\n",
      " [1]\n",
      " [0]]\n"
     ]
    }
   ],
   "source": [
    "prediction = predict(model_3units, x)\n",
    "print(prediction)\n",
    "\n",
    "assert np.array_equal(np.ravel(prediction), np.array([0, 1, 1, 0]))"
   ]
  },
  {
   "cell_type": "markdown",
   "metadata": {
    "colab_type": "text",
    "id": "vzidWhY_Ekqb"
   },
   "source": [
    "(BONUS): After transforming the input data into the hidden representation space, generate two plots showing the dataset in the input and representation spaces, respectively (the same as the one in Figure 6.1, [Chapter 6, Deep Learnig Book](http://www.deeplearningbook.org/contents/mlp.html)). (1.5 points)"
   ]
  },
  {
   "cell_type": "code",
   "execution_count": 63,
   "metadata": {},
   "outputs": [],
   "source": [
    "%matplotlib inline\n",
    "import matplotlib\n",
    "import matplotlib.pyplot as plt\n",
    "\n",
    "def plot(x1: np.ndarray, x2: np.ndarray, h1: np.ndarray, h2: np.ndarray, y: np.ndarray):\n",
    "  \"\"\"\n",
    "  Args:\n",
    "    x1: np.ndarray with shape (nr_examples,). First input features.\n",
    "    x2: np.ndarray with shape (nr_examples,). Second input feature.\n",
    "    h1: np.ndarray with shape (nr_examples,). First learned features.\n",
    "    h2: np.ndarray with shape (nr_examples,). Second learned feature.\n",
    "    y: np.ndarray with shape (nr_examples,). True labels.\n",
    "  \"\"\"\n",
    "  fig, ax = plt.subplots(1, 2, figsize=(14, 6))\n",
    "\n",
    "  for k, (i, j) in enumerate(zip(x1, x2)):\n",
    "    ax[0].scatter(i, j, c='b', marker=r\"${}$\".format(y[k]), s=100)\n",
    "  for k, (i, j) in enumerate(zip(h1, h2)):\n",
    "    ax[1].scatter(i, j, c='b', marker=r\"${}$\".format(y[k]), s=100)\n",
    "\n",
    "  ax[0].set_yticks([0, 1])\n",
    "  ax[0].set_xticks([0, 1])\n",
    "  ax[0].set_xlabel('x1')\n",
    "  ax[0].set_ylabel('x2')\n",
    "  ax[0].set_title(\"Original x space\")\n",
    "\n",
    "  ax[1].set_yticks([0, 1])\n",
    "  ax[1].set_xticks([0, 1, 2])\n",
    "  ax[1].set_xlabel('h1')\n",
    "  ax[1].set_ylabel('h2')\n",
    "  ax[1].set_title(\"Learned h space\")\n",
    "\n",
    "  plt.show()"
   ]
  },
  {
   "cell_type": "code",
   "execution_count": 64,
   "metadata": {},
   "outputs": [
    {
     "data": {
      "image/png": "[encoded data removed]",
      "text/plain": [
       "<Figure size 1008x432 with 2 Axes>"
      ]
     },
     "metadata": {
      "needs_background": "light"
     },
     "output_type": "display_data"
    }
   ],
   "source": [
    "def extract_hidden(full_model: Module, x: np.ndarray) -> np.ndarray:\n",
    "    \"\"\" Function to extraxt the hidden representation from a MLP.\n",
    "    Args:\n",
    "    full_model: Module. The sequential model used as a classifier\n",
    "    x: np.ndarray with shape (nr_examples, nr_features). Input examples\n",
    "    Returns:\n",
    "    h: np.ndarray with shape (nr_examples, nr_features). Hidden representation of inputs.\n",
    "    \"\"\"\n",
    "    # START TODO ################ \n",
    "    # Extract the hidden features from the sequential model defined above and\n",
    "    # compute the hidden representation after propagating the input through\n",
    "    # the first Linear layer and the ReLU function.\n",
    "    result = model.forward(np.expand_dims(x,-1))\n",
    "    hidden = model.modules[1](model.modules[1].input_cache)\n",
    "    return hidden\n",
    "    \n",
    "    # END TODO ##################\n",
    "\n",
    "h = extract_hidden(model, X)\n",
    "plot(X[:, 0], X[:, 1], h[:, 0], h[:, 1], Y.flatten())"
   ]
  },
  {
   "cell_type": "markdown",
   "metadata": {
    "colab_type": "text",
    "id": "-atiph1GueKF"
   },
   "source": [
    "** Your feedback on exercise 2: ** "
   ]
  }
 ],
 "metadata": {
  "colab": {
   "collapsed_sections": [],
   "name": "exercise02_python_mlp.ipynb",
   "provenance": [],
   "toc_visible": true
  },
  "kernelspec": {
   "display_name": "Python 3",
   "language": "python",
   "name": "python3"
  },
  "language_info": {
   "codemirror_mode": {
    "name": "ipython",
    "version": 3
   },
   "file_extension": ".py",
   "mimetype": "text/x-python",
   "name": "python",
   "nbconvert_exporter": "python",
   "pygments_lexer": "ipython3",
   "version": "3.7.3"
  }
 },
 "nbformat": 4,
 "nbformat_minor": 1
}
