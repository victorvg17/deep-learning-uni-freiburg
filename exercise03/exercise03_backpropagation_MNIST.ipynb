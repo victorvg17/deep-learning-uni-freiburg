{
 "cells": [
  {
   "cell_type": "markdown",
   "metadata": {
    "colab_type": "text",
    "id": "YJFZEFq4ueIi"
   },
   "source": [
    "# Exercise 3\n",
    "\n",
    "The exercise focuses on backpropagation. We begin with pen and paper tasks followed by code tasks which build on the previous exercise.\n"
   ]
  },
  {
   "attachments": {
    "image.png": {
     "image/png": "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"
    }
   },
   "cell_type": "markdown",
   "metadata": {},
   "source": [
    "## Pen and Paper Tasks\n",
    "\n",
    "Perform a forward and backward pass to calculate the gradients for the weights $w_0, w_1, w_2, w_s$ in the following MLP. Each node represents one unit with a weight $w_i, i \\in \\{0, 1, 2\\}$ connecting it to the previous node. The connection from unit 0 to unit 2 is called a __skip connection__, which means unit 2 receives input from two sources and thus has an additional weight $w_s$. The weighted inputs are added before the nonlinearity is applied.\n",
    "\n",
    "**![There should be an image here. If you can't see it, you probably forgot to download the mlp.png!](attachment:image.png)**\n",
    "\n",
    "We assume that we want to solve a regression task. We use an L1-loss $L(\\hat{y}, y) = |y - \\hat{y}|$\n",
    "\n",
    "The nonlinearities for the first two units are rectified linear functions/units (ReLU): $g_0(z) = g_1(z) = \\begin{cases} 0, z<0\\\\ z, else \\end{cases}$.\n",
    "\n",
    "We do not use a nonlinearity for the second unit: $g_2(z_2) = z_2$.\n",
    "\n",
    "**Note:** We use the notation of the Deep Learning book here, i.e. $z = Wx+b$. If you attended the Machine Learning course, you might be used to the different notation used in the Bishop Book, where $z$ denotes the value after applying the activation function. Here, $z$ is the value before applying the activation function.\n"
   ]
  },
  {
   "cell_type": "markdown",
   "metadata": {},
   "source": [
    "**Perform the backpropagation algorithm for the above network** (2 points)\n",
    "\n",
    "First perform the forward pass, followed by the backward pass to obtain gradients for the weights $w_0, w_1, w_2, w_s$.\n",
    "\n",
    "You can paste a scanned image of your solution to this exercise on paper into this Jupyter notebook. Or if you want to make it easier for the tutors to correct, you can also answer in Latex code in this cell. Some example Latex code is entered here to help you get started.\n",
    "\n",
    "Please assign equations/values to variables and reuse them later when possible to make your solution more readable.\n",
    "\n",
    "#### START TODO ####\n",
    "\n",
    "\\begin{align*}\n",
    "    \\frac{\\partial L}{\\partial z_2} &= \\frac{\\partial L}{\\partial \\hat{y}} \\cdot 1 \\\\\n",
    "    \\frac{\\partial L}{\\partial w_2} &= \\frac{\\partial L}{\\partial z_2} \\cdot g_1(z_1) \\\\\n",
    "    \\frac{\\partial L}{\\partial w_s} &= \\frac{\\partial L}{\\partial z_2} \\cdot g_0(z_0) \\\\\n",
    "    \\frac{\\partial L}{\\partial h_1} &= \\frac{\\partial L}{\\partial z_2} \\cdot w_2\\\\\n",
    "    \\frac{\\partial L}{\\partial z_1} &= \\frac{\\partial L}{\\partial h_1} \\cdot g_1'(z_1)\\\\\n",
    "    \\frac{\\partial L}{\\partial w_1} &= \\frac{\\partial L}{\\partial z_1} \\cdot g_0(z_0)\\\\\n",
    "    \\frac{\\partial L}{\\partial h_0} &= \\frac{\\partial L}{\\partial z_1} \\cdot w_1\\\\\n",
    "    \\frac{\\partial L}{\\partial z_0} &= \\frac{\\partial L}{\\partial h_0} \\cdot g_0'(z_0)\\\\\n",
    "    \\frac{\\partial L}{\\partial w_0} &= \\frac{\\partial L}{\\partial z_0} \\cdot X\\\\\n",
    "    z_0 &= w_0 \\cdot X\\\\\n",
    "    a_0 &= w_0 \\cdot X\\\\\n",
    "\\end{align*}   \n",
    "\n",
    "#### END TODO ####\n"
   ]
  },
  {
   "cell_type": "markdown",
   "metadata": {},
   "source": [
    "publisher = {Harold \\& Maude},"
   ]
  },
  {
   "cell_type": "markdown",
   "metadata": {},
   "source": [
    "**What difference does the skip connection make when propagating back the error?** (1 point)\n",
    "\n",
    "#### START TODO ####\n",
    "\\begin{align*}\n",
    "    z_2 &= g_1(z_1) \\cdot w_2 + g_0(z_0) \\cdot w_s\\\\\n",
    "\\end{align*}\n",
    "    \n",
    "#### END TODO ####\n"
   ]
  },
  {
   "cell_type": "markdown",
   "metadata": {},
   "source": [
    "**Calculate the gradients for the given datapoint and the given initial weights (calculating the gradients requires to calculate a forward pass first). Also calculate the weights and the loss after one gradient descent step.** (3 points)\n",
    "\n",
    "$$(x_1, y_1) = (1, -3) \\\\\n",
    "w_0 = w_1 = w_2 = w_s = 0.5 \\\\\n",
    "Learning Rate = 1 \\\\  $$\n",
    "\n",
    "#### START TODO ####\n",
    "**Forward propagation**\n",
    "\\begin{align*}\n",
    "z_0 = 0.5 \\\\\n",
    "h_0 = 0.5 \\\\\n",
    "z_1 = 0.25, \\: h_1 = 0.25\\\\ \n",
    "z_2 = 0.375 \\\\ \n",
    "\\hat{y} = 0.375 \\\\\n",
    "\\end{align*}\n",
    "\n",
    "**Backward propagation**\n",
    "\\begin{align*}\n",
    "\\frac{\\partial L}{\\partial z_2} &= 1 \\\\\n",
    "\\frac{\\partial L}{\\partial w_2} &= 0.25 \\\\\n",
    "\\frac{\\partial L}{\\partial w_s} &= 0.5 \\\\\n",
    "\\frac{\\partial L}{\\partial h_1} &= 0.5 \\\\\n",
    "\\frac{\\partial L}{\\partial z_1} &= 0.5\\\\\n",
    "\\frac{\\partial L}{\\partial w_1} &= 0.25\\\\\n",
    "\\frac{\\partial L}{\\partial h_0} &= 0.25\\\\\n",
    "\\frac{\\partial L}{\\partial z_0} &= 0.25\\\\\n",
    "\\frac{\\partial L}{\\partial w_0} &= 0.25\\\\\n",
    "\\end{align*}\n",
    "\n",
    "#### END TODO ####\n",
    "\n",
    "\n",
    "\n"
   ]
  },
  {
   "cell_type": "markdown",
   "metadata": {},
   "source": [
    "## Coding Tasks\n",
    "\n",
    "The coding tasks build on the previous exercise. We complete implementing a small feedforward neural network and then use backprop to obtain gradients and update the weights of the network for the XOR dataset as last time. We provide code for structure and utility and you have to **fill in the TODO-gaps**."
   ]
  },
  {
   "cell_type": "code",
<<<<<<< HEAD
   "execution_count": 1,
=======
   "execution_count": 376,
>>>>>>> master
   "metadata": {
    "colab": {},
    "colab_type": "code",
    "id": "4YIChkVlueIl"
   },
   "outputs": [],
   "source": [
    "# Some imports used in the code below\n",
    "from typing import Iterable, List, Optional, Tuple  # type annotations\n",
    "\n",
    "import numpy as np  # linear algebra\n",
    "import matplotlib.pyplot as plt  # plotting\n",
    "import scipy.optimize  # gradient check"
   ]
  },
  {
   "cell_type": "markdown",
   "metadata": {
    "colab_type": "text",
    "id": "o2w5-mnoueIu"
   },
   "source": [
    "In the previous exercise, you used the **Parameter** and **Module** classes and implemented their forward passes. This time you will implement their backward passes.\n",
    "\n",
    "*Note:* An additional utility module is used to check the correctness of your implementation by approximating *backward* with [finite difference approximations](https://en.wikipedia.org/wiki/Finite_difference#Relation_with_derivatives)  of *forward*. All modules operate on batches of samples. E.g. the input shape of `Linear.forward` is `(batch_size, feature_shape, 1)` (we will use the last dimension in future exercises)."
   ]
  },
  {
   "cell_type": "code",
<<<<<<< HEAD
   "execution_count": 2,
=======
   "execution_count": 377,
>>>>>>> master
   "metadata": {
    "colab": {},
    "colab_type": "code",
    "id": "8f1UWYwFueIw"
   },
   "outputs": [],
   "source": [
    "class Parameter:\n",
    "    \"\"\"A trainable parameter.\n",
    "\n",
    "    This class not only stores the value of the parameter (self.data) but also tensors/\n",
    "    properties associated with it, such as the gradient (self.grad) of the current backward\n",
    "    pass.\n",
    "    \"\"\"\n",
    "\n",
    "    def __init__(self, data: np.ndarray, grad: Optional[np.ndarray] = None, name=None):\n",
    "        self.data = data  # type: np.ndarray\n",
    "        self.grad = grad  # type: Optional[np.ndarray]\n",
    "        self.name = name  # type: Optional[str]\n",
    "        self.state_dict = dict()  # dict to store additional, optional information\n",
    "        \n",
    "        \n",
    "class Module:\n",
    "    \"\"\"The base class all network modules must inherit from.\"\"\"\n",
    "\n",
    "    def __init__(self):\n",
    "        # Cache of the input of the forward pass.\n",
    "        # We need it during the backward pass in most layers,\n",
    "        #  e.g., to compute the gradient w.r.t to the weights.\n",
    "        self.input_cache = None\n",
    "\n",
    "    def __call__(self, *args) -> np.ndarray:\n",
    "        \"\"\"Alias for forward, convenience function.\"\"\"\n",
    "        return self.forward(*args)\n",
    "\n",
    "    def forward(self, *args) -> np.ndarray:\n",
    "        \"\"\"Compute the forward pass through the module.\n",
    "\n",
    "        Args:\n",
    "           args: The inputs, e.g., the output of the previous layer.\n",
    "        \"\"\"\n",
    "        raise NotImplementedError\n",
    "\n",
    "    def backward(self, grad: np.ndarray) -> np.ndarray:\n",
    "        \"\"\"Compute the backward pass through the module.\n",
    "\n",
    "        This method computes the gradients with respect to the trainable\n",
    "        parameters and with respect to the first input.\n",
    "        If the module has trainable parameters, this method needs to update\n",
    "        the respective parameter.grad property.\n",
    "\n",
    "        Args:\n",
    "            grad: The gradient of the following layer.\n",
    "\n",
    "        Returns:\n",
    "            The gradient with respect to the first input argument. In general\n",
    "            it might be useful to return the gradients w.r.t. to all inputs, we\n",
    "            omit this here to keep things simple.\n",
    "        \"\"\"\n",
    "        raise NotImplementedError\n",
    "\n",
    "    def parameters(self) -> List[Parameter]:\n",
    "        \"\"\"Return the module parameters.\"\"\"\n",
    "        return []  # default to empty list\n",
    "\n",
    "    def check_gradients(self, input_args: Tuple[np.ndarray]):\n",
    "        \"\"\"Verify the implementation of the gradients.\n",
    "\n",
    "        This includes the gradient with respect to the input as well as the\n",
    "        gradients w.r.t. the parameters if the module contains any.\n",
    "\n",
    "        As the scipy grad check only works on scalar functions, we compute\n",
    "        the sum over the output to obtain a scalar.\n",
    "        \"\"\"\n",
    "        assert isinstance(input_args, tuple), (\n",
    "            \"input_args must be a tuple but is {}\".format(type(input_args)))\n",
    "        TOLERANCE = 1e-6\n",
    "        self.check_gradients_wrt_input(input_args, TOLERANCE)\n",
    "        self.check_gradients_wrt_params(input_args, TOLERANCE)\n",
    "\n",
    "    def _zero_grad(self):\n",
    "        \"\"\"(Re-) intialize the param's grads to 0. Helper for grad checking.\"\"\"\n",
    "        for p in self.parameters():\n",
    "            p.grad = np.zeros_like(p.data)\n",
    "\n",
    "    def check_gradients_wrt_input(self, input_args: Tuple[np.ndarray],\n",
    "                                  tolerance: float):\n",
    "        \"\"\"Verify the implementation of the module's gradient w.r.t. input.\"\"\"\n",
    "\n",
    "        def output_given_input(x: np.ndarray):\n",
    "            \"\"\"Wrap self.forward for scipy.optimize.check_grad.\"\"\"\n",
    "            # we only compute the gradient w.r.t. to the first input arg.\n",
    "            args = (x.reshape(input_args[0].shape),) + input_args[1:]\n",
    "            return np.sum(self.forward(*args))\n",
    "\n",
    "        def grad_given_input(x: np.ndarray):\n",
    "            \"\"\"Wrap self.backward for scipy.optimize.check_grad.\"\"\"\n",
    "            self._zero_grad()\n",
    "            # run self.forward to store the new input\n",
    "            args = (x.reshape(input_args[0].shape),) + input_args[1:]\n",
    "            out = self.forward(*args)\n",
    "            # compute the gradient w.r.t. to the input\n",
    "            return np.ravel(self.backward(np.ones_like(out)))\n",
    "\n",
    "        error = scipy.optimize.check_grad(\n",
    "            output_given_input, grad_given_input, np.ravel(input_args[0]))\n",
    "        num_outputs = np.prod(self.forward(*input_args).shape)\n",
    "        if np.squeeze(error) / num_outputs > tolerance:\n",
    "            raise RuntimeError(\"Check of gradient w.r.t. to input for {} failed.\"\n",
    "                               \"Error {:.4E} > {:.4E}.\"\n",
    "                               .format(self, np.squeeze(error), tolerance))\n",
    "\n",
    "    def check_gradients_wrt_params(self, input_args: Tuple[np.ndarray],\n",
    "                                   tolerance: float):\n",
    "        \"\"\"Verify the implementation of the module's gradient w.r.t. params.\"\"\"\n",
    "        for param in self.parameters():\n",
    "            def output_given_params(new_param: np.ndarray):\n",
    "                \"\"\"Wrap self.forward, change the parameters to new_param.\"\"\"\n",
    "                param.data = new_param.reshape(param.data.shape)\n",
    "                return np.sum(self.forward(*input_args))\n",
    "\n",
    "            def grad_given_params(new_param: np.ndarray):\n",
    "                self._zero_grad()\n",
    "                param.data = new_param.reshape(param.data.shape)\n",
    "                out = self.forward(*input_args)\n",
    "                # compute the gradient w.r.t. to param\n",
    "                self.backward(np.ones_like(out))\n",
    "                return np.ravel(param.grad)\n",
    "            # flatten the param as scipy can only handle 1D params\n",
    "            param_init = np.ravel(np.copy(param.data))\n",
    "            error = scipy.optimize.check_grad(output_given_params,\n",
    "                                              grad_given_params,\n",
    "                                              param_init)\n",
    "            num_outputs = np.prod(self.forward(*input_args).shape)\n",
    "            if np.squeeze(error) / num_outputs > tolerance:\n",
    "                raise RuntimeError(\"Check of gradient w.r.t. to param '{}' for\"\n",
    "                                   \"{} failed. Error {:.4E} > {:.4E}.\"\n",
    "                                   .format(param.name, self, error, tolerance))"
   ]
  },
  {
   "cell_type": "markdown",
   "metadata": {
    "colab_type": "text",
    "id": "Pvmc_mniueI2"
   },
   "source": [
    "# Nonlinearities\n",
    "\n",
    "Implement the backward passes for the *Module*s below. The *backward()* function of a *Module* receives a *grad* argument from the *Module* after it in the network and using the chain rule calculates the gradient to be passed to *Module*s before it. This way the gradient information flows backward through backpropagation. The sigmoid is already solved for you as an example.\n",
    "\n",
    "## Sigmoid\n"
   ]
  },
  {
   "cell_type": "code",
<<<<<<< HEAD
   "execution_count": 3,
=======
   "execution_count": 378,
>>>>>>> master
   "metadata": {
    "colab": {},
    "colab_type": "code",
    "id": "uLb-27dFueI4"
   },
   "outputs": [],
   "source": [
    "class Sigmoid(Module):\n",
    "    def _sigmoid(self, z: np.ndarray) -> np.ndarray:\n",
    "        return 1.0 / (1.0 + np.exp(-z))\n",
    "\n",
    "    def forward(self, z: np.ndarray) -> np.ndarray:\n",
    "        assert len(z.shape) == 3, (\"z.shape should be (batch_size, input_size, 1)\"\n",
    "                                   \" but is {}.\".format(z.shape))\n",
    "        h = self._sigmoid(z)\n",
    "        # here it's useful to store the activation \n",
    "        #  instead of the input\n",
    "        self.input_cache = h\n",
    "        \n",
    "        return h\n",
    "    \n",
    "    def backward(self, grad: np.ndarray) -> np.ndarray:\n",
    "        h = self.input_cache\n",
    "        return grad * h * (1 - h)\n"
   ]
  },
  {
   "cell_type": "markdown",
   "metadata": {
    "colab_type": "text",
    "id": "mMQ5DmToueJC"
   },
   "source": [
    "## Relu (1 point)"
   ]
  },
  {
   "cell_type": "code",
<<<<<<< HEAD
   "execution_count": 4,
=======
   "execution_count": 379,
>>>>>>> master
   "metadata": {
    "colab": {},
    "colab_type": "code",
    "id": "jBYjj761ueJD"
   },
   "outputs": [],
   "source": [
    "class Relu(Module):\n",
    "    def forward(self, z: np.ndarray) -> np.ndarray:\n",
    "        self.input_cache = z\n",
    "        return np.maximum(0, z)\n",
    "\n",
    "    def backward(self, grad: np.ndarray) -> np.ndarray:\n",
    "        z = self.input_cache\n",
<<<<<<< HEAD
    "        return grad * np.greater_equal(z, 0).astype(int)"
=======
    "        # START TODO ################\n",
    "        return grad * np.greater_equal(z, 0).astype(int)\n",
    "        # END TODO###################"
   ]
  },
  {
   "cell_type": "code",
   "execution_count": 380,
   "metadata": {},
   "outputs": [],
   "source": [
    "# --- Testing relu ---\n",
    "x = np.array([[1, -0.4,2],[-1,0.0, 3]])\n",
    "x = x.reshape(-1, 3, 1)\n",
    "relu = Relu()\n",
    "relu.forward(x)\n",
    "assert relu.backward(x).shape == (2,3,1)"
>>>>>>> master
   ]
  },
  {
   "cell_type": "markdown",
   "metadata": {
    "colab_type": "text",
    "id": "-zsNa01IueJN"
   },
   "source": [
    "## Softmax"
   ]
  },
  {
   "cell_type": "code",
<<<<<<< HEAD
   "execution_count": 5,
=======
   "execution_count": 381,
>>>>>>> master
   "metadata": {
    "colab": {},
    "colab_type": "code",
    "id": "yWZf9BhTueJP"
   },
   "outputs": [],
   "source": [
    "class Softmax(Module):\n",
    "    def _softmax(self, z):\n",
    "        # don't reduce (sum) over batch axis\n",
    "        reduction_axes = tuple(range(1, len(z.shape))) \n",
    "        \n",
    "        # Shift input for numerical stability.\n",
    "        shift_z = z - np.max(z, axis=reduction_axes, keepdims=True)\n",
    "        exps = np.exp(shift_z)\n",
    "        h = exps / np.sum(exps, axis=reduction_axes, keepdims=True)\n",
    "        return h\n",
    "    \n",
    "    def forward(self, z: np.ndarray) -> np.ndarray:\n",
    "        h = self._softmax(z)\n",
    "        return h\n",
    "\n",
    "    def backward(self, grad) -> np.ndarray:\n",
    "        error_msg = (\"Softmax doesn't need to implement a gradient here, as it's\"\n",
    "                     \"only needed in CrossEntropyLoss, where we can simplify\"\n",
    "                     \"the gradient for the combined expression.\")\n",
    "        raise NotImplementedError(error_msg)\n"
   ]
  },
  {
   "cell_type": "markdown",
   "metadata": {
    "colab_type": "text",
    "id": "JuHOIiLhueJX"
   },
   "source": [
    "# Linear Layer (2 points)\n",
    "\n",
    "Implement the backward pass for the Linear layer Module. Remember that the Linear layer holds objects of the Parameter class and you would need to update their gradients during the backward pass."
   ]
  },
  {
   "cell_type": "code",
<<<<<<< HEAD
   "execution_count": 6,
=======
   "execution_count": 382,
>>>>>>> master
   "metadata": {
    "colab": {},
    "colab_type": "code",
    "id": "inuuMNmUueJY"
   },
   "outputs": [],
   "source": [
    "class Linear(Module):\n",
    "\n",
    "    def __init__(self, in_features: int, out_features: int):\n",
    "        super().__init__()\n",
    "        \n",
    "        w_data = 0.5 * np.random.randn(out_features, in_features)\n",
    "        self.W = Parameter(w_data, None, \"W\")\n",
    "        \n",
    "        b_data = 0.01 * np.ones((out_features, 1))\n",
    "        self.b = Parameter(b_data, None, \"b\")\n",
    "        \n",
    "        self._zero_grad()\n",
    "\n",
    "    def forward(self, x: np.ndarray) -> np.ndarray:\n",
    "        assert len(x.shape) == 3, (\"x.shape should be (batch_size, input_size, 1)\"\n",
    "                                   \" but is {}.\".format(x.shape))\n",
    "        self.input_cache = x\n",
    "        # Remember: Access weight data through self.W.data\n",
    "        z = self.W.data @ x + self.b.data\n",
    "        return z\n",
    "\n",
    "    def parameters(self) -> List[Parameter]:\n",
    "        # Return all parameters of Linear\n",
    "        return self.W, self.b\n",
    "        \n",
    "    def backward(self, grad: np.ndarray) -> np.ndarray:\n",
    "        x = self.input_cache\n",
    "        # remember that input has a batch dimension when transposing, i.e.,\n",
    "        # we need to use np.transpose instead of x.T\n",
    "        x_transpose = np.transpose(x, [0, 2, 1])\n",
    "        \n",
    "        # START TODO ################ \n",
    "        self.W.grad += np.sum(np.matmul(grad, x_transpose), axis = 0)\n",
    "        self.b.grad += np.sum(grad, axis = 0)\n",
    "        return np.matmul(self.W.data.T, grad)\n",
    "        # END TODO ##################"
   ]
  },
  {
   "cell_type": "markdown",
   "metadata": {
    "colab_type": "text",
    "id": "k8FtzDUfueJd"
   },
   "source": [
    "# Cost Function\n",
    "\n",
    "## Cross Entropy (1 point)"
   ]
  },
  {
   "cell_type": "code",
<<<<<<< HEAD
   "execution_count": 7,
=======
   "execution_count": 383,
>>>>>>> master
   "metadata": {
    "colab": {},
    "colab_type": "code",
    "id": "xezzvQYTueJe"
   },
   "outputs": [],
   "source": [
    "# Define the Cross-Entropy cost functions\n",
    "class CrossEntropyLoss(Module):\n",
    "    \"\"\"Compute the cross entropy.\"\"\"\n",
    "\n",
    "    def __init__(self):\n",
    "        super().__init__()\n",
    "        self.softmax = Softmax()\n",
    "\n",
    "    def forward(self, a: np.ndarray, y: np.ndarray) -> np.ndarray:\n",
    "        \"\"\"Compute the cross entropy, mean over batch size.\"\"\"\n",
    "        a = self.softmax(a)\n",
    "        self.input_cache = a, y\n",
    "        # compute the mean over the batch\n",
    "        return -np.sum(np.log(a[y == 1])) / len(a)\n",
    "\n",
    "    def backward(self, _=None) -> np.ndarray:\n",
    "        # we introduce the argument _ here, to have a unified interface with\n",
    "        # other Module objects. This simplifies code for gradient checking. \n",
    "        # We don't need this arg.\n",
    "        a, y = self.input_cache\n",
    "        \n",
    "        # START TODO ################ \n",
    "        grad = (a-y)/a.shape[0]\n",
    "        \n",
    "        # END TODO ##################\n",
    "\n",
    "        # Recreate the batch dimension\n",
    "        grad = np.expand_dims(grad, -1)\n",
    "        \n",
    "        assert len(grad.shape) == 3, (\"CrossEntropyLoss.backward should return (batch_size, grad_size, 1)\"\n",
    "                                      \" but is {}.\".format(grad.shape))\n",
    "        return grad\n"
   ]
  },
  {
   "cell_type": "markdown",
   "metadata": {
    "colab_type": "text",
    "id": "tzJ8oxApueJi"
   },
   "source": [
    "# Sequential Network (1 point)"
   ]
  },
  {
   "cell_type": "code",
<<<<<<< HEAD
   "execution_count": 8,
=======
   "execution_count": 384,
>>>>>>> master
   "metadata": {
    "colab": {},
    "colab_type": "code",
    "id": "14vfdOnGueJk"
   },
   "outputs": [],
   "source": [
    "class Sequential(Module):\n",
    "    \"\"\"A sequential container to stack modules.\n",
    "\n",
    "    Modules will be added to it in the order they are passed to the\n",
    "    constructor.\n",
    "\n",
    "    Example network with one hidden layer:\n",
    "    model = Sequential(\n",
    "                  Linear(5,10),\n",
    "                  ReLU(),\n",
    "                  Linear(10,10),\n",
    "                )\n",
    "    \"\"\"\n",
    "    def __init__(self, *args: List[Module]):\n",
    "        super().__init__()\n",
    "        self.modules = args\n",
    "\n",
    "    def forward(self, x: np.ndarray) -> np.ndarray:\n",
    "        # Remember: module(x) is equivalent to module.forward(x)\n",
    "        for module in self.modules:\n",
    "            x = module(x)\n",
    "        return x\n",
    "\n",
    "    def backward(self, grad: np.ndarray) -> np.ndarray:\n",
    "        # START TODO ################\n",
    "        # Perform the backward pass in reverse of the order that the Modules were present in the args to\n",
    "        # the Network during its initialization. Python provieds a utility reversed() in order to reverse a list.\n",
    "        for mod in reversed(self.modules):\n",
    "            grad = mod.backward(grad)\n",
    "        # END TODO ##################\n",
    "        return grad\n",
    "\n",
    "    def parameters(self) -> List[Parameter]:\n",
    "        # iterate over modules and retrieve their parameters, iterate over\n",
    "        # parameters to flatten the list\n",
    "        return [param for module in self.modules\n",
    "                for param in module.parameters()]"
   ]
  },
  {
   "cell_type": "markdown",
   "metadata": {},
   "source": [
    "# One hot encoding\n",
    "Although binary classification for XOR can be done without using one hot encdoing, here we will be using the Softmax which allows us to be more general and perform multi-class classification of which binary classification is a special case. To handle categorical data of multiple classes, we will use the one_hot_encoding utility function defined below."
   ]
  },
  {
   "cell_type": "code",
<<<<<<< HEAD
   "execution_count": 9,
=======
   "execution_count": 385,
>>>>>>> master
   "metadata": {},
   "outputs": [],
   "source": [
    "def one_hot_encoding(y: np.ndarray, num_classes: int) -> np.ndarray:\n",
    "    \"\"\"Convert integer labels to one hot encoding.\n",
    "\n",
    "    Example: y=[1, 2] --> [[0, 1, 0], [0, 0, 1]]\n",
    "    \"\"\"\n",
    "    encoded = np.zeros(y.shape + (num_classes,))\n",
    "    encoded[np.arange(len(y)), y] = 1\n",
    "    return encoded\n",
    "\n",
    "\n",
    "y = np.array([1, 2, 0])\n",
    "np.testing.assert_equal(one_hot_encoding(y, 3), [[0, 1, 0], [0, 0, 1], [1, 0, 0]])"
   ]
  },
  {
   "cell_type": "markdown",
   "metadata": {},
   "source": [
    "# Gradient Check (1 point)\n",
    "\n",
    "Gradient checking is a useful utility to check, whether gradients obtained through finite differences and backward pass are matching. We have implemented the gradient checking in the Module class for you. As all classes we defined up to here inherit from Module, we can run `check_gradients` to check if you have implemented their backward passes correctly."
   ]
  },
  {
   "cell_type": "code",
<<<<<<< HEAD
   "execution_count": 10,
=======
   "execution_count": 386,
>>>>>>> master
   "metadata": {},
   "outputs": [],
   "source": [
    "input_vector = np.random.uniform(-1., 1., size=(2, 10, 1))\n",
    "input_args = (input_vector,)\n",
    "\n",
    "# layers + activations\n",
    "Relu().check_gradients(input_args)\n",
    "Sigmoid().check_gradients(input_args)\n",
    "Linear(10, 30).check_gradients(input_args)\n",
    "\n",
    "# START TODO ################ \n",
    "# Instantiate a Sequential network with layers: linear, sigmoid, linear and \n",
    "# perform the gradient check on it.\n",
    "# raise NotImplementedError\n",
    "input_vector = np.random.uniform(-1., 1., size=(2, 5, 1))\n",
    "input_args = (input_vector,)\n",
    "model = Sequential(\n",
    "                  Linear(5,10),\n",
    "                  Sigmoid(),\n",
    "                  Linear(10,30)\n",
    "                )\n",
    "model.check_gradients(input_args)\n",
    "# # END TODO ##################\n",
    "\n",
    "# # losses\n",
    "# input_args_losses = (one_hot_encoding(np.array([1, 2]), 3),  # a\n",
    "#                      one_hot_encoding(np.array([1, 1]), 3))  # y (ground truth)\n",
    "# CrossEntropyLoss().check_gradients(input_args_losses)"
   ]
  },
  {
   "cell_type": "markdown",
   "metadata": {
    "colab_type": "text",
    "id": "SmNlenRuueKF"
   },
   "source": [
    "# Experiments (2 points)\n",
    "\n",
    "We use the XOR dataset from last time and perform backpropagation on the 1 hidden layer model from last time, except that we now use 2 output units to perform binary classification as multi-class classification. First, perform 1 step of backprop and use the gradient you obtain to update the weights of the network. See how the parameters and their gradients change in the network. Then perform mutiple steps and see how the loss on the dataset evolves."
   ]
  },
  {
   "cell_type": "code",
<<<<<<< HEAD
   "execution_count": 11,
=======
   "execution_count": 387,
>>>>>>> master
   "metadata": {
    "colab": {},
    "colab_type": "code",
    "id": "x-YiK7YfHgXl"
   },
   "outputs": [],
   "source": [
    "# training set\n",
    "X = np.array([[0, 0],\n",
    "              [0, 1],\n",
    "              [1, 0],\n",
    "              [1, 1]])\n",
    "\n",
    "# true labels\n",
    "Y = np.array([0, 1, 1, 0],)"
   ]
  },
  {
   "cell_type": "code",
<<<<<<< HEAD
   "execution_count": 17,
=======
   "execution_count": 446,
>>>>>>> master
   "metadata": {
    "colab": {},
    "colab_type": "code",
    "id": "E71BjGgsKJOI",
    "scrolled": false
   },
   "outputs": [
    {
     "name": "stdout",
     "output_type": "stream",
     "text": [
<<<<<<< HEAD
      "Initial predictions [[0]\n",
      " [1]\n",
      " [0]\n",
      " [0]]\n",
      "Loss before any steps taken: 0.7323995725265302\n",
      "Params before:\n",
      "W\n",
      "[[ 0.76117301  0.36474961]\n",
      " [ 0.47726025 -0.3236096 ]]\n",
=======
      "Initial predictions [[1]\n",
      " [1]\n",
      " [1]\n",
      " [1]]\n",
      "Loss before any steps taken: 0.7055867295801918\n",
      "Params before:\n",
      "W\n",
      "[[ 0.43738462  0.06930911]\n",
      " [-0.08335092  0.15751375]]\n",
>>>>>>> master
      "b\n",
      "[[0.01]\n",
      " [0.01]]\n",
      "W\n",
<<<<<<< HEAD
      "[[-0.23071373  0.07653112]\n",
      " [-0.2285751  -0.77469821]]\n",
=======
      "[[-0.55504535 -0.10004096]\n",
      " [ 0.36944011 -0.08263817]]\n",
>>>>>>> master
      "b\n",
      "[[0.01]\n",
      " [0.01]]\n",
      "Grad before:\n",
      "W\n",
      "[[0. 0.]\n",
      " [0. 0.]]\n",
      "b\n",
      "[[0.]\n",
      " [0.]]\n",
      "W\n",
      "[[0. 0.]\n",
      " [0. 0.]]\n",
      "b\n",
      "[[0.]\n",
      " [0.]]\n",
      "Grad after:\n",
<<<<<<< HEAD
      "Params after:\n",
      "W\n",
      "[[ 0.76117301  0.36474961]\n",
      " [ 0.47726025 -0.3236096 ]]\n",
      "b\n",
      "[[0.01]\n",
      " [0.01]]\n",
      "W\n",
      "[[-0.23071373  0.07653112]\n",
      " [-0.2285751  -0.77469821]]\n",
      "b\n",
      "[[0.01]\n",
      " [0.01]]\n",
      "shape y: (4, 2), shape h_1: (4, 2)\n",
      "Loss after 1 step: 0.7323995725265302\n",
=======
      "W\n",
      "[[0.05073017 0.03156991]\n",
      " [0.00268675 0.00059428]]\n",
      "b\n",
      "[[0.05567716]\n",
      " [0.00277987]]\n",
      "W\n",
      "[[-0.02697008  0.00589198]\n",
      " [ 0.02697008 -0.00589198]]\n",
      "b\n",
      "[[-0.06022503]\n",
      " [ 0.06022503]]\n",
      "Params after:\n",
      "W\n",
      "[[ 0.38665445  0.0377392 ]\n",
      " [-0.08603767  0.15691947]]\n",
      "b\n",
      "[[-0.04567716]\n",
      " [ 0.00722013]]\n",
      "W\n",
      "[[-0.52807526 -0.10593294]\n",
      " [ 0.34247003 -0.07674619]]\n",
      "b\n",
      "[[ 0.07022503]\n",
      " [-0.05022503]]\n",
      "Loss after 1 step: 0.7002021973140213\n",
>>>>>>> master
      "Final predictions [[0]\n",
      " [1]\n",
      " [0]\n",
      " [1]]\n"
     ]
    },
    {
     "data": {
<<<<<<< HEAD
      "image/png": "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\n",
=======
      "text/plain": [
       "Text(0, 0.5, 'Loss')"
      ]
     },
     "execution_count": 446,
     "metadata": {},
     "output_type": "execute_result"
    },
    {
     "data": {
      "image/png": "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\n",
>>>>>>> master
      "text/plain": [
       "<Figure size 432x288 with 1 Axes>"
      ]
     },
     "metadata": {
      "needs_background": "light"
     },
     "output_type": "display_data"
    }
   ],
   "source": [
    "# Define the model here!\n",
    "linear_units = 2\n",
    "model = Sequential(Linear(2, linear_units),\n",
    "                   Relu(),\n",
    "                   Linear(linear_units, 2),\n",
    "                   )\n",
    "\n",
    "# Implement a function to reset the gradients of parameters\n",
    "def zero_grad(params) -> None:\n",
    "    \"\"\"Clear the gradients of all optimized parameters.\"\"\"\n",
    "    # START TODO ################\n",
    "    for p in params:\n",
    "            p.grad = np.zeros_like(p.data)\n",
    "    # END TODO ##################\n",
    "\n",
    "lr = 1.0\n",
    "\n",
    "x = np.expand_dims(X, -1)\n",
    "y = one_hot_encoding(Y, 2)\n",
    "\n",
    "y_predicted = model(x)\n",
    "print(\"Initial predictions\", np.argmax(y_predicted, axis=1))\n",
    "h_1 = np.squeeze(y_predicted)\n",
    "\n",
    "loss_fn = CrossEntropyLoss()\n",
    "loss = loss_fn(h_1, y)\n",
    "print(\"Loss before any steps taken:\", loss)\n",
    "print(\"Params before:\")\n",
    "for p in model.parameters():\n",
    "    print(p.name)\n",
    "    print(p.data)\n",
    "print(\"Grad before:\")\n",
    "for p in model.parameters():\n",
    "    print(p.name)\n",
    "    print(p.grad)\n",
    "# START TODO ################\n",
    "# Perform a backward pass on it to obtain the gradients and then use them to update the parameters of the network\n",
    "grad = loss_fn.backward()\n",
    "model.backward(grad)\n",
    "# END TODO ##################\n",
    "\n",
    "print(\"Grad after:\")\n",
    "print(\"Params after:\")\n",
    "for p in model.parameters():\n",
    "    print(p.name)\n",
    "    print(p.data)\n",
    "y_predicted = model(x)\n",
    "h_1 = np.squeeze(y_predicted)\n",
    "loss = loss_fn(h_1, y)\n",
    "print(f'shape y: {y.shape}, shape h_1: {h_1.shape}')\n",
    "print(\"Loss after 1 step:\", loss)\n",
    "\n",
    "loss_data = []\n",
    "for i in range(100):\n",
    "    # START TODO ################\n",
    "    # Now perform multiple steps of updating the parameters and observe the loss\n",
    "    # Code will be very similar to single step above but with one very significant change\n",
    "    zero_grad(model.parameters())\n",
    "    grad = loss_fn.backward()\n",
    "    grad = model.backward(grad)\n",
    "    for p in model.parameters():\n",
    "        p.data = p.data - lr*p.grad\n",
    "\n",
    "    \n",
    "    # END TODO ##################\n",
    "\n",
    "    y_predicted = model(x)\n",
    "    h_1 = np.squeeze(y_predicted)\n",
    "    loss = loss_fn(h_1, y)\n",
<<<<<<< HEAD
    "    loss_data.append(loss)\n",
    "#     print(\"Loss after\", i + 2, \"steps:\", loss)\n",
=======
    "    loss_history.append(loss)\n",
    "#     print(\"Loss after\", i + 2, \"steps:\", loss)\n",
    "\n",
>>>>>>> master
    "\n",
    "plt.plot(loss_data)\n",
    "plt.xlabel('iterations')\n",
    "plt.ylabel('loss')\n",
    "# Print final predictions after multiple steps of updates\n",
    "y_predicted = model(x)\n",
    "print(\"Final predictions\", np.argmax(y_predicted, axis=1))\n",
    "\n"
   ]
  },
  {
   "cell_type": "markdown",
   "metadata": {},
   "source": [
    "# Questions on experiments (2 points)\n",
    "\n",
    "**What do you observe after 1 step of updating parameters?**\n",
    "\n",
    "#### START TODO ####\n",
<<<<<<< HEAD
    "**Answer:**\n",
=======
    "**Answer:** We observe the change in the gradients from all zeros. After the first step the loss has (most of the time) decreased by a small amount in the order of 1/1000\n",
>>>>>>> master
    "#### END TODO ####\n",
    "\n",
    "**What do you observe after multiple steps of updating parameters? Does the loss always decrease? Explain why it may not.**\n",
    "\n",
    "#### START TODO ####\n",
<<<<<<< HEAD
    "**Answer:**\n",
=======
    "**Answer:** The loss history plot clearly shows that the loss is not monotonically decreasing. I can imagine that two reasons for this observation. \n",
    "1. If the learning rate is too large then the solutions will overshoot the optimal value and our loss will increase.\n",
    "2. Given that the grdient with respect to ReLU activation depends on the ReLU's input, and the fact that ReLU's input can be negavite since we are initializing the weights at random, there could be a case where both hidden units will cese to pass the gradint during the backpropogation step and hence no weights will be updated (since we are using the same input everytime) and the loss won't converge. \n",
    "\n",
>>>>>>> master
    "#### END TODO ####\n",
    "\n",
    "**Run the experiment multiple times. Do you always end up with the correct final predictions? Explain why or why not?**\n",
    "\n",
    "#### START TODO ####\n",
<<<<<<< HEAD
    "**Answer:**\n",
=======
    "**Answer:** The final prediction and the value of final loss are not always the same. This is due to the combination of factors such as use of ReLU activation (Gradient will go to zero if the input to the ReLU is negative), the random weight initialization (It is possible to select the weights in a way that the input to both ReLU's will be negative), and there is no variation in the data (so the input to the ReLU will stay negative if the weights are initialized in a certain way)\n",
>>>>>>> master
    "#### END TODO ####\n",
    "\n",
    "**What is the role of the variable lr above? When would you set it to a relatively larger value and when would you set it to a relatively smaller value? Explain.**\n",
    "\n",
    "#### START TODO ####\n",
    "**Answer:**\n",
    "#### END TODO ####\n"
   ]
  },
  {
   "cell_type": "markdown",
   "metadata": {
    "colab_type": "text",
    "id": "vzidWhY_Ekqb"
   },
   "source": [
    "(BONUS): After transforming the input data into the hidden representation space, generate two plots showing the dataset in the input and representation spaces, respectively."
   ]
  },
  {
   "cell_type": "code",
<<<<<<< HEAD
   "execution_count": 13,
=======
   "execution_count": 389,
>>>>>>> master
   "metadata": {
    "colab": {},
    "colab_type": "code",
    "id": "RsWaa2fnntSy"
   },
   "outputs": [],
   "source": [
    "%matplotlib inline\n",
    "import matplotlib\n",
    "import matplotlib.pyplot as plt\n",
    "\n",
    "def plot(x1: np.ndarray, x2: np.ndarray, h1: np.ndarray, h2: np.ndarray, y: np.ndarray):\n",
    "    \"\"\"\n",
    "    Args:\n",
    "    x1: np.ndarray with shape (nr_examples,). First input features.\n",
    "    x2: np.ndarray with shape (nr_examples,). Second input feature.\n",
    "    h1: np.ndarray with shape (nr_examples,). First learned features.\n",
    "    h2: np.ndarray with shape (nr_examples,). Second learned feature.\n",
    "    y: np.ndarray with shape (nr_examples,). True labels.\n",
    "    \"\"\"\n",
    "    fig, ax = plt.subplots(1, 2, figsize=(14, 6))\n",
    "\n",
    "    for k, (i, j) in enumerate(zip(x1, x2)):\n",
    "        ax[0].scatter(i, j, c='b', marker=r\"${}$\".format(y[k]), s=100)\n",
    "    for k, (i, j) in enumerate(zip(h1, h2)):\n",
    "        ax[1].scatter(i, j, c='b', marker=r\"${}$\".format(y[k]), s=100)\n",
    "\n",
    "    ax[0].set_xlabel('x1')\n",
    "    ax[0].set_ylabel('x2')\n",
    "    ax[0].set_title(\"Original x space\")\n",
    "\n",
    "    ax[1].set_xlabel('h1')\n",
    "    ax[1].set_ylabel('h2')\n",
    "    ax[1].set_title(\"Learned h space\")\n",
    "\n",
    "    plt.show()"
   ]
  },
  {
   "cell_type": "code",
<<<<<<< HEAD
   "execution_count": 14,
=======
   "execution_count": 390,
>>>>>>> master
   "metadata": {
    "colab": {
     "base_uri": "https://localhost:8080/",
     "height": 404
    },
    "colab_type": "code",
    "executionInfo": {
     "elapsed": 608,
     "status": "ok",
     "timestamp": 1572439387939,
     "user": {
      "displayName": "Arber Zela",
      "photoUrl": "https://lh3.googleusercontent.com/-S819W68olkc/AAAAAAAAAAI/AAAAAAAAAhw/gBWxwn5CwRE/s64/photo.jpg",
      "userId": "10640764346134349069"
     },
     "user_tz": -60
    },
    "id": "r5kvCHpNDklm",
    "outputId": "de635a47-d288-4152-ed54-156ad639990b"
   },
   "outputs": [
    {
     "data": {
<<<<<<< HEAD
      "image/png": "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\n",
=======
      "image/png": "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\n",
>>>>>>> master
      "text/plain": [
       "<Figure size 1008x432 with 2 Axes>"
      ]
     },
     "metadata": {
      "needs_background": "light"
     },
     "output_type": "display_data"
    }
   ],
   "source": [
    "def extract_hidden(full_model: Module, x: np.ndarray) -> np.ndarray:\n",
    "    \"\"\" Function to extraxt the hidden representation from a MLP.\n",
    "    Args:\n",
    "    full_model: Module. The sequential model used as a classifier\n",
    "    x: np.ndarray with shape (nr_examples, nr_features). Input examples\n",
    "    Returns:\n",
    "    h: np.ndarray with shape (nr_examples, nr_features). Hidden representation of inputs.\n",
    "    \"\"\"\n",
    "    # Extract the hidden features from the sequential model defined above and\n",
    "    # compute the hidden representation after propagating the input through\n",
    "    # the first Linear layer and the ReLU function.\n",
    "    h = Sequential(*full_model.modules[:-1])\n",
    "    h = h(np.expand_dims(x, -1)).reshape(4, 2)\n",
    "    return h\n",
    "\n",
    "h = extract_hidden(model, X)\n",
    "plot(X[:, 0], X[:, 1], h[:, 0], h[:, 1], Y.flatten())\n"
   ]
  },
  {
   "cell_type": "markdown",
   "metadata": {
    "colab_type": "text",
    "id": "-atiph1GueKF"
   },
   "source": [
    "** Your feedback on exercise 3: ** \n"
   ]
  }
 ],
 "metadata": {
  "celltoolbar": "Edit Metadata",
  "colab": {
   "collapsed_sections": [],
   "name": "exercise02_python_mlp.ipynb",
   "provenance": [],
   "toc_visible": true
  },
  "kernelspec": {
   "display_name": "Python 3",
   "language": "python",
   "name": "python3"
  },
  "language_info": {
   "codemirror_mode": {
    "name": "ipython",
    "version": 3
   },
   "file_extension": ".py",
   "mimetype": "text/x-python",
   "name": "python",
   "nbconvert_exporter": "python",
   "pygments_lexer": "ipython3",
   "version": "3.7.3"
  }
 },
 "nbformat": 4,
 "nbformat_minor": 1
}
