{
 "cells": [
  {
   "cell_type": "markdown",
   "metadata": {
    "colab_type": "text",
    "id": "YJFZEFq4ueIi"
   },
   "source": [
    "# Exercise 3\n",
    "\n",
    "The exercise focuses on backpropagation. We begin with pen and paper tasks followed by code tasks which build on the previous exercise.\n"
   ]
  },
  {
   "attachments": {
    "image.png": {
     "image/png": "[encoded data removed]"
    }
   },
   "cell_type": "markdown",
   "metadata": {},
   "source": [
    "## Pen and Paper Tasks\n",
    "\n",
    "Perform a forward and backward pass to calculate the gradients for the weights $w_0, w_1, w_2, w_s$ in the following MLP. Each node represents one unit with a weight $w_i, i \\in \\{0, 1, 2\\}$ connecting it to the previous node. The connection from unit 0 to unit 2 is called a __skip connection__, which means unit 2 receives input from two sources and thus has an additional weight $w_s$. The weighted inputs are added before the nonlinearity is applied.\n",
    "\n",
    "![image.png](attachment:image.png)\n",
    "\n",
    "We assume that we want to solve a regression task. We use an L1-loss $L(\\hat{y}, y) = |y - \\hat{y}|$\n",
    "\n",
    "The nonlinearities for the first two units are rectified linear functions/units (ReLU): $g_0(z) = g_1(z) = \\begin{cases} 0, z<0\\\\ z, else \\end{cases}$.\n",
    "\n",
    "We do not use a nonlinearity for the second unit: $g_2(z_2) = z_2$ and there are **no biases**.\n",
    "\n",
    "**Note:** We use the notation of the Deep Learning book here, i.e. $z = Wx+b$. If you attended the Machine Learning course, you might be used to the different notation used in the Bishop Book, where $z$ denotes the value after applying the activation function. Here, $z$ is the value before applying the activation function.\n"
   ]
  },
  {
   "cell_type": "markdown",
   "metadata": {},
   "source": [
    "**Perform the backpropagation algorithm for the above network** (2 points)\n",
    "\n",
    "First perform the forward pass, followed by the backward pass to obtain gradients for the weights $w_0, w_1, w_2, w_s$.\n",
    "\n",
    "You can paste a scanned image of your solution to this exercise on paper into this Jupyter notebook. Or if you want to make it easier for the tutors to correct, you can also answer in Latex code in this cell. Some example Latex code is entered here to help you get started.\n",
    "\n",
    "Please assign equations/values to variables and reuse them later when possible to make your solution more readable.\n",
    "\n",
    "#### START TODO ####\n",
    "\n",
    "\\begin{align*}\n",
    "    \\frac{\\partial L}{\\partial z_2} &= \\frac{\\partial L}{\\partial \\hat{y}} \\cdot \\dots{} \\\\\n",
    "    \\dots{} &= \\dots{} \\\\\n",
    "    \\frac{\\partial L}{\\partial w_0} &= \\dots{} \\\\\n",
    "\\end{align*}   \n",
    "\n",
    "\n",
    "\n",
    "\\begin{align*}\n",
    "    \\textbf{forward pass} &&\n",
    "    \\textbf{backward pass} \\\\\n",
    "    L(y, \\hat{y}) = |y-\\hat{y}| &&\n",
    "     \\\\\n",
    "    \\hat{y}=g_2(z_2)=z_2 &&\n",
    "    \\frac{\\partial L}{\\partial \\hat{y}} = \\begin{cases} 1, \\hat{y} > y \\\\ -1, else \\end{cases} \\\\\n",
    "    z_2 = w_2 \\cdot h_1 + w_s \\cdot h_0 &&\n",
    "    \\frac{\\partial L}{\\partial z_2} = \\frac{\\partial L}{\\partial \\hat{y}} \\cdot \\frac{\\partial \\hat{y}}{\\partial z_2} = \\frac{\\partial L}{\\partial \\hat{y}} \\cdot 1 \\\\\n",
    "    h_1 = g_1(z_1) = \\begin{cases} 0, z_1<0 \\\\ z_1, else \\end{cases} && \n",
    "    \\frac{\\partial L}{\\partial h_1} = \\frac{\\partial L}{\\partial z_2} \\cdot \\frac{\\partial z_2}{\\partial h_1} = \\frac{\\partial L}{\\partial z_2} \\cdot w_2 \\\\\n",
    "    z_1 = w_1 \\cdot h_0 &&\n",
    "    \\frac{\\partial L}{\\partial z_1} = \\frac{\\partial L}{\\partial h_1} \\cdot \\frac{\\partial h_1}{\\partial z_1} = \\frac{\\partial L}{\\partial h_1} \\cdot \\begin{cases} 0, z_1 < 0 \\\\ 1, else \\end{cases} \\\\\n",
    "    h_0 = g_0(z_0) = \\begin{cases} 0, z_0<0 \\\\ z_0, else \\end{cases} && \n",
    "    \\frac{\\partial L}{\\partial h_0} = \\frac{\\partial L}{\\partial z_2} \\cdot \\frac{\\partial z_2}{\\partial h_0} + \\frac{\\partial L}{\\partial z_1} \\cdot \\frac{\\partial z_1}{\\partial h_0} = \\frac{\\partial L}{\\partial z_2} \\cdot w_s + \\frac{\\partial L}{\\partial z_1} \\cdot w_1 \\\\\n",
    "    z_0 = w_0 \\cdot x &&\n",
    "    \\frac{\\partial L}{\\partial z_0} = \\frac{\\partial L}{\\partial h_0} \\cdot \\frac{\\partial h_0}{\\partial z_0} = \\frac{\\partial L}{\\partial h_0} \\cdot \\begin{cases} 0, z_0 < 0 \\\\ 1, else \\end{cases} \\\\\n",
    "     &&\n",
    "    \\frac{\\partial L}{\\partial w_2} = \\frac{\\partial L}{\\partial z_2} \\cdot \\frac{\\partial z_2}{\\partial w_2} = \\frac{\\partial L}{\\partial z_2} \\cdot h_1 \\\\\n",
    "     &&\n",
    "    \\frac{\\partial L}{\\partial w_s} = \\frac{\\partial L}{\\partial z_2} \\cdot \\frac{\\partial z_2}{\\partial w_s} = \\frac{\\partial L}{\\partial z_2} \\cdot h_0 \\\\\n",
    "     &&\n",
    "    \\frac{\\partial L}{\\partial w_1} = \\frac{\\partial L}{\\partial z_1} \\cdot \\frac{\\partial z_1}{\\partial w_1} = \\frac{\\partial L}{\\partial z_1} \\cdot h_0 \\\\\n",
    "     &&\n",
    "    \\frac{\\partial L}{\\partial w_0} = \\frac{\\partial L}{\\partial z_0} \\cdot \\frac{\\partial z_0}{\\partial w_0} = \\frac{\\partial L}{\\partial z_0} \\cdot x \\\\\n",
    "\\end{align*}   \n",
    "#### END TODO ####\n"
   ]
  },
  {
   "cell_type": "markdown",
   "metadata": {},
   "source": [
    "**What difference does the skip connection make when propagating back the error?** (1 point)\n",
    "\n",
    "#### START TODO ####\n",
    "**Answer:** Regarding the backpropagation, the third layer receives input from two sources, therefore the gradient flows as well from the third to the first layer in the backward pass. The result is an additional term in the corresponding equations.\n",
    "\n",
    "Regarding the effectiveness of training, this helps to reduce the (vanishing gradient problem)[https://en.wikipedia.org/wiki/Vanishing_gradient_problem] . If we have many layers in our network, the magnitude of gradients can shrink towards the first layers to a point where they basically are not trained. Skip connections help bypass this by propagating the gradient uninterrupted from the last layers. With increasingly deep networks, they are applied quite often in modern architectures.\n",
    "#### END TODO ####\n"
   ]
  },
  {
   "cell_type": "markdown",
   "metadata": {},
   "source": [
    "**Calculate the gradients for the given datapoint and the given initial weights (calculating the gradients requires to calculate a forward pass first). Also calculate the weights and the loss after one gradient descent step.** (3 points)\n",
    "\n",
    "$$(x_1, y_1) = (1, -3) \\\\\n",
    "w_0 = w_1 = w_2 = w_s = 0.5 \\\\\n",
    "Learning Rate = 1 \\\\  $$\n",
    "\n",
    "#### START TODO ####\n",
    "\\begin{align*}\n",
    "    \\textbf{forward pass} &&\n",
    "    \\textbf{backward pass} \\\\\n",
    "    L(y, \\hat{y}) = |y-\\hat{y}| = 3.375 &&\n",
    "     \\\\\n",
    "    \\hat{y}=g_2(z_2)=z_2 = 0.375 &&\n",
    "    \\frac{\\partial L}{\\partial \\hat{y}} = \\begin{cases} 1, \\hat{y} > y \\\\ -1, else \\end{cases} = 1 \\\\\n",
    "    z_2 = w_2 \\cdot h_1 + w_s \\cdot h_0 = 0.375 &&\n",
    "    \\frac{\\partial L}{\\partial z_2} = \\frac{\\partial L}{\\partial \\hat{y}} \\cdot 1 = 1 \\\\\n",
    "    h_1 = \\begin{cases} 0, z_1<0 \\\\ z_1, else \\end{cases} = 0.25 && \n",
    "    \\frac{\\partial L}{\\partial h_1} = \\frac{\\partial L}{\\partial z_2} \\cdot w_2 = 0.5 \\\\\n",
    "    z_1 = w_1 \\cdot h_0 = 0.25 &&\n",
    "    \\frac{\\partial L}{\\partial z_1} = \\frac{\\partial L}{\\partial h_1} \\cdot \\begin{cases} 0, z_1 < 0 \\\\ 1, else \\end{cases} = 0.5 \\\\\n",
    "    h_0 = \\begin{cases} 0, z_0<0 \\\\ z_0, else \\end{cases} = 0.5 && \n",
    "    \\frac{\\partial L}{\\partial h_0} = \\frac{\\partial L}{\\partial z_2} \\cdot w_s + \\frac{\\partial L}{\\partial z_1} \\cdot w_1 = 0.75 \\\\\n",
    "    z_0 = w_0 \\cdot x = 0.5 &&\n",
    "    \\frac{\\partial L}{\\partial z_0} = \\frac{\\partial L}{\\partial h_0} \\cdot \\begin{cases} 0, z_0 < 0 \\\\ 1, else \\end{cases} = 0.75 \\\\\n",
    "     &&\n",
    "    \\frac{\\partial L}{\\partial w_2} = \\frac{\\partial L}{\\partial z_2} \\cdot h_1 = 0.25 \\\\\n",
    "     &&\n",
    "    \\frac{\\partial L}{\\partial w_s} = \\frac{\\partial L}{\\partial z_2} \\cdot h_0 = 0.5 \\\\\n",
    "     &&\n",
    "    \\frac{\\partial L}{\\partial w_1} = \\frac{\\partial L}{\\partial z_1} \\cdot h_0 = 0.25 \\\\\n",
    "     &&\n",
    "    \\frac{\\partial L}{\\partial w_0} = \\frac{\\partial L}{\\partial z_0} \\cdot x = 0.75 \\\\\n",
    "\\end{align*}   \n",
    "\n",
    "$\n",
    "\\textbf{gradient descent step} \\\\\n",
    "w_2 = w_2 - 1 \\cdot 0.25 = 0.25 \\\\\n",
    "w_s = w_s - 1 \\cdot 0.5 = 0 \\\\\n",
    "w_1 = w_1 - 1 \\cdot 0.25 = 0.25 \\\\\n",
    "w_0 = w_0 - 1 \\cdot 0.75 = -0.25 \\\\\n",
    "$\n",
    "\n",
    "\\begin{align*}\n",
    "    \\textbf{forward pass} \\\\\n",
    "    L(y, \\hat{y}) = |y-\\hat{y}| = 3 \\\\\n",
    "    \\hat{y}=g_2(z_2)=z_2 = 0 \\\\\n",
    "    z_2 = w_2 \\cdot h_1 + w_s \\cdot h_0 = 0 \\\\\n",
    "    h_1 = \\begin{cases} 0, z_1<0 \\\\ z_1, else \\end{cases} = 0 \\\\\n",
    "    z_1 = w_1 \\cdot h_0 = 0 \\\\\n",
    "    h_0 = \\begin{cases} 0, z_0<0 \\\\ z_0, else \\end{cases} = 0 \\\\\n",
    "    z_0 = w_0 \\cdot x = -0.25 \\\\\n",
    "\\end{align*}   \n",
    "#### END TODO ####\n",
    "\n",
    "\n",
    "\n"
   ]
  },
  {
   "cell_type": "markdown",
   "metadata": {},
   "source": [
    "## Coding Tasks\n",
    "\n",
    "The coding tasks build on the previous exercise. We complete implementing a small feedforward neural network and then use backprop to obtain gradients and update the weights of the network for the XOR dataset as last time. We provide code for structure and utility and you have to **fill in the TODO-gaps**."
   ]
  },
  {
   "cell_type": "code",
   "execution_count": null,
   "metadata": {
    "colab": {},
    "colab_type": "code",
    "id": "4YIChkVlueIl"
   },
   "outputs": [],
   "source": [
    "# Some imports used in the code below\n",
    "from typing import Iterable, List, Optional, Tuple  # type annotations\n",
    "\n",
    "import numpy as np  # linear algebra\n",
    "import matplotlib.pyplot as plt  # plotting\n",
    "import scipy.optimize  # gradient check"
   ]
  },
  {
   "cell_type": "markdown",
   "metadata": {
    "colab_type": "text",
    "id": "o2w5-mnoueIu"
   },
   "source": [
    "In the previous exercise, you used the **Parameter** and **Module** classes and implemented their forward passes. This time you will implement their backward passes.\n",
    "\n",
    "*Note:* An additional utility module is used to check the correctness of your implementation by approximating *backward* with [finite difference approximations](https://en.wikipedia.org/wiki/Finite_difference#Relation_with_derivatives)  of *forward*. All modules operate on batches of samples. E.g. the input shape of `Linear.forward` is `(batch_size, feature_shape, 1)` (we will use the last dimension in future exercises)."
   ]
  },
  {
   "cell_type": "code",
   "execution_count": null,
   "metadata": {
    "colab": {},
    "colab_type": "code",
    "id": "8f1UWYwFueIw"
   },
   "outputs": [],
   "source": [
    "class Parameter:\n",
    "    \"\"\"A trainable parameter.\n",
    "\n",
    "    This class not only stores the value of the parameter (self.data) but also tensors/\n",
    "    properties associated with it, such as the gradient (self.grad) of the current backward\n",
    "    pass.\n",
    "    \"\"\"\n",
    "\n",
    "    def __init__(self, data: np.ndarray, grad: Optional[np.ndarray] = None, name=None):\n",
    "        self.data = data  # type: np.ndarray\n",
    "        self.grad = grad  # type: Optional[np.ndarray]\n",
    "        self.name = name  # type: Optional[str]\n",
    "        self.state_dict = dict()  # dict to store additional, optional information\n",
    "        \n",
    "        \n",
    "class Module:\n",
    "    \"\"\"The base class all network modules must inherit from.\"\"\"\n",
    "\n",
    "    def __init__(self):\n",
    "        # Cache of the input of the forward pass.\n",
    "        # We need it during the backward pass in most layers,\n",
    "        #  e.g., to compute the gradient w.r.t to the weights.\n",
    "        self.input_cache = None\n",
    "\n",
    "    def __call__(self, *args) -> np.ndarray:\n",
    "        \"\"\"Alias for forward, convenience function.\"\"\"\n",
    "        return self.forward(*args)\n",
    "\n",
    "    def forward(self, *args) -> np.ndarray:\n",
    "        \"\"\"Compute the forward pass through the module.\n",
    "\n",
    "        Args:\n",
    "           args: The inputs, e.g., the output of the previous layer.\n",
    "        \"\"\"\n",
    "        raise NotImplementedError\n",
    "\n",
    "    def backward(self, grad: np.ndarray) -> np.ndarray:\n",
    "        \"\"\"Compute the backward pass through the module.\n",
    "\n",
    "        This method computes the gradients with respect to the trainable\n",
    "        parameters and with respect to the first input.\n",
    "        If the module has trainable parameters, this method needs to update\n",
    "        the respective parameter.grad property.\n",
    "\n",
    "        Args:\n",
    "            grad: The gradient of the following layer.\n",
    "\n",
    "        Returns:\n",
    "            The gradient with respect to the first input argument. In general\n",
    "            it might be useful to return the gradients w.r.t. to all inputs, we\n",
    "            omit this here to keep things simple.\n",
    "        \"\"\"\n",
    "        raise NotImplementedError\n",
    "\n",
    "    def parameters(self) -> List[Parameter]:\n",
    "        \"\"\"Return the module parameters.\"\"\"\n",
    "        return []  # default to empty list\n",
    "\n",
    "    def check_gradients(self, input_args: Tuple[np.ndarray]):\n",
    "        \"\"\"Verify the implementation of the gradients.\n",
    "\n",
    "        This includes the gradient with respect to the input as well as the\n",
    "        gradients w.r.t. the parameters if the module contains any.\n",
    "\n",
    "        As the scipy grad check only works on scalar functions, we compute\n",
    "        the sum over the output to obtain a scalar.\n",
    "        \"\"\"\n",
    "        assert isinstance(input_args, tuple), (\n",
    "            \"input_args must be a tuple but is {}\".format(type(input_args)))\n",
    "        TOLERANCE = 1e-6\n",
    "        self.check_gradients_wrt_input(input_args, TOLERANCE)\n",
    "        self.check_gradients_wrt_params(input_args, TOLERANCE)\n",
    "\n",
    "    def _zero_grad(self):\n",
    "        \"\"\"(Re-) intialize the param's grads to 0. Helper for grad checking.\"\"\"\n",
    "        for p in self.parameters():\n",
    "            p.grad = np.zeros_like(p.data)\n",
    "\n",
    "    def check_gradients_wrt_input(self, input_args: Tuple[np.ndarray],\n",
    "                                  tolerance: float):\n",
    "        \"\"\"Verify the implementation of the module's gradient w.r.t. input.\"\"\"\n",
    "\n",
    "        def output_given_input(x: np.ndarray):\n",
    "            \"\"\"Wrap self.forward for scipy.optimize.check_grad.\"\"\"\n",
    "            # we only compute the gradient w.r.t. to the first input arg.\n",
    "            args = (x.reshape(input_args[0].shape),) + input_args[1:]\n",
    "            return np.sum(self.forward(*args))\n",
    "\n",
    "        def grad_given_input(x: np.ndarray):\n",
    "            \"\"\"Wrap self.backward for scipy.optimize.check_grad.\"\"\"\n",
    "            self._zero_grad()\n",
    "            # run self.forward to store the new input\n",
    "            args = (x.reshape(input_args[0].shape),) + input_args[1:]\n",
    "            out = self.forward(*args)\n",
    "            # compute the gradient w.r.t. to the input\n",
    "            return np.ravel(self.backward(np.ones_like(out)))\n",
    "\n",
    "        error = scipy.optimize.check_grad(\n",
    "            output_given_input, grad_given_input, np.ravel(input_args[0]))\n",
    "        num_outputs = np.prod(self.forward(*input_args).shape)\n",
    "        if np.squeeze(error) / num_outputs > tolerance:\n",
    "            raise RuntimeError(\"Check of gradient w.r.t. to input for {} failed.\"\n",
    "                               \"Error {:.4E} > {:.4E}.\"\n",
    "                               .format(self, np.squeeze(error), tolerance))\n",
    "\n",
    "    def check_gradients_wrt_params(self, input_args: Tuple[np.ndarray],\n",
    "                                   tolerance: float):\n",
    "        \"\"\"Verify the implementation of the module's gradient w.r.t. params.\"\"\"\n",
    "        for param in self.parameters():\n",
    "            def output_given_params(new_param: np.ndarray):\n",
    "                \"\"\"Wrap self.forward, change the parameters to new_param.\"\"\"\n",
    "                param.data = new_param.reshape(param.data.shape)\n",
    "                return np.sum(self.forward(*input_args))\n",
    "\n",
    "            def grad_given_params(new_param: np.ndarray):\n",
    "                self._zero_grad()\n",
    "                param.data = new_param.reshape(param.data.shape)\n",
    "                out = self.forward(*input_args)\n",
    "                # compute the gradient w.r.t. to param\n",
    "                self.backward(np.ones_like(out))\n",
    "                return np.ravel(param.grad)\n",
    "            # flatten the param as scipy can only handle 1D params\n",
    "            param_init = np.ravel(np.copy(param.data))\n",
    "            error = scipy.optimize.check_grad(output_given_params,\n",
    "                                              grad_given_params,\n",
    "                                              param_init)\n",
    "            num_outputs = np.prod(self.forward(*input_args).shape)\n",
    "            if np.squeeze(error) / num_outputs > tolerance:\n",
    "                raise RuntimeError(\"Check of gradient w.r.t. to param '{}' for\"\n",
    "                                   \"{} failed. Error {:.4E} > {:.4E}.\"\n",
    "                                   .format(param.name, self, error, tolerance))"
   ]
  },
  {
   "cell_type": "markdown",
   "metadata": {
    "colab_type": "text",
    "id": "Pvmc_mniueI2"
   },
   "source": [
    "# Nonlinearities\n",
    "\n",
    "Implement the backward passes for the *Module*s below. The *backward()* function of a *Module* receives a *grad* argument from the *Module* after it in the network and using the chain rule calculates the gradient to be passed to *Module*s before it. This way the gradient information flows backward through backpropagation.\n",
    "\n",
    "## Sigmoid (1 point)\n"
   ]
  },
  {
   "cell_type": "code",
   "execution_count": null,
   "metadata": {
    "colab": {},
    "colab_type": "code",
    "id": "uLb-27dFueI4"
   },
   "outputs": [],
   "source": [
    "class Sigmoid(Module):\n",
    "    def _sigmoid(self, z: np.ndarray) -> np.ndarray:\n",
    "        return 1.0 / (1.0 + np.exp(-z))\n",
    "\n",
    "    def forward(self, z: np.ndarray) -> np.ndarray:\n",
    "        assert len(z.shape) == 3, (\"z.shape should be (batch_size, input_size, 1)\"\n",
    "                                   \" but is {}.\".format(z.shape))\n",
    "        h = self._sigmoid(z)\n",
    "        # here it's useful to store the activation \n",
    "        #  instead of the input\n",
    "        self.input_cache = h\n",
    "        \n",
    "        return h\n",
    "    \n",
    "    def backward(self, grad: np.ndarray) -> np.ndarray:\n",
    "        h = self.input_cache\n",
    "        # START TODO ################\n",
    "        # raise NotImplementedError\n",
    "        return grad * h * (1 - h)\n",
    "        # END TODO###################"
   ]
  },
  {
   "cell_type": "markdown",
   "metadata": {
    "colab_type": "text",
    "id": "mMQ5DmToueJC"
   },
   "source": [
    "## Relu (1 point)"
   ]
  },
  {
   "cell_type": "code",
   "execution_count": null,
   "metadata": {
    "colab": {},
    "colab_type": "code",
    "id": "jBYjj761ueJD"
   },
   "outputs": [],
   "source": [
    "class Relu(Module):\n",
    "    def forward(self, z: np.ndarray) -> np.ndarray:\n",
    "        self.input_cache = z\n",
    "        return np.maximum(0, z)\n",
    "\n",
    "    def backward(self, grad: np.ndarray) -> np.ndarray:\n",
    "        z = self.input_cache\n",
    "        # START TODO ################\n",
    "        # raise NotImplementedError\n",
    "        return grad.reshape(z.shape) * np.where(z > 0, 1, 0)\n",
    "        # END TODO###################"
   ]
  },
  {
   "cell_type": "markdown",
   "metadata": {
    "colab_type": "text",
    "id": "-zsNa01IueJN"
   },
   "source": [
    "## Softmax"
   ]
  },
  {
   "cell_type": "code",
   "execution_count": null,
   "metadata": {
    "colab": {},
    "colab_type": "code",
    "id": "yWZf9BhTueJP"
   },
   "outputs": [],
   "source": [
    "class Softmax(Module):\n",
    "    def _softmax(self, z):\n",
    "        # don't reduce (sum) over batch axis\n",
    "        reduction_axes = tuple(range(1, len(z.shape))) \n",
    "        \n",
    "        # Shift input for numerical stability.\n",
    "        shift_z = z - np.max(z, axis=reduction_axes, keepdims=True)\n",
    "        exps = np.exp(shift_z)\n",
    "        h = exps / np.sum(exps, axis=reduction_axes, keepdims=True)\n",
    "        return h\n",
    "    \n",
    "    def forward(self, z: np.ndarray) -> np.ndarray:\n",
    "        h = self._softmax(z)\n",
    "        return h\n",
    "\n",
    "    def backward(self, grad) -> np.ndarray:\n",
    "        error_msg = (\"Softmax doesn't need to implement a gradient here, as it's\"\n",
    "                     \"only needed in CrossEntropyLoss, where we can simplify\"\n",
    "                     \"the gradient for the combined expression.\")\n",
    "        raise NotImplementedError(error_msg)\n"
   ]
  },
  {
   "cell_type": "markdown",
   "metadata": {
    "colab_type": "text",
    "id": "JuHOIiLhueJX"
   },
   "source": [
    "# Linear Layer (2 points)\n",
    "\n",
    "Implement the backward pass for the Linear layer Module. Remember that the Linear layer holds objects of the Parameter class and you would need to update their gradients during the backward pass."
   ]
  },
  {
   "cell_type": "code",
   "execution_count": null,
   "metadata": {
    "colab": {},
    "colab_type": "code",
    "id": "inuuMNmUueJY"
   },
   "outputs": [],
   "source": [
    "class Linear(Module):\n",
    "\n",
    "    def __init__(self, in_features: int, out_features: int):\n",
    "        super().__init__()\n",
    "        \n",
    "        w_data = 0.5 * np.random.randn(out_features, in_features)\n",
    "        self.W = Parameter(w_data, None, \"W\")\n",
    "        \n",
    "        b_data = 0.01 * np.ones((out_features, 1))\n",
    "        self.b = Parameter(b_data, None, \"b\")\n",
    "        \n",
    "        self._zero_grad()\n",
    "\n",
    "    def forward(self, x: np.ndarray) -> np.ndarray:\n",
    "        assert len(x.shape) == 3, (\"x.shape should be (batch_size, input_size, 1)\"\n",
    "                                   \" but is {}.\".format(x.shape))\n",
    "        self.input_cache = x\n",
    "        # Remember: Access weight data through self.W.data\n",
    "        z = self.W.data @ x + self.b.data\n",
    "        return z\n",
    "\n",
    "    def parameters(self) -> List[Parameter]:\n",
    "        # Return all parameters of Linear\n",
    "        return self.W, self.b\n",
    "        \n",
    "    def backward(self, grad: np.ndarray) -> np.ndarray:\n",
    "        x = self.input_cache\n",
    "        # remember that input has a batch dimension when transposing, i.e.,\n",
    "        # we need to use np.transpose instead of x.T\n",
    "        x_transpose = np.transpose(x, [0, 2, 1])\n",
    "        \n",
    "        # START TODO ################ \n",
    "        # self.W.grad += ...\n",
    "        # ...\n",
    "        # raise NotImplementedError\n",
    "        self.W.grad += np.sum(grad @ x_transpose, axis=0)\n",
    "        self.b.grad += np.sum(grad, axis=0)\n",
    "        return self.W.data.T @ grad        \n",
    "        # END TODO ##################\n"
   ]
  },
  {
   "cell_type": "markdown",
   "metadata": {
    "colab_type": "text",
    "id": "k8FtzDUfueJd"
   },
   "source": [
    "# Cost Function\n",
    "\n",
    "## Cross Entropy (1 point)"
   ]
  },
  {
   "cell_type": "code",
   "execution_count": null,
   "metadata": {
    "colab": {},
    "colab_type": "code",
    "id": "xezzvQYTueJe"
   },
   "outputs": [],
   "source": [
    "# Define the Cross-Entropy cost functions\n",
    "class CrossEntropyLoss(Module):\n",
    "    \"\"\"Compute the cross entropy.\"\"\"\n",
    "\n",
    "    def __init__(self):\n",
    "        super().__init__()\n",
    "        self.softmax = Softmax()\n",
    "\n",
    "    def forward(self, a: np.ndarray, y: np.ndarray) -> np.ndarray:\n",
    "        \"\"\"Compute the cross entropy, mean over batch size.\"\"\"\n",
    "        a = self.softmax(a)\n",
    "        self.input_cache = a, y\n",
    "        # compute the mean over the batch\n",
    "        return -np.sum(np.log(a[y == 1])) / len(a)\n",
    "\n",
    "    def backward(self, _=None) -> np.ndarray:\n",
    "        # we introduce the argument _ here, to have a unified interface with\n",
    "        # other Module objects. This simplifies code for gradient checking. \n",
    "        # We don't need this arg.\n",
    "        a, y = self.input_cache\n",
    "        \n",
    "        # START TODO ################ \n",
    "        # raise NotImplementedError\n",
    "        grad = (a - y) / len(a)\n",
    "        # END TODO ##################\n",
    "\n",
    "        # Recreate the batch dimension\n",
    "        grad = np.expand_dims(grad, -1)\n",
    "        \n",
    "        assert len(grad.shape) == 3, (\"CrossEntropyLoss.backward should return (batch_size, grad_size, 1)\"\n",
    "                                      \" but is {}.\".format(grad.shape))\n",
    "        return grad\n"
   ]
  },
  {
   "cell_type": "markdown",
   "metadata": {
    "colab_type": "text",
    "id": "tzJ8oxApueJi"
   },
   "source": [
    "# Sequential Network (1 point)"
   ]
  },
  {
   "cell_type": "code",
   "execution_count": null,
   "metadata": {
    "colab": {},
    "colab_type": "code",
    "id": "14vfdOnGueJk"
   },
   "outputs": [],
   "source": [
    "class Sequential(Module):\n",
    "    \"\"\"A sequential container to stack modules.\n",
    "\n",
    "    Modules will be added to it in the order they are passed to the\n",
    "    constructor.\n",
    "\n",
    "    Example network with one hidden layer:\n",
    "    model = Sequential(\n",
    "                  Linear(5,10),\n",
    "                  ReLU(),\n",
    "                  Linear(10,10),\n",
    "                )\n",
    "    \"\"\"\n",
    "    def __init__(self, *args: List[Module]):\n",
    "        super().__init__()\n",
    "        self.modules = args\n",
    "\n",
    "    def forward(self, x: np.ndarray) -> np.ndarray:\n",
    "        # Remember: module(x) is equivalent to module.forward(x)\n",
    "        for module in self.modules:\n",
    "            x = module(x)\n",
    "        return x\n",
    "\n",
    "    def backward(self, grad: np.ndarray) -> np.ndarray:\n",
    "        # START TODO ################\n",
    "        # Perform the backward pass in reverse of the order that the Modules were present in the args to\n",
    "        # the Network during its initialization. Python provieds a utility reversed() in order to reverse a list.\n",
    "        # raise NotImplementedError\n",
    "        for module in reversed(self.modules):\n",
    "            grad = module.backward(grad)\n",
    "        # END TODO ##################\n",
    "        return grad\n",
    "\n",
    "    def parameters(self) -> List[Parameter]:\n",
    "        # iterate over modules and retrieve their parameters, iterate over\n",
    "        # parameters to flatten the list\n",
    "        return [param for module in self.modules\n",
    "                for param in module.parameters()]"
   ]
  },
  {
   "cell_type": "markdown",
   "metadata": {},
   "source": [
    "# One hot encoding\n",
    "Although binary classification for XOR can be done without using one hot encdoing, here we will be using the Softmax which allows us to be more general and perform multi-class classification of which binary classification is a special case. To handle categorical data of multiple classes, we will use the one_hot_encoding utility function defined below."
   ]
  },
  {
   "cell_type": "code",
   "execution_count": null,
   "metadata": {},
   "outputs": [],
   "source": [
    "def one_hot_encoding(y: np.ndarray, num_classes: int) -> np.ndarray:\n",
    "    \"\"\"Convert integer labels to one hot encoding.\n",
    "\n",
    "    Example: y=[1, 2] --> [[0, 1, 0], [0, 0, 1]]\n",
    "    \"\"\"\n",
    "    encoded = np.zeros(y.shape + (num_classes,))\n",
    "    encoded[np.arange(len(y)), y] = 1\n",
    "    return encoded\n",
    "\n",
    "\n",
    "y = np.array([1, 2, 0])\n",
    "np.testing.assert_equal(one_hot_encoding(y, 3), [[0, 1, 0], [0, 0, 1], [1, 0, 0]])"
   ]
  },
  {
   "cell_type": "markdown",
   "metadata": {},
   "source": [
    "# Gradient Check (1 point)\n",
    "\n",
    "Gradient checking is a useful utility to check, whether gradients obtained through finite differences and backward pass are matching. We have implemented the gradient checking in the Module class for you. As all classes we defined up to here inherit from Module, we can run `check_gradients` to check if you have implemented their backward passes correctly."
   ]
  },
  {
   "cell_type": "code",
   "execution_count": null,
   "metadata": {},
   "outputs": [],
   "source": [
    "input_vector = np.random.uniform(-1., 1., size=(2, 10, 1))\n",
    "input_args = (input_vector,)\n",
    "\n",
    "# layers + activations\n",
    "Relu().check_gradients(input_args)\n",
    "Sigmoid().check_gradients(input_args)\n",
    "Linear(10, 30).check_gradients(input_args)\n",
    "\n",
    "# START TODO ################ \n",
    "# Instantiate a Sequential network with layers: linear, sigmoid, linear and \n",
    "# perform the gradient check on it.\n",
    "# raise NotImplementedError\n",
    "model = Sequential(Linear(10, 30),\n",
    "                   Sigmoid(),\n",
    "                   Linear(30, 10)\n",
    "                   )\n",
    "model.check_gradients(input_args)\n",
    "# END TODO ##################\n",
    "\n",
    "# losses\n",
    "input_args_losses = (one_hot_encoding(np.array([1, 2]), 3),  # a\n",
    "                     one_hot_encoding(np.array([1, 1]), 3))  # y (ground truth)\n",
    "CrossEntropyLoss().check_gradients(input_args_losses)"
   ]
  },
  {
   "cell_type": "markdown",
   "metadata": {
    "colab_type": "text",
    "id": "SmNlenRuueKF"
   },
   "source": [
    "# Experiments (2 points)\n",
    "\n",
    "We use the XOR dataset from last time and perform backpropagation on the 1 hidden layer model from last time, except that we now use 2 output units to perform binary classification as multi-class classification. First, perform 1 step of backprop and use the gradient you obtain to update the weights of the network. See how the parameters and their gradients change in the network. Then perform mutiple steps and see how the loss on the dataset evolves."
   ]
  },
  {
   "cell_type": "code",
   "execution_count": null,
   "metadata": {
    "colab": {},
    "colab_type": "code",
    "id": "x-YiK7YfHgXl"
   },
   "outputs": [],
   "source": [
    "# training set\n",
    "X = np.array([[0, 0],\n",
    "              [0, 1],\n",
    "              [1, 0],\n",
    "              [1, 1]])\n",
    "\n",
    "# true labels\n",
    "Y = np.array([0, 1, 1, 0],)"
   ]
  },
  {
   "cell_type": "code",
   "execution_count": null,
   "metadata": {
    "colab": {},
    "colab_type": "code",
    "id": "E71BjGgsKJOI",
    "scrolled": false
   },
   "outputs": [],
   "source": [
    "# Define the model here!\n",
    "linear_units = 2\n",
    "model = Sequential(Linear(2, linear_units),\n",
    "                   Relu(),\n",
    "                   Linear(linear_units, 2),\n",
    "                   )\n",
    "\n",
    "# Implement a function to reset the gradients of parameters\n",
    "def zero_grad(params) -> None:\n",
    "    \"\"\"Clear the gradients of all optimized parameters.\"\"\"\n",
    "# START TODO ################\n",
    "    for param in params:\n",
    "        assert isinstance(param, Parameter)\n",
    "        param.grad = np.zeros_like(param.data)\n",
    "# END TODO ##################\n",
    "\n",
    "lr = 1\n",
    "\n",
    "x = np.expand_dims(X, -1)\n",
    "y = one_hot_encoding(Y, 2)\n",
    "\n",
    "y_predicted = model(x)\n",
    "print(\"Initial predictions\", np.argmax(y_predicted, axis=1))\n",
    "h_1 = np.squeeze(y_predicted)\n",
    "\n",
    "loss_fn = CrossEntropyLoss()\n",
    "loss = loss_fn(h_1, y)\n",
    "print(\"Loss before any steps taken:\", loss)\n",
    "print(\"Params before:\")\n",
    "for p in model.parameters():\n",
    "    print(p.name)\n",
    "    print(p.data)\n",
    "print(\"Grad before:\")\n",
    "for p in model.parameters():\n",
    "    print(p.name)\n",
    "    print(p.grad)\n",
    "# START TODO ################\n",
    "# Perform a backward pass on it to obtain the gradients and then use them to update the parameters of the network\n",
    "grad = loss_fn.backward()\n",
    "model.backward(grad)\n",
    "\n",
    "for p in model.parameters():\n",
    "    p.data -= lr * p.grad\n",
    "# END TODO ##################\n",
    "\n",
    "print(\"Grad after:\")\n",
    "for p in model.parameters():\n",
    "    print(p.name)\n",
    "    print(p.grad)\n",
    "print(\"Params after:\")\n",
    "for p in model.parameters():\n",
    "    print(p.name)\n",
    "    print(p.data)\n",
    "y_predicted = model(x)\n",
    "h_1 = np.squeeze(y_predicted)\n",
    "loss = loss_fn(h_1, y)\n",
    "print(\"Loss after 1 step:\", loss)\n",
    "\n",
    "\n",
    "for i in range(100):\n",
    "    # START TODO ################\n",
    "    # Now perform multiple steps of updating the parameters and observe the loss\n",
    "    # Code will be very similar to single step above but with one very significant change\n",
    "    zero_grad(model.parameters())\n",
    "\n",
    "    grad = loss_fn.backward()\n",
    "    model.backward(grad)\n",
    "\n",
    "    for p in model.parameters():\n",
    "        p.data -= lr * p.grad\n",
    "    # END TODO ##################\n",
    "\n",
    "    y_predicted = model(x)\n",
    "    h_1 = np.squeeze(y_predicted)\n",
    "    loss = loss_fn(h_1, y)\n",
    "    print(\"Loss after\", i + 2, \"steps:\", loss)\n",
    "\n",
    "\n",
    "# Print final predictions after multiple steps of updates\n",
    "y_predicted = model(x)\n",
    "print(\"Final predictions\", np.argmax(y_predicted, axis=1))\n",
    "\n"
   ]
  },
  {
   "cell_type": "markdown",
   "metadata": {},
   "source": [
    "# Questions on experiments (2 points)\n",
    "\n",
    "**What do you observe after 1 step of updating parameters?**\n",
    "\n",
    "#### START TODO ####\n",
    "**Answer:** The loss went (possibly up) down as we update the parameters in the direction given by the negative gradient.\n",
    "#### END TODO ####\n",
    "\n",
    "**What do you observe after multiple steps of updating parameters? Does the loss always decrease? Explain why it may not.**\n",
    "\n",
    "#### START TODO ####\n",
    "**Answer:** The loss usually goes down as we update the parameters in the direction given by the negative gradient. But it may not always. When we are modelling non-linear functions, it may happen that gradients, which provide 1st order information about the behaviour of the function, are not enough to let us achieve a decrease in the loss function value. \n",
    "#### END TODO ####\n",
    "If the loss does decrease, then a 1st order Taylor's expansion of the function gives a good approximation to the non-linear function around the current parameter values.\n",
    "\n",
    "**Run the experiment multiple times. Do you always end up with the correct final predictions? Explain why or why not?**\n",
    "\n",
    "#### START TODO ####\n",
    "**Answer:** No, many runs tend to not give the correct predictions at the end. This could be because they got stuck in local minima or the number of update steps wasn't enough.\n",
    "#### END TODO ####\n",
    "Such phenomena can be caused due to poorly chosen hyperparameters which include network weights' initialization, learning rates, update steps among others. You can read more about it here: https://datascience.stackexchange.com/questions/11589/creating-neural-net-for-xor-function\n",
    "\n",
    "**What is the role of the variable lr above? When would you set it to a relatively larger value and when would you set it to a relatively smaller value? Explain.**\n",
    "\n",
    "#### START TODO ####\n",
    "**Answer:** It's the learning rate and it controls the size of the updates performed on the network parameters. In theory, having a larger learning rate make sense where the 1st order Taylor expansion is a good approximation to the true non-linear function and having a smaller one where it's not. We commonly also decrease it across training or schedule it in various ways. Other ways to effectively increase or decrease the learning rate may be momentum or adaptive optimizers. Many of these methods perform empirically very well in practice.\n",
    "#### END TODO ####\n"
   ]
  },
  {
   "cell_type": "markdown",
   "metadata": {
    "colab_type": "text",
    "id": "vzidWhY_Ekqb"
   },
   "source": [
    "(BONUS): After transforming the input data into the hidden representation space, generate two plots showing the dataset in the input and representation spaces, respectively."
   ]
  },
  {
   "cell_type": "code",
   "execution_count": null,
   "metadata": {
    "colab": {},
    "colab_type": "code",
    "id": "RsWaa2fnntSy"
   },
   "outputs": [],
   "source": [
    "%matplotlib inline\n",
    "import matplotlib\n",
    "import matplotlib.pyplot as plt\n",
    "\n",
    "def plot(x1: np.ndarray, x2: np.ndarray, h1: np.ndarray, h2: np.ndarray, y: np.ndarray):\n",
    "    \"\"\"\n",
    "    Args:\n",
    "    x1: np.ndarray with shape (nr_examples,). First input features.\n",
    "    x2: np.ndarray with shape (nr_examples,). Second input feature.\n",
    "    h1: np.ndarray with shape (nr_examples,). First learned features.\n",
    "    h2: np.ndarray with shape (nr_examples,). Second learned feature.\n",
    "    y: np.ndarray with shape (nr_examples,). True labels.\n",
    "    \"\"\"\n",
    "    fig, ax = plt.subplots(1, 2, figsize=(14, 6))\n",
    "\n",
    "    for k, (i, j) in enumerate(zip(x1, x2)):\n",
    "        ax[0].scatter(i, j, c='b', marker=r\"${}$\".format(y[k]), s=100)\n",
    "    for k, (i, j) in enumerate(zip(h1, h2)):\n",
    "        ax[1].scatter(i, j, c='b', marker=r\"${}$\".format(y[k]), s=100)\n",
    "\n",
    "    ax[0].set_xlabel('x1')\n",
    "    ax[0].set_ylabel('x2')\n",
    "    ax[0].set_title(\"Original x space\")\n",
    "\n",
    "    ax[1].set_xlabel('h1')\n",
    "    ax[1].set_ylabel('h2')\n",
    "    ax[1].set_title(\"Learned h space\")\n",
    "\n",
    "    plt.show()"
   ]
  },
  {
   "cell_type": "code",
   "execution_count": null,
   "metadata": {
    "colab": {
     "base_uri": "https://localhost:8080/",
     "height": 404
    },
    "colab_type": "code",
    "executionInfo": {
     "elapsed": 608,
     "status": "ok",
     "timestamp": 1572439387939,
     "user": {
      "displayName": "Arber Zela",
      "photoUrl": "https://lh3.googleusercontent.com/-S819W68olkc/AAAAAAAAAAI/AAAAAAAAAhw/gBWxwn5CwRE/s64/photo.jpg",
      "userId": "10640764346134349069"
     },
     "user_tz": -60
    },
    "id": "r5kvCHpNDklm",
    "outputId": "de635a47-d288-4152-ed54-156ad639990b"
   },
   "outputs": [],
   "source": [
    "def extract_hidden(full_model: Module, x: np.ndarray) -> np.ndarray:\n",
    "    \"\"\" Function to extraxt the hidden representation from a MLP.\n",
    "    Args:\n",
    "    full_model: Module. The sequential model used as a classifier\n",
    "    x: np.ndarray with shape (nr_examples, nr_features). Input examples\n",
    "    Returns:\n",
    "    h: np.ndarray with shape (nr_examples, nr_features). Hidden representation of inputs.\n",
    "    \"\"\"\n",
    "    # Extract the hidden features from the sequential model defined above and\n",
    "    # compute the hidden representation after propagating the input through\n",
    "    # the first Linear layer and the ReLU function.\n",
    "    h = Sequential(*full_model.modules[:-1])\n",
    "    h = h(np.expand_dims(x, -1)).reshape(4, 2)\n",
    "    return h\n",
    "\n",
    "h = extract_hidden(model, X)\n",
    "plot(X[:, 0], X[:, 1], h[:, 0], h[:, 1], Y.flatten())\n"
   ]
  },
  {
   "cell_type": "markdown",
   "metadata": {
    "colab_type": "text",
    "id": "-atiph1GueKF"
   },
   "source": [
    "** Your feedback on exercise 3: ** \n"
   ]
  }
 ],
 "metadata": {
  "celltoolbar": "Edit Metadata",
  "colab": {
   "collapsed_sections": [],
   "name": "exercise02_python_mlp.ipynb",
   "provenance": [],
   "toc_visible": true
  },
  "kernelspec": {
   "display_name": "Python 3",
   "language": "python",
   "name": "python3"
  },
  "language_info": {
   "codemirror_mode": {
    "name": "ipython",
    "version": 3
   },
   "file_extension": ".py",
   "mimetype": "text/x-python",
   "name": "python",
   "nbconvert_exporter": "python",
   "pygments_lexer": "ipython3",
   "version": "3.6.9"
  }
 },
 "nbformat": 4,
 "nbformat_minor": 1
}
