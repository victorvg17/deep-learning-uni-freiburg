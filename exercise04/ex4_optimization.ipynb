{
 "cells": [
  {
   "cell_type": "markdown",
   "metadata": {
    "colab_type": "text",
    "id": "bwu9K7vkpVt6"
   },
   "source": [
    "# Exercise 4 - Optimization\n",
    "This exercise focuses on optimization, we will\n",
    "- implement the Adam optimizer\n",
    "- compare Adam, SGD, SGD with Momentum\n",
    "- implement and analyze some learning rate schedules\n"
   ]
  },
  {
   "cell_type": "markdown",
   "metadata": {
    "colab_type": "text",
    "id": "tUqmWWybpVt8"
   },
   "source": [
    "You can **reuse the code you wrote in the last exercise, or you can use the code we provide (below)**. Just copy the relevant parts into the cell below. Please **note that we extended the `Module` class** with a state to determine whether we're training or evaluating and two functions to toggle this state. We therefore also adapted the training loop function.\n"
   ]
  },
  {
   "cell_type": "markdown",
   "metadata": {
    "colab_type": "text",
    "id": "YU003HtcpVt8"
   },
   "source": [
    "### Base classes: `Parameter` and `Module`"
   ]
  },
  {
   "cell_type": "code",
<<<<<<< HEAD
   "execution_count": 1,
=======
   "execution_count": 135,
>>>>>>> master
   "metadata": {
    "colab": {},
    "colab_type": "code",
    "id": "44t6t0pWpVt9"
   },
   "outputs": [],
   "source": [
    "from typing import Iterable, List, Optional, Tuple, Callable\n",
    "import pickle\n",
    "import gzip\n",
    "\n",
    "import numpy as np\n",
    "import matplotlib.pyplot as plt\n",
    "%matplotlib inline\n",
    "import scipy.optimize"
   ]
  },
  {
   "cell_type": "code",
<<<<<<< HEAD
   "execution_count": 2,
=======
   "execution_count": 136,
>>>>>>> master
   "metadata": {
    "colab": {},
    "colab_type": "code",
    "id": "qgTUkWWQpVuA"
   },
   "outputs": [],
   "source": [
    "class Parameter:\n",
    "    \"\"\"A trainable parameter.\n",
    "\n",
    "    This class not only stores th_solution-Copy1e value of the parameter but also tensors/\n",
    "    properties associated with it, such as the gradient of the current backward\n",
    "    pass.\n",
    "    \"\"\"\n",
    "\n",
    "    def __init__(self, data: np.ndarray, name: Optional[str] = None):\n",
    "        self.data = data\n",
    "        self.grad = None\n",
    "        self.name = name\n",
    "        self.state_dict = dict()  # dict to store additional, optional information\n",
    "\n",
    "\n",
    "class Module:\n",
    "    \"\"\"The base class all network modules must inherit from.\"\"\"\n",
    "\n",
    "    def __init__(self):\n",
    "        # Cache of the input of the forward pass.\n",
    "        # We need it during the backward pass in most layers,\n",
    "        #  e.g., to compute the gradient w.r.t to the weights.\n",
    "        self.input_cache = None\n",
    "        self.training = True\n",
    "\n",
    "    def __call__(self, *args) -> np.ndarray:\n",
    "        \"\"\"Alias for forward, convenience function.\"\"\"\n",
    "        return self.forward(*args)\n",
    "\n",
    "    def forward(self, *args) -> np.ndarray:\n",
    "        \"\"\"Compute the forward pass through the module.\n",
    "\n",
    "        Args:\n",
    "           args: The inputs, e.g., the output of the previous layer.\n",
    "        \"\"\"\n",
    "        raise NotImplementedError\n",
    "\n",
    "    def backward(self, grad: np.ndarray) -> np.ndarray:\n",
    "        \"\"\"Compute the backward pass through the module.\n",
    "\n",
    "        This method computes the gradients with respect to the trainable\n",
    "        parameters and with respect to the first input.\n",
    "        If the module has trainable parameters, this method needs to update\n",
    "        the respective parameter.grad property.\n",
    "\n",
    "        Args:\n",
    "            grad: The gradient of the following layer.\n",
    "\n",
    "        Returns:\n",
    "            The gradient with respect to the first input argument. In general\n",
    "            it might be useful to return the gradients w.r.t. to all inputs, we\n",
    "            omit this here to keep things simple.\n",
    "        \"\"\"\n",
    "        raise NotImplementedError\n",
    "\n",
    "    def parameters(self) -> List[Parameter]:\n",
    "        \"\"\"Return the module parameters.\"\"\"\n",
    "        return []  # default to empty list\n",
    "\n",
    "    def train(self, mode : bool = True) -> 'Module':\n",
    "        \"\"\"Set the module to training mode.\n",
    "\n",
    "        This only affects some Modules, such as Dropout.\n",
    "        \n",
    "        Returns:\n",
    "            self.\n",
    "        \"\"\"\n",
    "        self.training = mode\n",
    "        return self\n",
    "\n",
    "    def eval(self) -> 'Module':\n",
    "        \"\"\"Set the module to evaluation mode.\n",
    "\n",
    "        This only affects some Modules, such as Dropout.\n",
    "\n",
    "        Returns:\n",
    "            self.\n",
    "        \"\"\"\n",
    "        return self.train(False)\n",
    "\n",
    "    def check_gradients(self, input_args: Tuple[np.ndarray]):\n",
    "        \"\"\"Verify the implementation of the gradients.\n",
    "\n",
    "        This includes the gradient with respect to the input as well as the\n",
    "        gradients w.r.t. the parameters if the module contains any.\n",
    "\n",
    "        As the scipy grad check only works on scalar functions, we compute\n",
    "        the sum over the output to obtain a scalar.\n",
    "        \"\"\"\n",
    "        assert isinstance(input_args, tuple), (\n",
    "            \"input_args must be a tuple but is {}\".format(type(input_args)))\n",
    "        TOLERANCE = 1e-6\n",
    "        self.check_gradients_wrt_input(input_args, TOLERANCE)\n",
    "        self.check_gradients_wrt_params(input_args, TOLERANCE)\n",
    "\n",
    "    def _zero_grad(self):\n",
    "        \"\"\"(Re-) intialize the param's grads to 0. Helper for grad checking.\"\"\"\n",
    "        for p in self.parameters():\n",
    "            p.grad = np.zeros_like(p.data)\n",
    "\n",
    "    def check_gradients_wrt_input(self, input_args: Tuple[np.ndarray],\n",
    "                                  tolerance: float):\n",
    "        \"\"\"Verify the implementation of the module's gradient w.r.t. input.\"\"\"\n",
    "\n",
    "        def output_given_input(x: np.ndarray):\n",
    "            \"\"\"Wrap self.forward for scipy.optimize.check_grad.\"\"\"\n",
    "            # we only compute the gradient w.r.t. to the first input arg.\n",
    "            args = (x.reshape(input_args[0].shape),) + input_args[1:]\n",
    "            return np.sum(self.forward(*args))\n",
    "\n",
    "        def grad_given_input(x: np.ndarray):\n",
    "            \"\"\"Wrap self.backward for scipy.optimize.check_grad.\"\"\"\n",
    "            self._zero_grad()\n",
    "            # run self.forward to store the new input\n",
    "            args = (x.reshape(input_args[0].shape),) + input_args[1:]\n",
    "            out = self.forward(*args)\n",
    "            # compute the gradient w.r.t. to the input\n",
    "            return np.ravel(self.backward(np.ones_like(out)))\n",
    "\n",
    "        error = scipy.optimize.check_grad(\n",
    "            output_given_input, grad_given_input, np.ravel(input_args[0]))\n",
    "        num_outputs = np.prod(self.forward(*input_args).shape)\n",
    "        if np.squeeze(error) / num_outputs > tolerance:\n",
    "            raise RuntimeError(\"Check of gradient w.r.t. to input for {} failed.\"\n",
    "                               \"Error {:.4E} > {:.4E}.\"\n",
    "                               .format(self, np.squeeze(error), tolerance))\n",
    "\n",
    "    def check_gradients_wrt_params(self, input_args: Tuple[np.ndarray],\n",
    "                                   tolerance: float):\n",
    "        \"\"\"Verify the implementation of the module's gradient w.r.t. params.\"\"\"\n",
    "        for param in self.parameters():\n",
    "            def output_given_params(new_param: np.ndarray):\n",
    "                \"\"\"Wrap self.forward, change the parameters to new_param.\"\"\"\n",
    "                param.data = new_param.reshape(param.data.shape)\n",
    "                return np.sum(self.forward(*input_args))\n",
    "\n",
    "            def grad_given_params(new_param: np.ndarray):\n",
    "                self._zero_grad()\n",
    "                param.data = new_param.reshape(param.data.shape)\n",
    "                out = self.forward(*input_args)\n",
    "                # compute the gradient w.r.t. to param\n",
    "                self.backward(np.ones_like(out))\n",
    "                return np.ravel(param.grad)\n",
    "            # flatten the param as scipy can only handle 1D params\n",
    "            param_init = np.ravel(np.copy(param.data))\n",
    "            error = scipy.optimize.check_grad(output_given_params,\n",
    "                                              grad_given_params,\n",
    "                                              param_init)\n",
    "            num_outputs = np.prod(self.forward(*input_args).shape)\n",
    "            if np.squeeze(error) / num_outputs > tolerance:\n",
    "                raise RuntimeError(\"Check of gradient w.r.t. to param '{}' for\"\n",
    "                                   \"{} failed. Error {:.4E} > {:.4E}.\"\n",
    "                                   .format(param.name, self, error, tolerance))\n",
    "\n"
   ]
  },
  {
   "cell_type": "markdown",
   "metadata": {
    "colab_type": "text",
    "id": "rhqaXORSpVuC"
   },
   "source": [
    "### Activation functions: `Relu` and `Softmax`"
   ]
  },
  {
   "cell_type": "code",
<<<<<<< HEAD
   "execution_count": 3,
=======
   "execution_count": 137,
>>>>>>> master
   "metadata": {
    "colab": {},
    "colab_type": "code",
    "id": "5FDELaegpVuC"
   },
   "outputs": [],
   "source": [
    "class Softmax(Module):\n",
    "\n",
    "    def forward(self, z: np.ndarray) -> np.ndarray:\n",
    "        # Shift input for numerical stability.\n",
    "        reduction_axes = tuple(range(1, len(z.shape)))\n",
    "        shift_z = z - np.max(z, axis=reduction_axes, keepdims=True)\n",
    "        exps = np.exp(shift_z)\n",
    "        h = exps / np.sum(exps, axis=reduction_axes, keepdims=True)\n",
    "        return h\n",
    "\n",
    "    def backward(self, grad) -> np.ndarray:\n",
    "        error_msg = (\"Softmax doesn't need to implement a gradient here, as it's\"\n",
    "                     \"only needed in CrossEntropyLoss, where we can simplify\"\n",
    "                     \"the gradient for the combined expression.\")\n",
    "        raise NotImplementedError(error_msg)\n",
    "\n",
    "\n",
    "class Relu(Module):\n",
    "\n",
    "    def forward(self, z: np.ndarray) -> np.ndarray:\n",
    "        self.input_cache = z\n",
    "        return np.maximum(0, z)\n",
    "\n",
    "    def backward(self, grad: np.ndarray) -> np.ndarray:\n",
    "        z = self.input_cache\n",
    "        return grad.reshape(z.shape) * np.where(z > 0, 1, 0)"
   ]
  },
  {
   "cell_type": "markdown",
   "metadata": {
    "colab_type": "text",
    "id": "Abm03KmIpVuE"
   },
   "source": [
    "### Layers"
   ]
  },
  {
   "cell_type": "code",
<<<<<<< HEAD
   "execution_count": 4,
=======
   "execution_count": 138,
>>>>>>> master
   "metadata": {
    "colab": {},
    "colab_type": "code",
    "id": "vyBiI1bGpVuF"
   },
   "outputs": [],
   "source": [
    "class Linear(Module):\n",
    "\n",
    "    def __init__(self, in_features: int, out_features: int):\n",
    "        super().__init__()\n",
    "        self.W = Parameter(np.random.randn(out_features, in_features) * 0.01,\n",
    "                           name=\"W\")\n",
    "        self.b = Parameter(np.ones((out_features, 1)) * 0.01, name=\"b\")\n",
    "\n",
    "    def forward(self, x: np.ndarray) -> np.ndarray:\n",
    "        assert len(x.shape) == 3, (\"x.shape should be (batch_size, input_size, 1)\"\n",
    "                                   \" but is {}.\".format(x.shape))\n",
    "        self.input_cache = x\n",
    "        z = self.W.data @ x + self.b.data\n",
    "        return z\n",
    "\n",
    "    def backward(self, grad: np.ndarray) -> np.ndarray:\n",
    "        x = self.input_cache\n",
    "        # remember that we have a batch dimension when transposing, i.e.,\n",
    "        # we need to use np.transpose instead of array.T\n",
    "        self.W.grad += np.sum(grad @ np.transpose(x, [0, 2, 1]), axis=0)\n",
    "        self.b.grad += np.sum(grad, axis=0)\n",
    "        return self.W.data.T @ grad\n",
    "\n",
    "    def parameters(self) -> List[Parameter]:\n",
    "        return self.W, self.b\n",
    "\n",
    "\n",
    "class Sequential(Module):\n",
    "    \"\"\"A sequential container to stack modules.\n",
    "\n",
    "    Modules will be added to it in the order they are passed to the\n",
    "    constructor.\n",
    "\n",
    "    Example network with one hidden layer:\n",
    "    model = Sequential(\n",
    "                  Linear(5,10),\n",
    "                  ReLU(),\n",
    "                  Linear(10,10),\n",
    "                )\n",
    "    \"\"\"\n",
    "    def __init__(self, *args: List[Module]):\n",
    "        super().__init__()\n",
    "        self.modules = args\n",
    "\n",
    "    def forward(self, x: np.ndarray) -> np.ndarray:\n",
    "        for module in self.modules:\n",
    "            x = module(x)  # equivalent to module.forward(x)\n",
    "        return x\n",
    "\n",
    "    def backward(self, grad: np.ndarray) -> np.ndarray:\n",
    "        for module in reversed(self.modules):\n",
    "            grad = module.backward(grad)\n",
    "        return grad\n",
    "\n",
    "    def parameters(self) -> List[Parameter]:\n",
    "        # iterate over modules and retrieve their parameters, iterate over\n",
    "        # parameters to flatten the list\n",
    "        return [param for module in self.modules\n",
    "                for param in module.parameters()]\n",
    "    \n",
    "    def train(self, mode: bool = True) -> 'Sequential':\n",
    "        \"\"\"Set the train mode of the Sequential module and it's sub-modules.\n",
    "        \n",
    "        This only affects some modules, e.g., Dropout.\n",
    "        \n",
    "        Returns:\n",
    "            self.\n",
    "        \"\"\"\n",
    "        for module in self.modules:\n",
    "            module.train(mode)\n",
    "        return self\n",
    "\n",
    "\n",
    "def one_hot_encoding(y: np.ndarray, num_classes: int) -> np.ndarray:\n",
    "    \"\"\"Convert integer labels to one hot encoding.\n",
    "\n",
    "    Example: y=[1, 2] --> [[0, 1, 0], [0, 0, 2]]\n",
    "    \"\"\"\n",
    "    encoded = np.zeros(y.shape + (num_classes,))\n",
    "    encoded[np.arange(len(y)), y] = 1\n",
    "    return encoded"
   ]
  },
  {
   "cell_type": "markdown",
   "metadata": {
    "colab_type": "text",
    "id": "Vjcf-fNapVuH"
   },
   "source": [
    "### Optimizers"
   ]
  },
  {
   "cell_type": "code",
<<<<<<< HEAD
   "execution_count": 5,
=======
   "execution_count": 139,
>>>>>>> master
   "metadata": {
    "colab": {},
    "colab_type": "code",
    "id": "EiuJ-AcDpVuH"
   },
   "outputs": [],
   "source": [
    "class Optimizer:\n",
    "    \"\"\"The base class for optimizers.\n",
    "\n",
    "    All optimizers must implement a step() method that updates the parameters.\n",
    "    The general optimization loop then looks like this:\n",
    "\n",
    "    for inputs, targets in dataset:\n",
    "        optimizer.zero_grad()\n",
    "        outputs = model(inputs)\n",
    "        loss = loss_fn(outputs, targets)\n",
    "        loss.backward()\n",
    "        optimizer.step()\n",
    "\n",
    "    `zero_grad` initializes the gradients of the parameters to zero. This\n",
    "    allows to accumulate gradients (instead of replacing it) during\n",
    "    backpropagation, which is e.g. useful for skip connections.\n",
    "    \"\"\"\n",
    "\n",
    "    def __init__(self, params: Iterable[Parameter]):\n",
    "        \"\"\"\n",
    "        Args:\n",
    "            params: The parameters to be optimized.\n",
    "        \"\"\"\n",
    "        self._params = params\n",
    "\n",
    "    def step(self) -> None:\n",
    "        \"\"\"Update the parameters.\"\"\"\n",
    "        raise NotImplementedError\n",
    "\n",
    "    def zero_grad(self) -> None:\n",
    "        \"\"\"Clear the gradients of all optimized parameters.\"\"\"\n",
    "        for param in self._params:\n",
    "            assert isinstance(param, Parameter)\n",
    "            param.grad = np.zeros_like(param.data)\n",
    "\n",
    "\n",
    "class SGD(Optimizer):\n",
    "    \"\"\"Stochastic Gradient Descent (SGD) optimizer with optional Momentum.\"\"\"\n",
    "\n",
    "    def __init__(self, params: Iterable[Parameter], lr: float,\n",
    "                 momentum: Optional[float] = None):\n",
    "        super().__init__(params)\n",
    "        self.lr = lr\n",
    "        self.momentum = momentum\n",
    "        if momentum:\n",
    "            for param in self._params:\n",
    "                param.state_dict[\"momentum\"] = np.zeros_like(param.data)\n",
    "\n",
    "    def step(self):\n",
    "        for p in self._params:\n",
    "            if self.momentum:\n",
    "                # update the momentum\n",
    "                p.state_dict[\"momentum\"] *= self.momentum\n",
    "                p.state_dict[\"momentum\"] -= self.lr * p.grad\n",
    "                # update the parameter\n",
    "                p.data += p.state_dict[\"momentum\"]\n",
    "            else:\n",
    "                p.data -= self.lr * p.grad"
   ]
  },
  {
   "cell_type": "markdown",
   "metadata": {
    "colab_type": "text",
    "id": "ImJYZjPwpVuJ"
   },
   "source": [
    "### Loss Functions\n"
   ]
  },
  {
   "cell_type": "code",
<<<<<<< HEAD
   "execution_count": 6,
=======
   "execution_count": 140,
>>>>>>> master
   "metadata": {
    "colab": {},
    "colab_type": "code",
    "id": "KSRX4J0zpVuK"
   },
   "outputs": [],
   "source": [
    "class CrossEntropyLoss(Module):\n",
    "    \"\"\"Compute the cross entropy.\"\"\"\n",
    "\n",
    "    def __init__(self):\n",
    "        super().__init__()\n",
    "        self.softmax = Softmax()\n",
    "\n",
    "    def forward(self, a: np.ndarray, y: np.ndarray) -> np.ndarray:\n",
    "        \"\"\"Compute the cross entropy, mean over batch size.\"\"\"\n",
    "        a = self.softmax(a)\n",
    "        self.input_cache = a, y\n",
    "        # compute the mean over the batch\n",
    "        return -np.sum(np.log(a[y == 1])) / len(a)\n",
    "\n",
    "    def backward(self, _=None) -> np.ndarray:\n",
    "        # we introduce the argument _ here, to have a unified interface with\n",
    "        # other Module objects. This simplifies code for gradient checking. \n",
    "        # We don't need this arg.\n",
    "        a, y = self.input_cache\n",
    "        grad = (a - y) / len(a)\n",
    "\n",
    "        # We have to recreate the batch dimension\n",
    "        grad = np.expand_dims(grad, -1)\n",
    "        return grad"
   ]
  },
  {
   "cell_type": "markdown",
   "metadata": {
    "colab_type": "text",
    "id": "7Qxjva7UpVuM"
   },
   "source": [
    "### Training loops"
   ]
  },
  {
   "cell_type": "code",
<<<<<<< HEAD
   "execution_count": 7,
=======
   "execution_count": 141,
>>>>>>> master
   "metadata": {
    "colab": {},
    "colab_type": "code",
    "id": "HNAh8gdUpVuM"
   },
   "outputs": [],
   "source": [
    "def accuracy(y, predictions, y_is_onehot: bool = False) -> float:\n",
    "    y_predicted = np.argmax(predictions, axis=-1)\n",
    "    y = np.argmax(y, axis=-1)\n",
    "    return np.sum(np.equal(y_predicted, y)) / len(y)\n",
    "\n",
    "\n",
    "def evaluate(data, labels, model, loss_fn, batch_size):\n",
    "    predictions = []\n",
    "    eval_cost = 0.\n",
    "    data_batched = minibatched(data, batch_size)\n",
    "    labels_batched = minibatched(labels, batch_size)\n",
    "\n",
    "    for x, y in zip(data_batched, labels_batched):\n",
    "        # note that when using cross entropy loss, the softmax is included in the\n",
    "        # loss and we'd need to apply it manually here to obtain the output as probabilities.\n",
    "        # However, softmax only rescales the outputs and doesn't change the argmax,\n",
    "        # so we'll skip this here, as we're only interested in the class prediction.\n",
    "        h_1 = np.squeeze(model(x))\n",
    "        predictions.append(h_1)\n",
    "        eval_cost += loss_fn(h_1, y)\n",
    "    predictions = np.array(predictions).reshape(-1, 10)\n",
    "    eval_accuracy = accuracy(y_val, predictions, False)\n",
    "    return eval_accuracy, eval_cost\n",
    "\n",
    "\n",
    "def train(model, loss_fn, optimizer, x_train, y_train, x_val, y_val,\n",
    "          num_epochs, batch_size, scheduler=None):\n",
    "    train_costs, train_accuracies = np.zeros(num_epochs), np.zeros(num_epochs)\n",
    "    eval_costs, eval_accuracies = np.zeros(num_epochs), np.zeros(num_epochs)\n",
    "    ix = np.arange(len(x_train))\n",
    "    \n",
    "    for epoch in range(num_epochs):\n",
    "        print(\"Epoch {} / {}:\".format(epoch + 1, num_epochs))\n",
    "        training_predictions = []\n",
    "        \n",
    "        np.random.shuffle(ix)\n",
    "        x_train_batched = minibatched(x_train[ix], batch_size)\n",
    "        y_train_batched = minibatched(y_train[ix], batch_size)\n",
    "        \n",
    "        # train for one epoch\n",
    "        model.train()\n",
    "        for x_batch, y_batch in zip(x_train_batched, y_train_batched):\n",
    "            optimizer.zero_grad()\n",
    "            y_batch_predicted = model(x_batch)\n",
    "            h_1 = np.squeeze(y_batch_predicted)\n",
    "            training_predictions.append(h_1)\n",
    "            # x--x--debug--x--x #\n",
    "#             print(f' y_batch_predicted: {y_batch_predicted.shape}, h_1 shape: {h_1.shape}, y_batch shape: {y_batch.shape}')\n",
    "            loss = loss_fn(h_1, y_batch)\n",
    "            grad = loss_fn.backward()\n",
    "            model.backward(grad)\n",
    "            optimizer.step()\n",
    "            train_costs[epoch] += loss\n",
    "        if scheduler:\n",
    "            scheduler.step()\n",
    "        model.eval()\n",
    "       \n",
    "        training_predictions = np.array(training_predictions).reshape(-1, 10)\n",
    "        train_accuracies[epoch] = accuracy(y_train[ix], training_predictions, False)\n",
    "        print(\"  Training Accuracy: {:.4f}\".format(train_accuracies[epoch]))\n",
    "        print(\"  Training Cost: {:.4f}\".format(train_costs[epoch]))\n",
    "        eval_accuracies[epoch], eval_costs[epoch] = evaluate(x_val, y_val, model, loss_fn, batch_size)\n",
    "        print(\"  Eval Accuracy: {:.4f}\".format(eval_accuracies[epoch]))\n",
    "    return train_costs, train_accuracies, eval_costs, eval_accuracies"
   ]
  },
  {
   "cell_type": "markdown",
   "metadata": {
    "colab_type": "text",
    "id": "U0vFrasbpVuO"
   },
   "source": [
    "### Data Loading\n",
    "\n",
    "For this step, you will need the MNIST dataset. You can download it for example from [here](http://deeplearning.net/data/mnist/mnist.pkl.gz). Put it into the same folder as this notebook after downloading. If the link is down and you download it from somewhere else, check if it has 50000 train, 10000 validation and 10000 testing points. Please do not upload this file to your repository."
   ]
  },
  {
   "cell_type": "code",
<<<<<<< HEAD
   "execution_count": 8,
=======
   "execution_count": 142,
>>>>>>> master
   "metadata": {
    "colab": {},
    "colab_type": "code",
    "id": "l8f3GQWZpVuP"
   },
   "outputs": [
    {
     "name": "stdout",
     "output_type": "stream",
     "text": [
      "Train:\tX (50000, 784, 1)\ty (50000, 10)\n",
      "Val:\tX (10000, 784, 1)\ty (10000, 10)\n",
      "Test:\tX (10000, 784, 1)\ty (10000, 10)\n"
     ]
    }
   ],
   "source": [
    "def load_mnist_data():\n",
    "    \"\"\"Loads the data, returns training_data, validation_data, test_data.\"\"\"\n",
    "    with gzip.open('mnist.pkl.gz', 'rb') as f:\n",
    "        return pickle.load(f, encoding='latin1')\n",
    "\n",
    "\n",
    "def minibatched(data: np.ndarray, batch_size: int) -> List[np.ndarray]:\n",
    "    assert len(data) % batch_size == 0, (\"Data length {} is not multiple of batch size {}\"\n",
    "                                         .format(len(data), batch_size))\n",
    "    return data.reshape(-1, batch_size, *data.shape[1:])\n",
    "\n",
    "\n",
    "(x_train, y_train), (x_val, y_val), (x_test, y_test) = load_mnist_data()\n",
    "x_train = np.expand_dims(x_train, axis=-1)\n",
    "x_val = np.expand_dims(x_val, axis=-1)\n",
    "x_test = np.expand_dims(x_test, axis=-1)\n",
    "\n",
    "num_classes = 10\n",
    "y_train = one_hot_encoding(y_train, num_classes)\n",
    "y_val = one_hot_encoding(y_val, num_classes)\n",
    "y_test = one_hot_encoding(y_test, num_classes)\n",
    "\n",
    "print(\"Train:\\tX {}\\ty {}\\nVal:\\tX {}\\ty {}\\nTest:\\tX {}\\ty {}\".format(\n",
    "    x_train.shape, y_train.shape, x_val.shape, y_val.shape,\n",
    "    x_test.shape, y_test.shape))"
   ]
  },
  {
   "cell_type": "markdown",
   "metadata": {
    "colab_type": "text",
    "id": "5KtoInSupVuR"
   },
   "source": [
    "## Optimization"
   ]
  },
  {
   "cell_type": "markdown",
   "metadata": {
    "colab_type": "text",
    "id": "wELEYAD8pVuS"
   },
   "source": [
    "<a id='adam'></a>\n",
    "### Adam\n",
    "**Implement the step function** of the adam optimizer."
   ]
  },
  {
   "cell_type": "code",
<<<<<<< HEAD
   "execution_count": 9,
=======
   "execution_count": 143,
>>>>>>> master
   "metadata": {
    "colab": {},
    "colab_type": "code",
    "id": "Pcf8gNtIpVuS"
   },
   "outputs": [],
   "source": [
    "class Adam(Optimizer):\n",
    "\n",
    "    def __init__(self, params, lr=0.001, betas=(0.9, 0.999), eps=1e-08):\n",
    "        super().__init__(params)\n",
    "        # we stick to the pytorch API, the variable names corresponding\n",
    "        # to the DL book are given in the comments\n",
    "        self.lr = lr  # lr is called epsilon in the DL book\n",
    "        self.betas = betas  # betas are called rho in the DL book\n",
    "        self.eps = eps  # eps is called delta in the DL book\n",
    "        self.t = 0\n",
    "        for param in self._params:\n",
    "            # first order moment variables, called m in the paper\n",
    "            param.state_dict[\"s\"] = np.zeros_like(param.data)\n",
    "#             print(f'shape param.state_dict[\"s\"]: {param.state_dict[\"s\"].shape}')\n",
    "            # second order moment variables, called v in the paper\n",
    "            param.state_dict[\"r\"] = np.zeros_like(param.data)\n",
    "\n",
    "    def step(self) -> None:\n",
    "        \"\"\"Update the parameters and decaying averages of past gradients.\"\"\"\n",
    "        # START TODO ################\n",
    "        self.t += 1\n",
    "        for param in self._params:\n",
<<<<<<< HEAD
    "            param.state_dict[\"s\"] = self.betas[0]*param.state_dict[\"s\"] + (1-self.betas[0])*param.grad\n",
    "#             param.state_dict[\"r\"] = self.betas[1]*param.state_dict[\"r\"] + (1-self.betas[1])*(param.grad@param.grad)\n",
    "            param.state_dict[\"r\"] = self.betas[1]*param.state_dict[\"r\"] + (1-self.betas[1])*(param.grad*param.grad)\n",
    "            correct_bias_grad = (1/(1 - self.betas[0]**self.t)) * param.state_dict[\"s\"]\n",
    "            correct_bias_grad_sq = (1/(1 - self.betas[1]**self.t)) * param.state_dict[\"r\"]\n",
    "            delta_theta = -self.lr*correct_bias_grad/(self.eps + np.sqrt(correct_bias_grad_sq))\n",
    "            param.data += delta_theta\n",
=======
    "            param.state_dict['s'] = self.betas[0] * param.state_dict['s'] + (1 - self.betas[0]) * param.grad\n",
    "            param.state_dict['r'] = self.betas[1] * param.state_dict['r'] + (1 - self.betas[1]) * (param.grad * param.grad)\n",
    "            unbiased_s = param.state_dict['s'] / (1.0 - self.betas[0]**self.t)\n",
    "            unbiased_r = param.state_dict['r'] / (1.0 - self.betas[1]**self.t)\n",
    "            delta = (-self.lr * unbiased_s) / (self.eps + np.sqrt(unbiased_r)) \n",
    "            param.data = param.data + delta\n",
>>>>>>> master
    "        # END TODO###################\n"
   ]
  },
  {
   "cell_type": "markdown",
   "metadata": {
    "colab_type": "text",
    "id": "adtedMRmpVuU"
   },
   "source": [
    "### Compare: Adam vs SGD vs SGD with Momentum\n",
    "\n",
    "**Train three models** (30 hidden units, relu) for 10 epochs, one with *Adam*, one with *SGD* and one with *SGD with momentum*. "
   ]
  },
  {
   "cell_type": "code",
<<<<<<< HEAD
   "execution_count": 10,
=======
   "execution_count": 144,
>>>>>>> master
   "metadata": {
    "colab": {},
    "colab_type": "code",
    "id": "i8nzQjr0pVuV"
   },
   "outputs": [
    {
     "name": "stdout",
     "output_type": "stream",
     "text": [
<<<<<<< HEAD
      "Epoch 1 / 10:\n",
      "  Training Accuracy: 0.8508\n",
      "  Training Cost: 541.0937\n",
      "  Eval Accuracy: 0.9217\n",
      "Epoch 2 / 10:\n",
      "  Training Accuracy: 0.9201\n",
      "  Training Cost: 277.9896\n",
      "  Eval Accuracy: 0.9337\n",
      "Epoch 3 / 10:\n",
      "  Training Accuracy: 0.9335\n",
      "  Training Cost: 230.1011\n",
      "  Eval Accuracy: 0.9455\n",
      "Epoch 4 / 10:\n",
      "  Training Accuracy: 0.9429\n",
      "  Training Cost: 197.8785\n",
      "  Eval Accuracy: 0.9511\n",
      "Epoch 5 / 10:\n",
      "  Training Accuracy: 0.9508\n",
      "  Training Cost: 172.3453\n",
      "  Eval Accuracy: 0.9541\n",
      "Epoch 6 / 10:\n",
      "  Training Accuracy: 0.9557\n",
      "  Training Cost: 152.8994\n",
      "  Eval Accuracy: 0.9571\n",
      "Epoch 7 / 10:\n",
      "  Training Accuracy: 0.9603\n",
      "  Training Cost: 137.7737\n",
      "  Eval Accuracy: 0.9590\n",
      "Epoch 8 / 10:\n",
      "  Training Accuracy: 0.9637\n",
      "  Training Cost: 125.1575\n",
      "  Eval Accuracy: 0.9615\n",
      "Epoch 9 / 10:\n",
      "  Training Accuracy: 0.9666\n",
      "  Training Cost: 114.5361\n",
      "  Eval Accuracy: 0.9610\n",
      "Epoch 10 / 10:\n",
      "  Training Accuracy: 0.9683\n",
      "  Training Cost: 106.3326\n",
      "  Eval Accuracy: 0.9653\n"
=======
      "\n",
      "Model 1 | Optimizer: SGD\n",
      "\n",
      "Epoch 1 / 10:\n",
      "  Training Accuracy: 0.8205\n",
      "  Training Cost: 606.3008\n",
      "  Eval Accuracy: 0.9199\n",
      "Epoch 2 / 10:\n",
      "  Training Accuracy: 0.9212\n",
      "  Training Cost: 275.8922\n",
      "  Eval Accuracy: 0.9355\n",
      "Epoch 3 / 10:\n",
      "  Training Accuracy: 0.9364\n",
      "  Training Cost: 220.3904\n",
      "  Eval Accuracy: 0.9473\n",
      "Epoch 4 / 10:\n",
      "  Training Accuracy: 0.9459\n",
      "  Training Cost: 186.9990\n",
      "  Eval Accuracy: 0.9511\n",
      "Epoch 5 / 10:\n",
      "  Training Accuracy: 0.9524\n",
      "  Training Cost: 163.8241\n",
      "  Eval Accuracy: 0.9580\n",
      "Epoch 6 / 10:\n",
      "  Training Accuracy: 0.9571\n",
      "  Training Cost: 147.5332\n",
      "  Eval Accuracy: 0.9597\n",
      "Epoch 7 / 10:\n",
      "  Training Accuracy: 0.9614\n",
      "  Training Cost: 132.1642\n",
      "  Eval Accuracy: 0.9625\n",
      "Epoch 8 / 10:\n",
      "  Training Accuracy: 0.9644\n",
      "  Training Cost: 121.5645\n",
      "  Eval Accuracy: 0.9641\n",
      "Epoch 9 / 10:\n",
      "  Training Accuracy: 0.9673\n",
      "  Training Cost: 111.6374\n",
      "  Eval Accuracy: 0.9642\n",
      "Epoch 10 / 10:\n",
      "  Training Accuracy: 0.9696\n",
      "  Training Cost: 104.1782\n",
      "  Eval Accuracy: 0.9673\n",
      "\n",
      "Model 2 | Optimizer: SGD with Momentum\n",
      "\n",
      "Epoch 1 / 10:\n",
      "  Training Accuracy: 0.8897\n",
      "  Training Cost: 364.9457\n",
      "  Eval Accuracy: 0.9349\n",
      "Epoch 2 / 10:\n",
      "  Training Accuracy: 0.9427\n",
      "  Training Cost: 194.3972\n",
      "  Eval Accuracy: 0.9546\n",
      "Epoch 3 / 10:\n",
      "  Training Accuracy: 0.9512\n",
      "  Training Cost: 163.5751\n",
      "  Eval Accuracy: 0.9520\n",
      "Epoch 4 / 10:\n",
      "  Training Accuracy: 0.9556\n",
      "  Training Cost: 149.7709\n",
      "  Eval Accuracy: 0.9498\n",
      "Epoch 5 / 10:\n",
      "  Training Accuracy: 0.9599\n",
      "  Training Cost: 136.9852\n",
      "  Eval Accuracy: 0.9591\n",
      "Epoch 6 / 10:\n",
      "  Training Accuracy: 0.9634\n",
      "  Training Cost: 125.1256\n",
      "  Eval Accuracy: 0.9550\n",
      "Epoch 7 / 10:\n",
      "  Training Accuracy: 0.9636\n",
      "  Training Cost: 123.9284\n",
      "  Eval Accuracy: 0.9615\n",
      "Epoch 8 / 10:\n",
      "  Training Accuracy: 0.9659\n",
      "  Training Cost: 117.3778\n",
      "  Eval Accuracy: 0.9621\n",
      "Epoch 9 / 10:\n",
      "  Training Accuracy: 0.9674\n",
      "  Training Cost: 108.8273\n",
      "  Eval Accuracy: 0.9587\n",
      "Epoch 10 / 10:\n",
      "  Training Accuracy: 0.9708\n",
      "  Training Cost: 98.9641\n",
      "  Eval Accuracy: 0.9561\n",
      "\n",
      "Model 3 | Optimizer: Adam\n",
      "\n",
      "Epoch 1 / 10:\n",
      "  Training Accuracy: 0.9085\n",
      "  Training Cost: 299.9444\n",
      "  Eval Accuracy: 0.9455\n",
      "Epoch 2 / 10:\n",
      "  Training Accuracy: 0.9460\n",
      "  Training Cost: 183.6906\n",
      "  Eval Accuracy: 0.9545\n",
      "Epoch 3 / 10:\n",
      "  Training Accuracy: 0.9518\n",
      "  Training Cost: 161.6846\n",
      "  Eval Accuracy: 0.9570\n",
      "Epoch 4 / 10:\n",
      "  Training Accuracy: 0.9561\n",
      "  Training Cost: 145.7539\n",
      "  Eval Accuracy: 0.9570\n",
      "Epoch 5 / 10:\n",
      "  Training Accuracy: 0.9600\n",
      "  Training Cost: 135.0331\n",
      "  Eval Accuracy: 0.9575\n",
      "Epoch 6 / 10:\n",
      "  Training Accuracy: 0.9619\n",
      "  Training Cost: 125.1058\n",
      "  Eval Accuracy: 0.9495\n",
      "Epoch 7 / 10:\n",
      "  Training Accuracy: 0.9641\n",
      "  Training Cost: 121.5771\n",
      "  Eval Accuracy: 0.9567\n",
      "Epoch 8 / 10:\n",
      "  Training Accuracy: 0.9649\n",
      "  Training Cost: 118.8193\n",
      "  Eval Accuracy: 0.9584\n",
      "Epoch 9 / 10:\n",
      "  Training Accuracy: 0.9640\n",
      "  Training Cost: 118.3069\n",
      "  Eval Accuracy: 0.9537\n",
      "Epoch 10 / 10:\n",
      "  Training Accuracy: 0.9673\n",
      "  Training Cost: 111.0691\n",
      "  Eval Accuracy: 0.9590\n"
>>>>>>> master
     ]
    }
   ],
   "source": [
    "linear_units = 30\n",
    "batch_size = 50\n",
    "num_epochs = 10\n",
    "sgd_learning_rate = 0.1\n",
    "momentum = 0.9\n",
    "adam_learning_rate = 0.01\n",
    "\n",
    "# START TODO ################\n",
<<<<<<< HEAD
    "model = Sequential(Linear(784, linear_units),\n",
    "                   Relu(),\n",
    "                  Linear(linear_units, num_classes))\n",
    "loss_fn = CrossEntropyLoss()\n",
    "\n",
    "# x-x-x model Adam x-x-x # \n",
    "optimizer = Adam(model.parameters())\n",
    "train_costs_adam, train_accuracies_adam, eval_costs_adam, eval_accuracies_adam = train(model, loss_fn, optimizer, x_train, y_train, \n",
    "                                                               x_val, y_val, num_epochs, batch_size, scheduler=None)\n",
=======
    "loss_fn = CrossEntropyLoss()\n",
    "# --- model 1: SGD ---\n",
    "print(f'\\nModel 1 | Optimizer: SGD\\n')\n",
    "model_1 = Sequential(Linear(784,linear_units), Relu(), Linear(linear_units,10))\n",
    "optimizer_1 = SGD(params=model_1.parameters(), lr=sgd_learning_rate, momentum=None)\n",
    "hist_1 = train(model_1, loss_fn, optimizer_1, x_train, y_train, x_val, y_val, num_epochs, batch_size, scheduler=None)\n",
    "# # --- model 2: SGD with Momentum ---\n",
    "print(f'\\nModel 2 | Optimizer: SGD with Momentum\\n')\n",
    "model_2 = Sequential(Linear(784,linear_units), Relu(), Linear(linear_units,10))\n",
    "optimizer_2 = SGD(params=model_2.parameters(), lr=sgd_learning_rate, momentum=momentum)\n",
    "hist_2 = train(model_2, loss_fn, optimizer_2, x_train, y_train, x_val, y_val, num_epochs, batch_size, scheduler=None)\n",
    "# --- model 3: Adam ---\n",
    "print(f'\\nModel 3 | Optimizer: Adam\\n')\n",
    "model_3 = Sequential(Linear(784,linear_units), Relu(), Linear(linear_units,10))\n",
    "optimizer_3 = Adam(params=model_3.parameters(), lr=adam_learning_rate)\n",
    "hist_3 = train(model_3, loss_fn, optimizer_3, x_train, y_train, x_val, y_val, num_epochs, batch_size, scheduler=None)\n",
>>>>>>> master
    "# END TODO###################"
   ]
  },
  {
   "cell_type": "markdown",
   "metadata": {
    "colab_type": "text",
    "id": "SNlvwDUupVuX"
   },
   "source": [
    "**Create two plots**, one for the training loss curves and one for the training accuracies curves."
   ]
  },
  {
   "cell_type": "code",
<<<<<<< HEAD
   "execution_count": 11,
   "metadata": {},
   "outputs": [
    {
     "name": "stdout",
     "output_type": "stream",
     "text": [
      "Epoch 1 / 10:\n",
      "  Training Accuracy: 0.8201\n",
      "  Training Cost: 608.4646\n",
      "  Eval Accuracy: 0.9177\n",
      "Epoch 2 / 10:\n",
      "  Training Accuracy: 0.9217\n",
      "  Training Cost: 272.8338\n",
      "  Eval Accuracy: 0.9389\n",
      "Epoch 3 / 10:\n",
      "  Training Accuracy: 0.9366\n",
      "  Training Cost: 216.4835\n",
      "  Eval Accuracy: 0.9457\n",
      "Epoch 4 / 10:\n",
      "  Training Accuracy: 0.9474\n",
      "  Training Cost: 181.3719\n",
      "  Eval Accuracy: 0.9524\n",
      "Epoch 5 / 10:\n",
      "  Training Accuracy: 0.9536\n",
      "  Training Cost: 157.9143\n",
      "  Eval Accuracy: 0.9601\n",
      "Epoch 6 / 10:\n",
      "  Training Accuracy: 0.9587\n",
      "  Training Cost: 141.9338\n",
      "  Eval Accuracy: 0.9612\n",
      "Epoch 7 / 10:\n",
      "  Training Accuracy: 0.9619\n",
      "  Training Cost: 129.7142\n",
      "  Eval Accuracy: 0.9614\n",
      "Epoch 8 / 10:\n",
      "  Training Accuracy: 0.9652\n",
      "  Training Cost: 118.8659\n",
      "  Eval Accuracy: 0.9625\n",
      "Epoch 9 / 10:\n",
      "  Training Accuracy: 0.9678\n",
      "  Training Cost: 110.3699\n",
      "  Eval Accuracy: 0.9641\n",
      "Epoch 10 / 10:\n",
      "  Training Accuracy: 0.9699\n",
      "  Training Cost: 103.1084\n",
      "  Eval Accuracy: 0.9657\n"
     ]
    }
   ],
   "source": [
    "# START TODO ################\n",
    "model = Sequential(Linear(784, linear_units),\n",
    "                   Relu(),\n",
    "                  Linear(linear_units, num_classes))\n",
    "loss_fn = CrossEntropyLoss()\n",
    "\n",
    "# x-x-x model SGD without momentum x-x-x # \n",
    "# (self, params: Iterable[Parameter], lr: float,\n",
    "#                  momentum: Optional[float] = None)\n",
    "optimizer = SGD(model.parameters(), sgd_learning_rate)\n",
    "train_costs_sgd, train_accuracies_sgd, eval_costs_sgd, eval_accuracies_sgd = train(model, loss_fn, optimizer, x_train, y_train, \n",
    "                                                               x_val, y_val, num_epochs, batch_size, scheduler=None)\n",
    "# END TODO###################"
   ]
  },
  {
   "cell_type": "code",
   "execution_count": 12,
   "metadata": {},
   "outputs": [
    {
     "name": "stdout",
     "output_type": "stream",
     "text": [
      "Epoch 1 / 10:\n",
      "  Training Accuracy: 0.8905\n",
      "  Training Cost: 349.4977\n",
      "  Eval Accuracy: 0.9428\n",
      "Epoch 2 / 10:\n",
      "  Training Accuracy: 0.9426\n",
      "  Training Cost: 194.4032\n",
      "  Eval Accuracy: 0.9515\n",
      "Epoch 3 / 10:\n",
      "  Training Accuracy: 0.9519\n",
      "  Training Cost: 158.9159\n",
      "  Eval Accuracy: 0.9519\n",
      "Epoch 4 / 10:\n",
      "  Training Accuracy: 0.9571\n",
      "  Training Cost: 145.5081\n",
      "  Eval Accuracy: 0.9570\n",
      "Epoch 5 / 10:\n",
      "  Training Accuracy: 0.9602\n",
      "  Training Cost: 136.3686\n",
      "  Eval Accuracy: 0.9538\n",
      "Epoch 6 / 10:\n",
      "  Training Accuracy: 0.9622\n",
      "  Training Cost: 128.4928\n",
      "  Eval Accuracy: 0.9599\n",
      "Epoch 7 / 10:\n",
      "  Training Accuracy: 0.9634\n",
      "  Training Cost: 122.8909\n",
      "  Eval Accuracy: 0.9566\n",
      "Epoch 8 / 10:\n",
      "  Training Accuracy: 0.9653\n",
      "  Training Cost: 117.6197\n",
      "  Eval Accuracy: 0.9601\n",
      "Epoch 9 / 10:\n",
      "  Training Accuracy: 0.9658\n",
      "  Training Cost: 117.1912\n",
      "  Eval Accuracy: 0.9595\n",
      "Epoch 10 / 10:\n",
      "  Training Accuracy: 0.9682\n",
      "  Training Cost: 106.8233\n",
      "  Eval Accuracy: 0.9567\n"
     ]
    }
   ],
   "source": [
    "model = Sequential(Linear(784, linear_units),\n",
    "                   Relu(),\n",
    "                  Linear(linear_units, num_classes))\n",
    "loss_fn = CrossEntropyLoss()\n",
    "\n",
    "# x-x-x model SGD with momentum x-x-x # \n",
    "optimizer = SGD(model.parameters(), lr = sgd_learning_rate, momentum = momentum)\n",
    "train_costs_sgd_mtm, train_accuracies_sgd_mtm, eval_costs_sgd_mtm, eval_accuracies_sgd_mtm = train(model, loss_fn, optimizer, x_train, y_train, \n",
    "                                                               x_val, y_val, num_epochs, batch_size, scheduler=None)\n",
    "# END TODO###################"
   ]
  },
  {
   "cell_type": "code",
   "execution_count": 14,
   "metadata": {},
=======
   "execution_count": 145,
   "metadata": {
    "colab": {},
    "colab_type": "code",
    "id": "9XHi1YIfpVuX"
   },
>>>>>>> master
   "outputs": [
    {
     "data": {
      "text/plain": [
<<<<<<< HEAD
       "Text(0, 0.5, 'training accuracy')"
      ]
     },
     "execution_count": 14,
=======
       "<matplotlib.legend.Legend at 0x102a79e940>"
      ]
     },
     "execution_count": 145,
>>>>>>> master
     "metadata": {},
     "output_type": "execute_result"
    },
    {
     "data": {
<<<<<<< HEAD
      "image/png": "iVBORw0KGgoAAAANSUhEUgAAAfQAAAFzCAYAAADIY/vqAAAABHNCSVQICAgIfAhkiAAAAAlwSFlzAAALEgAACxIB0t1+/AAAADh0RVh0U29mdHdhcmUAbWF0cGxvdGxpYiB2ZXJzaW9uMy4xLjAsIGh0dHA6Ly9tYXRwbG90bGliLm9yZy+17YcXAAAgAElEQVR4nOzdd3yV5f3/8deVCWEEApGVsDeEEDaJCikOyFHAtlpnUWtx10mt/Vr1+9V+v1Vx1J/WUQdaLVqtCgriAiyy994zIYwwwgoj4/r9cZ0sSCDAGRnv5+NxHuec+77PuT8H++g7131d93UZay0iIiJStYUEuwARERE5fwp0ERGRakCBLiIiUg0o0EVERKoBBbqIiEg1oEAXERGpBsKCXcD5aNy4sW3dunWwyxAREQmIhQsX7rHWxpa1r0oHeuvWrVmwYEGwyxAREQkIY8zW8vbpkruIiEg1oEAXERGpBhToIiIi1UCV7kMXETkfubm5ZGRkcOzYsWCXIlJKrVq1iIuLIzw8vMKfUaCLSI2VkZFBvXr1aN26NcaYYJcjAoC1lr1795KRkUGbNm0q/DldcheRGuvYsWM0atRIYS6VijGGRo0anfWVIwW6iNRoCnOpjM7lf5cKdBGRIMnOzuZvf/vbOX02LS2N7OxsH1d0ei+99BI5OTnl7s/KyiI8PJw33nij3GPGjRvHPffc44/yajwFuohIkJwu0PPz80/72cmTJ9OgQQN/lFWuMwX6J598woABAxg/fnwAq5JCCnQRkSD5wx/+wMaNG+nZsydjxoxh+vTppKamcv3115OQkADAyJEj6d27N926dePNN98s+mzr1q3Zs2cPW7ZsoUuXLvz2t7+lW7duXHbZZRw9evSUc+3atYurrrqKxMREEhMTmTVrFgAvvPAC3bt3p3v37rz00ksAHDlyBI/HQ2JiIt27d+fjjz/m5ZdfJjMzk9TUVFJTU8v8PePHj+f5558nIyOD7du3F21/99136dixI4MGDWLmzJlF27/88kv69+9PUlISl1xyCbt27QLgySefZNSoUVx22WW0bt2azz77jN///vckJCQwdOhQcnNzz/NfvnrSKHcREeD++2HJEt9+Z8+e4M3IMv3lL39hxYoVLPGeePr06cybN48VK1YUjW5+5513iImJ4ejRo/Tt25df/OIXNGrUqNT3rF+/nvHjx/P3v/+da665hn//+9/ceOONpY753e9+x6BBg/j888/Jz8/n8OHDLFy4kHfffZe5c+diraV///4MGjSITZs20bx5cyZNmgTAgQMHiI6O5oUXXmDatGk0btz4lN+Snp7Ozp076devH9dccw0ff/wxDz74IDt27OCJJ55g4cKFREdHk5qaSlJSEgAXXnghc+bMwRjDW2+9xbPPPsvzzz8PwMaNG5k2bRqrVq1i4MCB/Pvf/+bZZ5/lqquuYtKkSYwcOfLc/qNUY2qhe+0+sptPV32KtTbYpYhIDdavX79Styq9/PLLJCYmMmDAANLT01m/fv0pn2nTpg09e/YEoHfv3mzZsuWUY6ZOncqdd94JQGhoKNHR0fz0009cddVV1KlTh7p16/Lzn/+cGTNmkJCQwPfff88jjzzCjBkziI6OPmPdH330Eddccw0A1157bdFl97lz5zJ48GBiY2OJiIjgV7/6VdFnMjIyuPzyy0lISOC5555j5cqVRfuGDRtGeHg4CQkJ5OfnM3ToUAASEhLK/H2iFnqRL9Z8we1f3c66e9bRoVGHYJcjIgF2upZ0INWpU6fo9fTp0/n++++ZPXs2UVFRDB48uMxbmSIjI4teh4aGlnnJvSzlNWA6duzIwoULmTx5Mo8++iiXXXYZjz/++Gm/a/z48ezatYsPP/wQgMzMzKI/PsobsX3vvffy4IMPMnz4cKZPn86TTz55ym8KCQkhPDy86DtCQkLIy8ur0O+radRC90qJTwFgVvqsIFciIjVFvXr1OHToULn7Dxw4QMOGDYmKimLNmjXMmTPnnM81ZMgQXnvtNcANuDt48CAXX3wxX3zxBTk5ORw5coTPP/+ciy66iMzMTKKiorjxxht5+OGHWbRo0WnrXbt2LUeOHGH79u1s2bKFLVu28Oijj/LRRx/Rv39/pk+fzt69e8nNzeWTTz4p9ftatGgBwHvvvXfOv00cvwa6MaaBMeZTY8waY8xqY8xAY0yMMeY7Y8x673ND77HGGPOyMWaDMWaZMaaXP2s7WZfYLjSo1YCZ6TPPfLCIiA80atSIlJQUunfvzpgxY07ZP3ToUPLy8ujRowd/+tOfGDBgwDmf669//SvTpk0jISGB3r17s3LlSnr16sXNN99Mv3796N+/P7fddhtJSUksX76cfv360bNnT/785z/z2GOPATB69GiGDRt2yqC48ePHc9VVV5Xa9otf/ILx48fTrFkznnzySQYOHMgll1xCr17F/9f+5JNPcvXVV3PRRReV2S8vZ8f4s8/YGPMeMMNa+5YxJgKIAv4I7LPW/sUY8wegobX2EWNMGnAvkAb0B/5qre1/uu/v06eP9eV66GkfprHtwDZW3LXCZ98pIpXX6tWr6dKlS7DLEClTWf/7NMYstNb2Ket4v7XQjTH1gYuBtwGstSestdnACKDw2sp7QOFQxRHA+9aZAzQwxjTzV31lSYlPYWXWSvYf3R/I04qIiJw3f15ybwtkAe8aYxYbY94yxtQBmlhrdwB4ny/wHt8CSC/x+QzvtlKMMaONMQuMMQuysrJ8WnByfDIAszNm+/R7RURE/M2fgR4G9AJes9YmAUeAP5zm+LKGQZ7SH2CtfdNa28da2yc2NtY3lXr1a9GPUBOqgXEiIlLl+DPQM4AMa+1c7/tPcQG/q/BSuvd5d4nj40t8Pg7I9GN9p6gTUYekZkkaGCciIlWO3wLdWrsTSDfGdPJuGgKsAiYCo7zbRgETvK8nAr/2jnYfABwovDQfSMlxyczbPo/cfE0tKCIiVYe/70O/F/jQGLMM6An8L/AX4FJjzHrgUu97gMnAJmAD8HfgLj/XVqaUlink5OawdNfSYJxeRETknPg10K21S7z93T2stSOttfuttXuttUOstR28z/u8x1pr7d3W2nbW2gRrre/uRzsLhQPjZm7TZXcR8a/qtHzqV199RVJSEomJiXTt2rXUEqoffPABPXr0oFu3biQmJnLbbbcV1T548GA6depEjx496Ny5M/fcc0/Af1d1oZniThJXP46W0S2ZlaGBcSLiX9Vl+dTc3FxGjx7Nl19+ydKlS1m8eDGDBw8GYMqUKbz44ot8/fXXrFy5kkWLFpGcnFy0shrAhx9+yLJly1i2bBmRkZGMGDEiUD+pWlGglyElPoWZ22ZqoRYR8avqsnzqoUOHyMvLK1oFLjIykk6d3PCpP//5z4wdO7ZoitfQ0FBuvfXWov0lRURE8Oyzz7Jt2zaWLlW359nS4ixlSI5PZvyK8Ww7sI1WDVoFuxwRCYD7p9zPkp2+XT+1Z9OevDS0/FVfqsvyqTExMQwfPpxWrVoxZMgQrrjiCq677jpCQkKKppitqNDQUBITE1mzZg2JiYkV/pyohV4mLdQiIsFSVZdPfeutt/jhhx/o168fY8eO5dZbbz3lmOXLl9OzZ0/atWvHxx9/XO536erouVELvQwJTRKoE16HmekzuS7humCXIyIBcLqWdCBV1eVTwa1VnpCQwE033USbNm0YN24c3bp1Y9GiRaSmppKQkMCSJUu45557yq0xPz+f5cuXa479c6AWehnCQsIYEDdALXQR8avqsnzq4cOHmT59etH7JUuW0KqV66589NFHefjhh8nIyCjaX16Y5+bm8uijjxIfH0+PHj3O+bfWVGqhlyMlPoWnZzzNoeOHqBdZL9jliEg1VHL51GHDhuHxeErtHzp0KK+//jo9evSgU6dO57186ujRo3n77bcJDQ3ltddeY+DAgUXLpwJFy6d+8803jBkzhpCQEMLDw4v+EChcPrVZs2ZMmzat6LuttTz77LPcfvvt1K5dmzp16jBu3DjA3V6XlZXFsGHDyM/Pp0GDBnTv3p3LL7+86PM33HADkZGRHD9+nEsuuYQJEyYgZ8+vy6f6m6+XTy3pmw3fMPTDoXx303dc0vYSv5xDRIJLy6dKZVZplk+t6gbEDcBgdNldRESqBAV6OaJrRZPQJEELtYiISJWgQD+N5Lhk5mTMIb/g9DM2iYiIBJsC/TRSWqZw8PhBVmatDHYpIiIip6VAPw0t1CIiIlWFAv002jRoQ9O6TbVQi4iIVHoK9NMwxhQt1CIi4mtaPrXqL5+6ZcsW/vnPfwa7DECBfkbJ8clszt7MjkM7gl2KiFQzWj7VqcrLpyrQqxAt1CIi/qLlU0s70/KpdevW5ZFHHqF3795ccsklzJs3j8GDB9O2bVsmTpwIwLFjx7jllltISEggKSmpaEa7cePGMXLkSK688kratGnDK6+8wgsvvEBSUhIDBgxg3759AGzcuJGhQ4fSu3dvLrroItasWQPAzTffzO9+9zuSk5Np27Ytn376adF/wxkzZtCzZ09efPFFxo0bxz333FNU8xVXXFE0LW5F6j8v1toq++jdu7f1t+N5x22tp2vZB6Y84PdziUhgrVq1qvjNffdZO2iQbx/33Xfa82/evNl269at6P20adNsVFSU3bRpU9G2vXv3WmutzcnJsd26dbN79uyx1lrbqlUrm5WVZTdv3mxDQ0Pt4sWLrbXWXn311fYf//jHKee65ppr7IsvvmittTYvL89mZ2fbBQsW2O7du9vDhw/bQ4cO2a5du9pFixbZTz/91N52221Fn83Ozi51zrL85je/sbGxsfbaa6+1H3zwgc3Pz7fWWtuwYcOiz5dl0KBBdv78+aW2jRgxwn700UenHAvYyZMnW2utHTlypL300kvtiRMn7JIlS2xiYqK11tqxY8fam2++2Vpr7erVq218fLw9evSofffdd227du3swYMH7e7du239+vXta6+9Zq219v777y/6t/nZz35m161bZ621ds6cOTY1NdVaa+2oUaPsL3/5S5ufn29Xrlxp27VrZ611/808Hk9Rje+++669++67i957PB47bdq0CtdfUqn/fRb/Gyyw5WSiWuhnEBEaQd/mfdVCF5GA0PKp5a8CFxERwdChQwG3stugQYMIDw8nISGh6Df/9NNP3HTTTQB07tyZVq1asW7dOgBSU1OpV68esbGxREdHc+WVVxZ915YtWzh8+DCzZs3i6quvpmfPntx+++3s2FHc3Tpy5EhCQkLo2rVrqS6DiqpI/edDi7NUQEp8Cs/Pfp6juUepHV472OWIiD+8pOVTC1XW5VPDw8MxxgAQEhJS9LtDQkLIy8s77W+C0v9OZX2+oKCABg0asGTJkjN+vrzzhIWFUVBQUPS+5H+vitR/PtRCr4Dk+GRyC3KZnzk/2KWISDWi5VNL88XyqRdffDEffvghAOvWrWPbtm1l9teXpX79+rRp04ZPPvkEcKFdVl9+SSf/m7Ru3ZolS5ZQUFBAeno68+bNO6ffcS7UQq+AwglmZqXP4uJWFwe5GhGpLrR8quPL5VPvuusu7rjjDhISEggLC2PcuHGlWtZn8uGHH3LnnXfy9NNPk5uby7XXXktiYmK5x/fo0YOwsDASExO5+eabuf/++2nTpg0JCQl0796dXr16nfNvOVtaPrWCurzahfYx7fnyui8Dcj4R8T8tnyqVmZZP9ZPkuGRmpc86bf+MiIhIsCjQKyilZQr7ju5j7d61wS5FRETkFAr0CtJCLSIiUpkp0CuoU6NONKrdSPeji1Qz6kaTyuhc/nepQK8gYwzJ8cnMTFcLXaS6qFWrFnv37lWoS6VirWXv3r3UqlXrrD6n29a8vvwSnnwSZsyAqKiyj0mOT+bLdV+yJ2cPjaMaB7Q+EfG9uLg4MjIyyMrKCnYpIqXUqlWLuLi4s/qMAt2rVi1YtAimTYOTbgUtUrhQy+z02VzZ6coAVici/hAeHl5qmlWRqkyX3L0uvhjq1IFJk8o/pk/zPoSHhOuyu4iIVDoKdK/ISLj0Uhfo5XWn1Q6vTa9mvTQwTkREKh0FeglpabBtG6xcWf4xKfEpzM+cz4n8E4ErTERE5AwU6CWkpbnnyZPLPyY5PpljecdYtGNRYIoSERGpAAV6CS1aQM+ep+9HT2npBsbpsruIiFQmCvSTeDwwcybs31/2/qZ1m9K2YVsNjBMRkUpFgX6StDTIz4dvvy3/mOR4LdQiIiKViwL9JP37Q6NGZ7jsHp/CzsM72Zy9OXCFiYiInIYC/SShoTB0KHz9NRQUlH2MFmoREZHKRoFeBo8H9uyB+fPL3t8tthv1I+trYJyIiFQaCvQyXH45hISUf9k9NCSUgXEDNTBOREQqDQV6GWJiYODA0/ejJ8cns2L3CrKPZQeuMBERkXIo0Mvh8bjFWnbsKHt/SnwKFsvcjLmBLUxERKQMCvRyFK649vXXZe/vH9efEBOiy+4iIlIpKNDLkZAAcXHlX3avG1GXxCaJGhgnIiKVggK9HMa4SWa++w5OlLMOS0p8CnMy5pBXkBfY4kRERE6iQD8NjwcOHYIZM8renxyfzJHcIyzbtSywhYmIiJxEgX4aQ4a4ddLLW31NC7WIiEhloUA/jTp1YPDg8vvRW0a3JK5+nAbGiYhI0CnQz8DjgbVrYePGsvcXLtQiIiISTH4NdGPMFmPMcmPMEmPMAu+2GGPMd8aY9d7nht7txhjzsjFmgzFmmTGmlz9rq6i0NPdcXis9JT6FbQe2kXEwI3BFiYiInCQQLfRUa21Pa20f7/s/AD9YazsAP3jfAwwDOngfo4HXAlDbGbVrB506ld+ProVaRESkMgjGJfcRwHve1+8BI0tsf986c4AGxphmQajvFB4PTJ8OR46cui+xSSJR4VG67C4iIkHl70C3wLfGmIXGmNHebU2stTsAvM8XeLe3ANJLfDbDu60UY8xoY8wCY8yCrKwsP5ZezOOB48fhhx9O3RceGk7/Fv01ME5ERILK34GeYq3thbucfrcx5uLTHGvK2GZP2WDtm9baPtbaPrGxsb6q87QuvBDq1Su/Hz05PpklO5dw+MThgNQjIiJyMr8GurU20/u8G/gc6AfsKryU7n3e7T08A4gv8fE4INOf9VVURARceqnrR7en/InhBsbl23zmby9nAXURERE/81ugG2PqGGPqFb4GLgNWABOBUd7DRgETvK8nAr/2jnYfABwovDRfGXg8kJEBy5efum9g/EAAXXYXEZGgCfPjdzcBPjfGFJ7nn9baKcaY+cC/jDG/AbYBV3uPnwykARuAHOAWP9Z21krevtajR+l9DWo1oFtsNw2MExGRoPFboFtrNwGJZWzfCwwpY7sF7vZXPeeraVPo3dsF+qOPnro/JT6Ff636FwW2gBCj+XpERCSwlDxnIS0NZs+GvXtP3Zccn0z2sWxWZa0KfGEiIlLjKdDPgscDBQXw7ben7tNCLSIiEkwK9LPQty/ExpZ9+1q7hu24oM4FGhgnIiJBoUA/CyEhMGwYTJkC+fml9xljtFCLiIgEjQL9LKWluT70uXNP3ZcSn8KGfRvYdXhX4AsTEZEaTYF+li6/HEJDy77sXrhQi1rpIiISaAr0s9SgAaSklL36Wu9mvYkMjVSgi4hIwCnQz4HHA0uWwPbtpbdHhkXSp3kfDYwTEZGAU6Cfg8JZ48pqpSfHJ7Nwx0KO5R0LbFEiIlKjKdDPQbdu0LJl2f3oKfEpnMg/wcLMhYEvTEREaiwF+jkwxl12//57t056SYUD43TZXUREAkmBfo48HjhyBP7zn9LbY+vE0iGmgwbGiYhIQCnQz1FqKtSqVc5l95YpzEqfhS1r8XQRERE/UKCfo6goF+pl3o8el0xWThbr960PfGEiIlIjKdDPg8cDGzbAunWlt2uhFhERCTQF+nnweNzzybevdW7cmYa1GjJzmwbGiYhIYCjQz0Pr1tC166mX3UNMCAPjBzIrQy10EREJDAX6eUpLgx9/hEOHSm9PiU9hVdYq9h3dF5zCRESkRlGgnyePB3Jz3T3pJaXEu3702emzg1CViIjUNAr085SSAtHRp/aj923Rl7CQMA2MExGRgFCgn6fwcLjsMhfoJW87jwqPIqlpkmaMExGRgFCg+4DHA5mZbgW2kpLjk5m3fR65+bnBKUxERGoMBboPDB3qnk8e7Z4Sn8LRvKMs2bnk1A+JiIj4kALdB5o0gb59ywh07wQzuuwuIiL+pkD3EY8H5s6FPXuKtzWv15xW0a00ME5ERPxOge4jHo8bFDdlSuntKS1TmJk+Uwu1iIiIXynQfaRXL3fp/eTL7slxyWQeymTrga3BKUxERGoEBbqPhITAsGGuhZ6XV7xdC7WIiEggKNB9yOOB7GyYM6d4W8IFCdSNqKuFWkRExK8U6D506aUQFlb6sntoSCgD4gZopLuIiPiVAt2HoqPhoovKvh99+e7lHDx+MDiFiYhItadA97G0NFi+HLZtK96WEp9CgS1gbsbc4BUmIiLVmgLdxzwe91xysZb+cf0JMSEaGCciIn6jQPexzp2hTZvSgV4/sj4JFySoH11ERPxGge5jxrhW+g8/wLFjxduT45OZkzGH/IL84BUnIiLVlgLdD9LSICcHpk8v3pYSn8KhE4dYsXtF0OoSEZHqS4HuB4MHQ+3apUe7a6EWERHxJwW6H9SuDUOGuH70wincW0W3olndZhoYJyIifqFA9xOPBzZtgrVr3XtjTNFCLSIiIr6mQPeTtDT3XPKye3JcMluyt5B5KDM4RYmISLWlQPeTli2he/ey+9F12V1ERHxNge5HHg/MmAEHDrj3SU2TqB1WWwu1iIiIzynQ/cjjcUupfv+9ex8eGk7fFn3Vjy4iIj6nQPejgQOhQYOTLrvHp7B452JycnOCV5iIiFQ7CnQ/CguDyy93t68VFLhtKfEp5BXkMX/7/OAWJyIi1YoC3c88Hti1CxYtcu8Hxg8ENDBORER8S4HuZ0OHuvndCxdriakdQ5fGXdSPLiIiPqVA97PYWOjf/6T70eOTmZU+iwJbELzCRESkWlGgB0BaGsyfD7t3u/cp8SnsP7aftXvWBrcwERGpNvwe6MaYUGPMYmPMV973bYwxc40x640xHxtjIrzbI73vN3j3t/Z3bYHi8bg53b/+2r3XQi0iIuJrZwx0Y8yzxpj6xphwY8wPxpg9xpgbz+Ic9wGrS7x/BnjRWtsB2A/8xrv9N8B+a2174EXvcdVCUhI0a1Z82b1DTAcaRzXWwDgREfGZirTQL7PWHgSuADKAjsCYiny5MSYO8ABved8b4GfAp95D3gNGel+P8L7Hu3+I9/gqzxh32f3bbyE31y3UkhyfrBa6iIj4TEUCPdz7nAaMt9buO4vvfwn4PVA4+qsRkG2tzfO+zwBaeF+3ANIBvPsPeI+vFjweNwXsLG+jPDkumXV715F1JCu4hYmISLVQkUD/0hizBugD/GCMiQWOnelDxpgrgN3W2oUlN5dxqK3AvpLfO9oYs8AYsyArq+qE4SWXQHh48WX3wn702Rmzg1iViIhUF2cMdGvtH4CBQB9rbS5wBHd5/ExSgOHGmC3AR7hL7S8BDYwxYd5j4oDCtUQzgHgA7/5o4JSrAdbaN621fay1fWJjYytQRuVQrx5cfHFxoPdp3ofwkHAt1CIiIj5RkUFxVwN51tp8Y8xjwAdA8zN9zlr7qLU2zlrbGrgWmGqtvQGYBvzSe9goYIL39UTve7z7p1prT2mhV2UeD6xaBVu2QK2wWvRu3lv96CIi4hMVueT+J2vtIWPMhcDluIFrr53HOR8BHjTGbMD1kb/t3f420Mi7/UHgD+dxjkrJ43HPhbPGpcSnsCBzAcfzjgevKBERqRYqEuj53mcP8Jq1dgIQcTYnsdZOt9Ze4X29yVrbz1rb3lp7tbX2uHf7Me/79t79m87mHFVBhw7Qrl2JfvT4FI7nH2fRjkXBLUxERKq8igT6dmPMG8A1wGRjTGQFPycnMca10qdOhZwcNwUsaKEWERE5fxUJ5muAb4Ch1tpsIIYK3ocup/J44NgxmDYNmtRtQruG7dSPLiIi560io9xzgI3A5caYe4ALrLXf+r2yamrQIKhTp7gfvXCCmWo2/k9ERAKsIqPc7wM+BC7wPj4wxtzr78Kqq8hId0/6pElufveU+BR2H9nNpv3VbsiAiIgEUEUuuf8G6G+tfdxa+zgwAPitf8uq3tLSYOtWdwubFmoRERFfqEigG4pHuuN9XS3mWA+WtDT3PGkSdI3tSnRktAbGiYjIealIoL8LzDXGPGmMeRKYQ/G943IO4uIgMdH1o4eYEAbGD1QLXUREzktFBsW9ANyCm4Z1P3CLtfYlfxdW3Xk88NNPkJ3t+tFX7l5J9rHsYJclIiJVVLmBboyJKXwAW3BTvv4D2OrdJuchLQ3y892SqsnxyVgsczLmBLssERGposJOs28hbrWzwv7ykquiWaCtH+uq9gYMgJgY14/+6sh+hJpQZm6bydD2Q4NdmoiIVEHlBrq1tk0gC6lpQkNh6FD4+muICqtLYtNE9aOLiMg50xSuQeTxQFYWLFjg+tHnbp9LXkFesMsSEZEqSIEeRJdfDiEh7rJ7SnwKObk5LN25NNhliYhIFaRAD6JGjVxf+qRJWqhFRETOT0Wmfo0p4xEeiOJqAo8HFi6EsJx44uvHqx9dRETOSUVa6IuALGAdsN77erMxZpExprc/i6sJPB73PGVK8UItIiIiZ6sigT4FSLPWNrbWNgKGAf8C7gL+5s/iaoIePaBFi+J+9IyDGaQfSA92WSIiUsVUJND7WGu/KXzjXTr1YmvtHCDSb5XVEMa4SWa+/Rb6NdNCLSIicm4qEuj7jDGPGGNaeR+/B/YbY0KBAj/XVyN4PHDoEBxc34M64XU0ME5ERM5aRQL9eiAO+AKYALT0bgsFrvFfaTXHkCEQEQFTJofRP66/WugiInLWKrI4yx5r7b3W2iRrbU9r7T3W2ixr7Qlr7YZAFFnd1a0Lgwe71ddS4lNYunMph08cDnZZIiJShVTktrWOxpg3jTHfGmOmFj4CUVxNkpYGa9ZAm7Bk8m0+87bPC3ZJIiJShVTkktVSWWUAACAASURBVPsnwGLgMWBMiYf4UOHta7sXDcBgmLlNl91FRKTiKhLoedba16y186y1Cwsffq8s0LKz4e23g3b69u2hY0eY9nUDul3QTf3oIiJyVioS6F8aY+4yxjQ7aY306uUf/4DbboMffwxaCR4PTJ/ubl+bnTGbAqubCEREpGIqEuijcJfYZ+HWSF8ILPBnUUFx223QtCn8938HrQSPB44fh+jsFA4eP8jK3SuDVouIiFQtFRnl3qaMR9tAFBdQtWvD738P06bBjBlBKeGii9yI9x3ztVCLiIicnXID3RjzM+/zz8t6BK7EALr9dmjSBP7nf4Jy+ogIuPRSmDGxLU3qNFE/uoiIVNjpWuiDvM9XlvG4ws91BUdUFIwZA99/D7OC0zr2eGB7hqFbfS3UIiIiFRdW3g5r7RPe51sCV04lcMcd8Mwzri/9m2/OfLyPDRvmnmvtTmFT/ufsPLyTpnWbBrwOERGpWioysUykMeZ6Y8wfjTGPFz4CUVxQ1KnjWunffgtz5gT89M2bQ1ISZMx2C7WoH11ERCqiIqPcJwAjgDzgSIlH9XXnndC4cdBGvHs8sPy7JCJDIxXoIiJSIeVeci8hzlo71O+VVCZ168JDD8Gjj8K8edCvX0BP7/HA009H0jqir/rRRUSkQirSQp9ljEnweyWVzd13Q0xMUEa89+3rLhCEZaawMHMhR3OPBrwGERGpWioS6BcCC40xa40xy4wxy40xy/xdWNDVq+da6ZMmwYLAzqMTGgpDh8K2mcnkFuSycEf1m2lXRER8qyKBPgzoAFxG8S1rV/qzqErjnnugYcOgtNI9Hji0yk0wo4VaRETkTE43sUx978tD5Tyqv/r14cEH4csvYdGigJ768ssh9HhjYmxH9aOLiMgZna6F/k/vc+Hc7QupznO5l+fee6FBg4C30hs2hORkYFsKs9JnYa0N6PlFRKRqKTfQrbVXeJ/bWGvbVvu53MsTHQ0PPAATJsCSJQE9tccD+5aksPfoXtbtXRfQc4uISNVSkT50jDENjTH9jDEXFz78XVil8rvfuWAPcCs9LQ1I10ItIiJyZhWZKe424D/AN8B/e5+f9G9ZlUyDBnDfffD557AscAP8u3eHuNqdCM+LUT+6iIicVkVa6PcBfYGt1tpUIAnI8mtVldH997tBck89FbBTGgNXeEIo2DqQnzTSXURETqMigX7MWnsM3Lzu1to1QCf/llUJNWzoLr1/+imsWBGw03o8kL85hbV717A3Z2/AzisiIlVLRQI9wxjTAPgC+M4YMwHI9G9ZldQDD7gJZwLYSk9NhfCdbqGW2RmzA3ZeERGpWs4Y6Nbaq6y12dbaJ4E/AW8DI/1dWKUUE+NuY/vkE1i1KiCnrFMHBnfsAwVhGhgnIiLlOm2gG2NCjDFF15ettT9aaydaa0/4v7RK6sEHISoqoK304cOiILMX369TP7qIiJTttIFurS0AlhpjWgaonsqvUSM3JezHH8Pq1QE5pccDpKewZPc8TuTX3L+lRESkfBXpQ28GrDTG/GCMmVj48HdhldpDD0Ht2vDnPwfkdG3aQIuCZHI5xpKdgZ3cRkREqoaKrIf+336voqqJjXXLqz7/PDz+OHTs6PdTXpGYzBvA1A0z6dcisOuzi4hI5VeRFnqat++86AGk+buwSu/hh6FWLXj66YCc7ldpzWF/ayYuVj+6iIicqiKBfmkZ24ad6UPGmFrGmHnGmKXGmJXGmP/2bm9jjJlrjFlvjPnYGBPh3R7pfb/Bu7/12fyQgLvgArjzTvjwQ1i/3u+nu/BCd/vakn0ztVCLiIic4nTLp95pjFkOdDLGLCvx2AxUZP7T48DPrLWJQE9gqDFmAPAM8KK1tgOwH/iN9/jfAPutte2BF73HVW5jxkBkZED60sPDoXt0CkdDd7J5/xa/n09ERKqWMy2feiUw0ftc+Ohtrb3xTF9sncPet+HehwV+Bnzq3f4exfe0j/C+x7t/iDHGVPynBEGTJnDHHfDBB7Bxo99PN6KXW6jlo5m6H11EREo73fKpB6y1W6y111lrt5Z47KvolxtjQo0xS4DdwHfARiDbWpvnPSQDaOF93QJI9547DzgANCrjO0cbYxYYYxZkZVWCKeXHjHHN5wC00m+7sjscq88E9aOLiMhJKrR86rmy1uZba3sCcUA/oEtZh3mfy2qNn9JZbK1901rbx1rbJzY21nfFnqtmzWD0aHj/fdi82a+natE8lPoHB7DioAJdRERK82ugF7LWZgPTgQFAA2NM4e1ycRTPC58BxAN490cDFb4aEFSPPAJhYfC//+v3UyXFJpNTdzmbMw/6/VwiIlJ1+C3QjTGx3kVdMMbUBi4BVgPTgF96DxsFTPC+nuh9j3f/VFtVhnM3bw6//S2MGwdbtvj1VFf3TwFjeWPSHL+eR0REqhZ/ttCbAdOMMcuA+cB31tqvgEeAB40xG3B95G97j38baOTd/iDwBz/W5nuPPAIhIfB//+fX09w4uD8UhDBpmQbGiYhIsYrMFHdOrLXLgKQytm/C9aefvP0YcLW/6vG7uDi47Tb4+9/hv/4LWvpn+vvo2vWIye3BmpyZ5OW5K/0iIiIB6UOvMR55xD37uZXet2kKeU3m8NOsvDMfLCIiNYIC3ZdatoRbb4W334b0dL+d5pf9kyHyMP/4ZsWZDxYRkRpBge5rjz7qnp/x30R3l3ZKAWDKKt2+JiIijgLd11q1gptvdn3p27f75RQto1tS3zQnM3SmPy8EiIhIFaJA94c//hEKCvzWSjfGMLBFCsTPYvJkv5xCRESqGAW6P7RuDaNGwZtvQmbmGQ8/F0O7pUCDrfz7O/9cBRARkapFge4vf/wj5OXBs8/65etT4t1CLT9umkVOjl9OISIiVYgC3V/atoWbboI33oAdO3z+9T2b9qRWSBQnmsykVy/48Uefn0JERKoQBbo//dd/QW4uPPecz786PDScAS370WHITE6cgMGD4ZZbYM8en59KRESqAAW6P7VvDzfcAK+/Drt2+fzrk+OS2ZSzmLmLjvDoo25Z9s6d3ZTyVWQWfBER8REFur899hgcPw5jx/r8qy9rdxn5Np+ffz6UOx9JZ/Fi6NTJtdRTU2HNGp+fUkREKikFur916ADXXw9/+xvs3u3Trx7UehAfXPUBS3YuIfH1RDaGTWDGDDe4fulS6NEDHn8cjh3z6WlFRKQSUqAHwmOPuVR9/nmff/UNPW5g0ehFtGnYhpEfj+S+Kfdy0y3HWLMGrrkGnnrKBfsPP/j81CIiUoko0AOhUye49lp49VW/jFrr0KgDs26dxQMDHuCV+a8w4K0BZIeu5YMP4NtvXX/6JZe4Qfc+vkggIiKVhAI9UB57DHJy/NJKB4gMi+SFy1/gq+u+IuNgBr3f7M24JeO45BLLsmXu9B9/7AbNvfWWm8hORESqDwV6oHTp4q6Bv/IK7N3rt9N4OnpYesdS+rboyy0TbuGmz28iL+QQTz3l+tUTEuC3v4VBg2DlSr+VISIiAaZAD6Q//QmOHIEXX/TraVrUb8H3N33PU6lPMX7FeHq92YuFmQvp0gWmT4d33oFVq6BnT3er/NGjfi1HREQCQIEeSN26wS9/CS+/DPv2+fVUoSGhPHbxY0wfNZ1jeccY+PZAXpz9ImC55RZ3S9sNN8D//i907w7ffOPXckRExM8U6IH2pz/BoUPw0ksBOd1FrS5i6R1LSeuQxoPfPsiV468k60gWsbFuApqpUyEsDIYOheuug507A1KWiIj4mAI90BIS4Be/gL/+FfbvD8gpY2rH8PmvPueVYa/w3abv6PlGT6ZvmQ64CWiWLYMnn4TPPnOD5l5/XYPmRESqGgV6MPzpT3DwoAv1ADHGcHe/u5l721zqRdTjZ+/9jMenPU5eQR6RkfDEEy7Ye/WCO++ECy+E5csDVp6IiJwnBXowJCbCyJHusnt2dkBP3bNpTxaMXsConqN46j9PkfpeKukH0gF3u/wPP8D778P69ZCUBI884sbxiYhI5aZAD5bHH4cDB9wAuQCrG1GXd0e8W2ra2C/WfAGAMW4CmjVr4Oab3XLu3brB5MkBL1NERM6CAj1YkpJg+HB3C9vBg0Ep4YYeN7D49sW0bdiWqz6+insn38uxPDfxe6NGbgKa//wHoqLA44Grr4bMzKCUKiIiZ6BAD6bHH3eX3P/f/wtaCe1j2jPrN7N4cMCDRdPGrtlTvEzbRRfBkiXw9NPw5Zdu0Nwrr0B+ftBKFhGRMijQg6l3b7jiCnjhBXcrW5BEhEbw/OXP89V1X7H90PaiaWOtd1H1iAg3Ac2KFTBgANx7Lwwc6IJeREQqBwV6sD3xhJtk5pVXgl0Jno4elty+hH4t+hVNG3voePEfGu3buwlo/vlP2LoV+vSBhx6Cw4eDWLSIiAAK9ODr0wfS0tyiLZUgGcubNraQMW4CmjVr4Lbb3MWFrl1h4sQgFi0iIgr0SuHxx92CLa++GuxKgOJpY3+8+UeO5x1n4NsDeWH2CxTY4tlmGjZ0E9DMnAnR0TBiBFx1FaSnB7FwEZEaTIFeGfTvD5dfDmPHVopWeqELW17IkjuW4Ono4aFvHyqaNrak5GRYtAj+8hd3Ob5rV3d7fV5ekIoWEamhFOiVxRNPwJ49rtlbicTUjuGzaz7jlWGv8MOmH0h8PZFpm6eVOiY83E1As3KlGxX/wAPub5QFC4JUtIhIDaRArywGDoRLL4XnnoOcnGBXU0rJaWPrR9ZnyPtDiqaNLalNG5g0Cf71L3e/ev/+cN99QbvNXkSkRlGgVyZPPAG7d1e6VnqhxKaJLBy9kJt73lw0bey2A9tKHWOMm4BmzRq44w53i33Xrm7hF+9dcCIi4gcK9MokJQWGDHHzrVayVnqhOhF1eGfEO0XTxvZ8vWfRtLElRUe7MX6zZ0Pjxm6BuREj3O1uIiLiewr0yuaJJ2DXLnjzzWBXclonTxt7z+R7iqaNLamwL33sWLfwS9eu7vWxUw8VEZHzoECvbC66CAYPhmeegaNHg13NaRVOG/vQwId4df6r9H+rf6lpYwuFhbkJaFatchcgxoyBuDj4wx9gy5bA1y0iUh0p0CujJ56AnTvh738PdiVnFBEawdjLxjLp+klkHsqk95u9eXfxu0XTxpbUqhVMmABTp8KgQW78X9u2bo2ab7+FgoIyTiAiIhViyvo/3qqiT58+dkF1vTdq0CDYsAE2boRatYJdTYVkHsrkxs9uZNqWaVyfcD2veV6jfmT9co9PT4c33nB/t+zeDR06wF13uWVbGzQIXN0iIlWFMWahtbZPWfvUQq+snnjC3fv19tvBrqTCmtdrznc3fcdTqU/x0YqP6PVGLxZklv8HV3y8W8Vt2zb44AM3eO6BB6BFC7j9dli2LIDFi4hUcQr0yio1FS680E3Bdvx4sKupsJLTxp7IP0Hy28mnTBt7sshIuOEGmDULFi6Ea6+F99+HxES4+GL4+GPIzQ3gjxARqYIU6JWVMa6VnpEB77wT7GrOWkWmjS1Lr17uosT27a6Pfft2F/AtW8KTT7qLFiIicir1oVdm1rpWeno6rF/vmrJVjLWW1xa8xoPfPEhM7Rg+/PmHpLZJrfDnCwpgyhS3uuyUKRAaCj//Odx9t7shwBg/Fi8iUsmoD72qMsatxJaeDuPGBbuac2KM4a6+d5WaNvaxqY+Vec96WUJC3Oqykye7v2nuuw+++86NGUxMdJPqVaL1bEREgkYt9MrOWjfP+44dLtEiIoJd0Tk7cuIIv/v6d7yz5B2a1GnCvf3u5c6+dxJTO+asvicnB8aPd632JUugfn03Mv6uu6BTJ//ULiJSGaiFXpUV9qVv2+ZGilVhdSLq8PaIt5n666kkNUvisWmP0fLFltz39X1syd5S4e+JioLf/MYt2zpzJlxxBbz2GnTuDJdd5u51z8/33+8QEamM1EKvCqx1c6hmZcG6dW690mpg+a7ljJ09ln8u/yfWWq7udjVjksfQq1mvs/6uXbvc/eyvv+4G0rVsCXfe6YI/NtYPxYuIBIFa6FVdYSt9yxb4xz+CXY3PJDRJ4L2R77H5vs08MOABJq2bRO83ezPk/SFM2TClzNnmytOkCTz2mPsn+ve/oV07ePRRN8Xsr38N8+b573eIiFQGaqFXFdZCv36wb59bm7SatNJLOnDsAG8ufJOX5r5E5qFMEi5I4OHkh7m2+7VEhJ792IFVq+Bvf4P33nMD5/r0caPjf/UrqF3bDz9ARMTP1EKvDgpHvG/aBB9+GOxq/CK6VjRjUsaw+b7NjBsxDotl1BejaPvXtjw38zkOHDtwVt/XtasbOLd9u3s+cgRuucXNUPfII1oYRkSqF7XQqxJroXdvOHjQtdLDwoJdkV9Za5myYQrPzXqOaVumUT+yPqN7jea+AfcRVz/uHL4Ppk1z67RPmODucb/iCtdqv/RSd4uciEhlFpQWujEm3hgzzRiz2hiz0hhzn3d7jDHmO2PMeu9zQ+92Y4x52RizwRizzBhz9iOjqrvCVvrGjfDPfwa7Gr8zxjCswzCmjprKgt8uYFj7Ybww5wXa/LUNo74YxfJdy8/y++BnP3N97Js3wx//CHPnwtChboT8Sy9BdraffoyIiJ/5rYVujGkGNLPWLjLG1AMWAiOBm4F91tq/GGP+ADS01j5ijEkD7gXSgP7AX621/U93jhrXQgfXzExKcjdjr17tpk6rQTbv38xLc17ircVvkZObw9D2QxmTPIbU1qmYc5g27vhxF/CvvAKzZ7tb4m64wbXaExP98ANERM5DUFro1tod1tpF3teHgNVAC2AE8J73sPdwIY93+/vWmQM08P5RICUVttLXr4ePPgp2NQHXpmEb/jrsr6Q/kM7TqU+zaMcihrw/hD5/78NHKz4iryDvrL4vMhKuv94tDLNoEVx3nbuRoGdPN7XsRx/BiRN++jEiIj4UkD50Y0xr4D9Ad2CbtbZBiX37rbUNjTFfAX+x1v7k3f4D8Ii1dsFJ3zUaGA3QsmXL3lu3bvV7/ZVOQYFLnBMnYOXKGtdKL+lY3jH+sfQfjJ09lnV719G6QWseGPAAtybdSt2Iuuf0nfv2wbvvuhHymzZB06YwerS7/a1dOx//ABGRsxDUUe7GmLrAv4H7rbUHT3doGdtO+WvDWvumtbaPtbZPbE2dMSQkxLXS166Ff/0r2NUEVa2wWvy2929ZffdqvvjVF7So14L7ptxHyxdb8tjUx9h1eNdZf2dMDDz0kLsIMmmSWwHuqaegfXv3+v/+DzZs8MOPERE5D35toRtjwoGvgG+stS94t60FBltrd3gvqU+31nYyxrzhfT3+5OPK+/4a2YdeqKAAevRwz4sWQa1awa6o0pidPpvnZj3HF2u+ICI0gl8n/pqHBj5Ep8bnPtH71q3w6afwySduIB24iyRXX+0eHTr4qHgRkdMI1ih3A7wNrC4Mc6+JwCjv61HAhBLbf+0d7T4AOHC6MK/xQkLgf/7HDYxr3do1G/fvD3ZVlcLA+IF89qvPWHPPGm7ueTPvL32fzq92ZsRHI5i5beY5fWerVq7VPmeOC/fnn3d/Q/3Xf0HHji7c//xnNzOviEgw+HOU+4XADGA5UODd/EdgLvAvoCWwDbjaWrvP+wfAK8BQIAe45eT+85PV6BZ6oWnT4Jln4JtvoG5d19l7//1u9hQBYPeR3bwy7xVenf8q+47uY2DcQB5OfpgRnUYQGnJ+4w/S04tb7rNnu209ehS33LX6m4j40ula6JpYprpYuhSee84NyzbGDd0eMwa6dw92ZZXGkRNHeHfJu7ww+wU2Z2+mQ0wHHhz4IKMSR1E7/Pzngk1Pd7fAffKJGzUPkJBQHO6dO5/3KUSkhlOg1yRbt8KLL7qlx3JywOOB3//e3YN1DvdpV0d5BXl8tvoznpv1HAsyFxAbFcs9/e7h7r530yiqkU/OkZFRHO4zvVf5Fe4icr4U6DXR3r3uvquXX4Y9e9zyq7//PYwYUaNvcyvJWsuPW3/kuVnPMXn9ZGqH1ebWpFt5cOCDtG3Y1mfn2b69ONx/+slt6969ONy7dPHZqUSkmlOg12RHj8K4cTB2rLupumNHePhhuOkmjYwvYeXulYydPZYPl31Ivs3nF11+wZjkMfRt0den5ykZ7jNnuon/unUrDveuXX16OhGpZhToAvn5LkmefRYWLnQLiN93H9x5JzRocObP1xDbD27n5bkv8/rC1zl4/CCDWg1iTPIYhnUYRojx7U0hmZmlW+7WukAvDPdu3Xx6OhGpBhToUqxwybFnny0eGX/77W5kfNzZr2BWXR08fpC3Fr3Fi3NeJONgBl1ju3JTj5sY3mk4XRp3Oad5409nx47icJ8xw/1n6tKldLhrCISIKNClbEuXumD/+GOXFjfc4EbGq2lYJDc/l49XfszLc19mfuZ8ANo1bMfwTsMZ0WkEKS1TCAvx7TK2O3bAZ5+5cP/Pf1y4d+5cHO7duyvcRWoqBbqc3pYtbmT8W28Vj4x/5BG48EIlRwkZBzP4at1XTFg7gambp3Ii/wQNazXE09HD8I7Dubz95dSPrO/Tc+7cWTrcCwrcve1XXw3XXKNwF6lpFOhSMSePjB8woHhkfIjfp/2vUg4dP8S3G79l4rqJfLXuK/Yd3Ud4SDipbVIZ3nE4wzsNJz7at5P77NpVHO4//lg63K++2t0Wp3AXqd4U6HJ2cnLcyPjnny8eGT9mDNx4o0bGlyGvII/Z6bOZuHYiE9ZOYP2+9QAkNU1ieCcX7klNk3za775rF3z+uQv36dNduHfsWBzuPXoo3EWqIwW6nJu8PNckfOYZtwBM06ZuZPwdd2hk/Gms2bOGiWsnMnHtRGalz8Jiiasfx5Udr2R4p+Gktk4lMizSZ+fbvbs43KdNc+HeoQP88peQlgb9+kFEhM9OJyJBpECX81M4Mv6ZZ+DbbzUy/ixkHcli0vpJTFw7kW82fkNObg51I+oytP1QhnccTlqHNJ/NTgeQlVUc7lOnunCPioKUFEhNhcGDoU8fCA/32SlFJIAU6OI7S5a4OeM//tj1q99wg5uoRiPjz+hY3jGmbp5a1HrfcXgHISaEC1teWNTv3qGR79Zh3bvXDaSbNs09Vqxw2+vWdeMdU1PdIykJwnw7UF9E/ESBLr538sj4K65wA+g0Mr5CCmwBCzMXunBfN5Flu5YB0KVxl6J+9/4t+p/3anAl7d7tBtNNn+4CfvVqt71+fTfVf2HAJyZqdmCRykqBLv6zdy+8+ir8v//nRsYPHOiCffhwjYw/C1uyt/Dl2i+ZsHYCP279kbyCPGKjYrmi4xUM7zScS9teSp2IOj49586dxeE+fXrxWu4NGsDFFxcHfEKC/lOKVBYKdPG/wpHxY8fC5s3FI+NvugkifTcArCbIPpbNlA1TmLh2IpPXT+bA8QPUCqvFJW0vYXjH4VzR8Qqa1Wvm8/Nu31464DdudNsbNYJBg1z/e2qqZq0TCSYFugROXl7xnPEaGX/ecvNzmbFtRtEtcVuytwDQr0W/on737hd09/lUtADbthUH/LRpbmVegNhYF+6FAd+5swJeJFAU6BJ41rph1s8+60bG16tXPDK+RYtgV1clWWtZmbWSCWsmMHHdROZtnwdAmwZtivrdL2p5EeGh/hnCvmVLcbhPm+bWfAf3N1thuA8e7G6ZU8CL+IcCXYJr8WI3Mv5f/3KdsdddB0OGuHlLu3SB2rWDXWGVtOPQDr5a9xUT103k+03fcyzvGNGR0aR1SGN4p+EMbT+UBrX8c1XEWndJvmQLfscOt69Fi9IB37atAl7EVxToUjls3uxGxr/zDhw54raFhLgmXffubvRVQoJ73a6dhlqfhSMnjvD9pu+ZuHYiX677kqycLMJCwujZtCf9mvejb4u+9G3el86NO/t05Hwha92gupIBv3u32xcfXzzALjUVWrXy+elFagwFulQueXmwYQMsX+4eK1a4540bXTKAa7V37Xpq0DdrpubeGeQX5DN3+1y+WvcVczLmsCBzAYdOHAKgbkRdejfrTd/mfYtCvnWD1j7vg7fW3RZXOMBu+nR3EwRA69alA15zE4lUnAJdqoYjR1wKnBz0O3cWHxMTUxzuhUHfrRtERwev7kquwBawds9a5mfOZ/72+czPnM/inYs5kX8CgMZRjV3Alwj5JnWb+LaGAli5snTA79/v9rVvX3yJPjXV/c0mImVToEvVtmdPcbgXBv2KFXDoUPExLVueGvSdOumWuXKcyD/B8l3Li0J+XuY8VmWtosAWANAyumWpkO/TvI9Pl4YtKIBly4oD/scf4cABt69VK+jdG3r1Kn6+4AKfnVqkSlOgS/VjrbuP6uSgX7MGcnPdMWFh7n74k4O+dWvNlFKGwycOs3jHYuZnzmfe9nnMz5zPpv2bADAYOjXuVBTy/Vr0I7FpIrXCfLP6Xn6+m1V4+nSYPx8WLnS9MoVatDg15NX7IjWRAl1qjhMn3Oisk4N+8+biY+rUcZfpS/bNJySoGViGvTl7WZC5oCjg52fOZ+dh1wUSFhJGjyY9igK+b/O+dI3t6rNBdwcOuBskFi1yj4ULYe3a4mEWTZqcGvLx8Qp5qd4U6CKHDrlO3JJBv3x58UgtcIF+8iC8bt3caiYCuHvhtx/a7gLe2x+/IHMBB4676+VR4VH0atar1Mj6tg3b+mzQ3eHDriVfMuRXrXKX8AEaN3bBXjLk27RRyEv1oUAXKc+uXaUH4C1f7oI/J6f4mLZtXbi3bes6eFu2LH5u3LjGp0WBLWD93vWlBt0t2rGI4/nHAYipHUOf5n1Khbwvp67NyXH/2RYuLA75FSvczRTgJig8OeTbt1evi1RNCnSRs1FQ4C7Rlwz6lSvdtpJBD+72upYtS4d8yecWLSAiIji/I4hy83NZsXtFqUF3K3evJN/mA9CiXouiy/SFg+58OQnO8ePuP13JkF+2zPXIgJu4byNmSAAAEMVJREFUMCmpdMh36qSpD6TyU6CL+IK1sG+fm+R869bSz4Wvd+0q/Rlj3OitssK+8LmG3HKXk5tzyqC7DfuKR751bNSRvs370qNJD7o07kKX2C60adDGZ33yubnu77KSl+uXLoWjR93+qCjo2bN0yHfpAuH+mUlX5Jwo0EUC5dgxSE8vO/S3bnX7CpuJherXLw74skK/WbNq23Tcf3T/KYPuMg9lFu2PCI2gY6OOLuAbd6Fz4850ie1Cp0adqB1+/lMG5+W5gXYlW/KLFxdPZFirFvToUTrku3evkRddpJJQoItUFgUFbk7UssK+8LlwxpVCYWFuOrXyWvjx8W7kfjWx/+h+1uxZw+o9q4ueV2etZnP25qL75A2GVg1anRL0XRp3oVFUo/M6f36+u2WuZMgvWgQHD7r94eFuzOTJIR8Vdb6/XOTMFOgiVcmhQ8WX8csK/e3bXeqU1Lhx2S38Fi3co2nTKn/t+FjeMdbvXX9K0K/du5ZjeceKjmsc1bgo6LvEesO+cRfio+MJMec2Eq5wWMXJIb9vn9tvjBtN37Vr6UeXLrpJQnxLgS5SneTlQWZm+f34W7cWXzMuZIxbyLx5cxfwzZsXP0q+j42tcsO/8wvy2XZgW1HAF4X9ntXsO7qv6Lio8Cg6NepU1JIvDPoOjToQEXr219Ctdf/khaPqV61yj7VrS/eqtGxZdtA38M9CeFLNKdBFahJr3WX7rVtd8Bc+tm8v/X737uJZWgqFhbnW/OlCv3lzl0aV/HY9ay17cvaUGfTbDmwrOi7UhNIupl1RwBeGfefGnYmudfYDFvPyYNOm4oAvfKxe7YZYFGre/NSg79oVGp1fj4FUcwp0ETlVbq5b+OZ0ob99O2Rnn/rZ2rVLB3xZod+8eaXt2z984jDr9q5jddbqUpfw1+9dT25BbtFxzes1PyXou8R2oVndZmc9WU5+vvsb6+SgX7Wq9AWVCy4oO+gvuKDS/w0lAaBAF5Fzl5MDO3aUHfiF27ZvL77/q6To6DMHf7NmlWbYeG5+LpuzN58S9KuzVhctQQtQP7J+qcv2nRp3on1Me9o2bEtU+NmNjisogIyMsoO+cMEacAsNnhzy3bppTvuaRoEuIv5lrRsGXl4rv/D1jh3Fi+eUVNi/37y5a4rGxLhrz40alf06KiqgKWatJfNQZqmAX7N3DauzVrPj8I5Sx7ao14L2Me1pH9OeDjEdil63i2lH3YiKj5Cz1v1znRzyK1cWD8YD9zdTWS16zWtfPSnQRaRyKCiAvXtPH/pZWS6xTh7YV1JkZPmhX94fATExfrkSkH0smw37NpzyWL9vPbuP7C51bNO6TcsM+/Yx7Su8PO3/b+9+YyO57zqOv7/rtc9rr2/ttddnx3/uz+ZyyV3UJumpBFKqiuMBpRUpKAUKDaFF4kmApkKiASEVIR7kQUFUoiqtQiFRo1IUWrWqqlIIEISq9ppe05QkrXrr3Nnrc85/1ud/57uzvV8e/GZzu3e2z9fYXt/485JGM56bnf3u6LSfnZnf/H7u4RCtdkZf3a9ROh0a310b9Bps8NamQBeRW8+lSyHYS6XwI2BqamPLq10BqEin1w/91Zbb23/qjn1mL89SKBVqw346zKs70AHIteTWDPuOVMeG3m9qKjS+uzboR0evbpNKwZ13hq5u8/nQr30+HyZdvt/5FOgisju4hzP7m/kBMDUVngpY67vQDDo6bvwDoLJNZZ7JrPtDYOHKAoXpwqpn9yOzIzXbZlPZqwHfcTuHO68Gfmeq84YN9GZmaoP+5ZfhJz+BM2dquzRoaQljEFWHfGV5cDA8BCH1pUAXEVlPuRxa82/0R0BleW5u7X2ahVCvDvm15tesW2w0hi68tuqZ/dkLZ3Gufm9n9mTWPLPvbu1eN+yXlsKz9KdPQ6EQpurl6sfskslwuf7aoL/99tCpTurN98QrG6BAFxHZCktLV28LlErhTH+9efXytb39VWtqWjP0l9v3MrWnzLnGS5xNzHKaEj9aOc9LS0V+cHmYK4nyG7tJN6XXPLO/0aN35XJolFcd8tXz6hb4EB5eWO3MPp9XJzqbSYEuIrKTuMP8/I1Df7V5pVP5NaykW7mcaWWhtZHplDHetMxo4yLDiVkmm53pZiilYKk5SWdLF9nWLrpau+lK5+hqzZFr7aYr3U0u3U17S5ZEoiFcbUgk3pg7xsxcguKoMVI0RkYTDI8YZ0fCfHwqbOMYZRK0txv9gwn2HzAG9xuDB8Ly/oMJct2GNUT7vuZ9auZm4TJATAcq2qj1Al13REREtptZGJS9rS30uX8zlpbC7YE1Qr9hepqWUomWUonc9DR3lEowDV5axGpG+lsGXo+mmywfaI+muzfyggvR9NJNv1WtZDIcr3w+3OyvXAI4dChMbW1v8g1ubQp0EZFbSWNjeG4/l7upl5l76PynchVgcTFcKXCHcplyeYULCyUmFsbDNH+eyfkJJhfGmVyYoLQwydTCJMsryyQ8hHrCodEa6GrO0pXqpDPVSa45S2dzls7mDjqbs2Sbs2Sa0iQwKJdZXnImx8tMjDsT49HyhDM1XmZq0imvlKNze6cxUaYz6+Q6y3R1Or2paXovDtExXKDl5As0XCjVfshcrjbsq+e9vbF/Xk+X3EVEZEPcnYmLExRnixRni4zMjITluarl2SKXVy7XvC6ZSNLX1kf/3v43poG9A1eXMwPsa90H3sDo6PUN9Crza9sgZrjA8Y4h7ssUONo8RN4K9F8eomu2QLo0jJWvtieguTm03qs+q6/MDx4M/34L0D10ERHZFpVBcSrhXpwtMjI7ct1y9ZC3EAbJua3tNgYyUdC39V9d3ttPX1s/e5Z6OD+WfKO34WKR65anpsL+GrnCIMPkKXDXniHe0lLgcHKI/csF9s0X2LNU23GR9/Vha53dd3XtmAf0FegiIrJjuDulxVJt0M+MUJyrPfNfXK4dHyBhCXItOXrSPTVTb7r3jeX2ZA8+18PM+F7OnbNVg3/snNOxMsEhhshT4BBDHLYCR5qGOFQukFuq7fRnuaWNlf2HSN6Rp+GOa8J+cDDcBtkmCnQREbmluDvTl6ZrAn50bpTX51+/bqoeIa8ilUxdF/yVaV9rL3uu9LA808OlyX2MjzXVhP7kyCLJ4mv0XizUhH6eAgd5jWau3lIoJxqYzw5yZSBPIn+I5rvzpI7lsXwU+ns31qXvRinQRUQklirBPzY3dl3Qj83XrptanFp1H9lUtuYsvzJlGnpoWOxlZaaHy5M9XBjLcq7oLBbO0XB2iPT5Ap2ztYGfY7Jm36WWPjrmRrDE5lyyr8tja2b2OeC9wLi73x2tywJfBA4AZ4Bfd/dpC70bfBL4ZeAi8LvufmqrahMRkXgwM7KpLNlUlmPdx9bd9srKFc7Pn183+L818i3G5seuu8cP0JhoZN+RffS8LVzmT6R7aE31MLTyDs5cfIh/n+mB0TR7fnyRhqFzpEYLNC/N8eFNCvMb2crH1v4J+Dvg6ap1jwPPufsTZvZ49PfHgHcDh6PpZ4BPR3MREZFN0dTQxEBmgIHMwLrbuTuzl2dXvbxfCf/hmWFOjp5kfGG8piteAPKw9+heetI9DGYG+fAWfqZqWxbo7v4/ZnbgmtUPAu+Klp8C/psQ6A8CT3u4/v9tM2s3s153H0NERGQbmRmZ5gyZ5gxHuo6su+1yeZmJhYk1g3/F1+nid5Ntd8cy+yoh7e5jZtYdre8DqocXKkbrFOgiIrJjJRNJett66W3rrXcp7JRuc1a7wbBqaz0z+30ze8HMXpiYmNjiskRERG4N2x3o582sFyCaj0fri0D1TY1+4ByrcPfPuvtxdz+eu8muD0VEROJquwP9q8Aj0fIjwFeq1v+OBfcDM7p/LiIisnFb+djaFwgN4LrMrAh8HHgC+Bcz+z1gGHh/tPnXCY+snSY8tvahrapLREQkjraylfsH1vinE6ts68CjW1WLiIhI3O2URnEiIiLyJijQRUREYkCBLiIiEgMKdBERkRhQoIuIiMSAAl1ERCQGFOgiIiIxoEAXERGJAQt9utyazGwCOLuJu+wCJjdxf7I2HevtoeO8PXSct4eOM+x391UHMrmlA32zmdkL7n683nXsBjrW20PHeXvoOG8PHef16ZK7iIhIDCjQRUREYkCBXuuz9S5gF9Gx3h46zttDx3l76DivQ/fQRUREYkBn6CIiIjGgQI+Y2S+Z2Y/N7LSZPV7veuLIzAbM7L/M7FUze9nMPlLvmuLMzBrM7Ptm9rV61xJXZtZuZs+a2Y+i/9c/W++a4srMPhp9b/yfmX3BzJrrXdNOo0AnfPEBnwLeDRwFPmBmR+tbVSwtA3/s7ncB9wOP6jhvqY8Ar9a7iJj7JPANd78TeCs63lvCzPqAPwKOu/vdQAPwm/WtaudRoAdvB067+5C7XwH+GXiwzjXFjruPufupaHmO8OXXV9+q4snM+oH3AE/Wu5a4MrO9wDuBfwBw9yvufqG+VcVaEkiZWRJoAc7VuZ4dR4Ee9AEjVX8XUdBsKTM7ANwLfKe+lcTW3wJ/ApTrXUiMHQImgH+Mbm08aWat9S4qjtx9FPgEMAyMATPu/s36VrXzKNADW2Wdmv9vETNLA/8KPObus/WuJ27M7L3AuLt/r961xFwSuA/4tLvfCywAan+zBcysg3DV9CBwG9BqZh+sb1U7jwI9KAIDVX/3o8s5W8LMGglh/oy7f6ne9cTUA8CvmNkZwu2jXzCzz9e3pFgqAkV3r1xlepYQ8LL5fhF4zd0n3H0J+BLwc3WuacdRoAffBQ6b2UEzayI0tvhqnWuKHTMzwv3GV939b+pdT1y5+5+6e7+7HyD8X/5Pd9fZzCZz99eBETM7Eq06AbxSx5LibBi438xaou+RE6gB4nWS9S5gJ3D3ZTP7A+DfCK0nP+fuL9e5rDh6AHgY+KGZvRit+zN3/3odaxJ5M/4QeCY6ERgCPlTnemLJ3b9jZs8CpwhPy3wf9Rp3HfUUJyIiEgO65C4iIhIDCnQREZEYUKCLiIjEgAJdREQkBhToIiIiMaBAF5FNY2bv0uhuIvWhQBcREYkBBbrILmRmHzSzk2b2opl9Jho7fd7M/trMTpnZc2aWi7a9x8y+bWYvmdmXo361MbPbzew/zOwH0Wvy0e7TVWOEPxP17IWZPWFmr0T7+USdPrpIbCnQRXYZM7sL+A3gAXe/B1gBfhtoBU65+33A88DHo5c8DXzM3d8C/LBq/TPAp9z9rYR+tcei9fcCjwFHCSOSPWBmWeBXgWPRfv5qaz+lyO6jQBfZfU4AbwO+G3XBe4IQvGXgi9E2nwfeYWYZoN3dn4/WPwW808zagD53/zKAu19y94vRNifdvejuZeBF4AAwC1wCnjSzXwMq24rIJlGgi+w+Bjzl7vdE0xF3/4tVtluvX+jVhhyuuFy1vAIk3X0ZeDthpL33Ad+4yZpF5AYU6CK7z3PAQ2bWDWBmWTPbT/g+eCja5reA/3X3GWDazH4+Wv8w8Hw0jn3RzN4X7WOPmbWs9YZmlgYy0UA8jwH3bMUHE9nNNNqayC7j7q+Y2Z8D3zSzBLAEPAosAMfM7HvADOE+O8AjwN9HgV09otjDwGfM7C+jfbx/nbdtA75iZs2Es/uPbvLHEtn1NNqaiABgZvPunq53HSLy09EldxERkRjQGbqIiEgM6AxdREQkBhToIiIiMaBAFxERiQEFuoiISAwo0EVERGJAgS4iIhID/w/xjua16XN4ZwAAAABJRU5ErkJggg==\n",
      "text/plain": [
       "<Figure size 576x432 with 1 Axes>"
      ]
     },
     "metadata": {
      "needs_background": "light"
     },
     "output_type": "display_data"
    },
    {
     "data": {
      "image/png": "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\n",
      "text/plain": [
       "<Figure size 576x432 with 1 Axes>"
=======
      "image/png": "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\n",
      "text/plain": [
       "<Figure size 1152x576 with 2 Axes>"
>>>>>>> master
      ]
     },
     "metadata": {
      "needs_background": "light"
     },
     "output_type": "display_data"
    }
   ],
   "source": [
    "import matplotlib.pyplot as plt \n",
    "%matplotlib inline\n",
    "\n",
    "# START TODO ################\n",
<<<<<<< HEAD
    "fig1 = plt.figure(figsize= (8, 6))\n",
    "plt.plot(train_costs_adam, 'b-', label='train cost Adam')\n",
    "plt.plot(train_costs_sgd, 'g-', label='train cost SGD')\n",
    "plt.plot(train_costs_sgd_mtm, 'r-', label='train cost SGD momentum')\n",
    "plt.legend(loc='best')\n",
    "plt.xlabel(\"epochs\")\n",
    "plt.ylabel(\"training loss\")\n",
    "\n",
    "fig2 = plt.figure(figsize= (8, 6))\n",
    "plt.plot(train_accuracies_adam, 'b-', label='train accuracy Adam')\n",
    "plt.plot(train_accuracies_sgd, 'g-', label='train accuracy SGD')\n",
    "plt.plot(train_accuracies_sgd_mtm, 'r-', label='train accuracy SGD momentum')\n",
    "plt.legend(loc='best')\n",
    "\n",
    "plt.xlabel(\"epochs\")\n",
    "plt.ylabel(\"training accuracy\")\n",
=======
    "fig , ax = plt.subplots(nrows=1, ncols=2, figsize=(16,8))\n",
    "ax[0].plot(hist_1[0])\n",
    "ax[0].plot(hist_2[0])\n",
    "ax[0].plot(hist_3[0])\n",
    "ax[0].set_title('Training Loss')\n",
    "ax[0].set_xlabel('#epoch')\n",
    "ax[0].set_ylabel('Loss')\n",
    "ax[0].legend(['SGD','SGD-M','Adam'])\n",
    "\n",
    "ax[1].plot(hist_1[1])\n",
    "ax[1].plot(hist_2[1])\n",
    "ax[1].plot(hist_3[1])\n",
    "ax[1].set_title('Training Accuracy')\n",
    "ax[1].set_xlabel('#epoch')\n",
    "ax[1].set_ylabel('Accuracy')\n",
    "ax[1].legend(['SGD','SGD-M','Adam'])\n",
>>>>>>> master
    "# END TODO###################"
   ]
  },
  {
   "cell_type": "markdown",
   "metadata": {
    "colab_type": "text",
    "id": "tk1jprGKpVuZ"
   },
   "source": [
    "### Learning Rate Schedules\n",
    "\n",
    "Decreasing the learning rate can improve performance of the model.\n",
    "\n",
    "Pytorch implements learning rate schedules as wrappers for the optimizer and requires the user to call scheduler.step() after each epoch. (We've already done this for you in the training loop above)\n",
    "\n",
    "**Implement the learning rate scheduler** `PieceWiseConstantLR` and `CosineAnnealingLR`. You can use the provided `LambdaLR` class for this, which works analogously to the pytorch [LambdaLR](https://pytorch.org/docs/master/optim.html#torch.optim.lr_scheduler.LambdaLR)\n"
   ]
  },
  {
   "cell_type": "code",
<<<<<<< HEAD
   "execution_count": 70,
=======
   "execution_count": 152,
>>>>>>> master
   "metadata": {
    "colab": {},
    "colab_type": "code",
    "id": "cA5lQqhLpVua"
   },
   "outputs": [],
   "source": [
    "class LambdaLR:\n",
    "\n",
    "    def __init__(self, optimizer: Optimizer, lr_lambda: Callable[[int], float]):\n",
    "        \"\"\"Sets the learning rate to the initial lr times a given function.\n",
    "\n",
    "        Args:\n",
    "            optimizer: The optimzier to wrap.\n",
    "            lr_lambda: A function that takes the current epoch as an argument\n",
    "                and returns the corresponding learning rate.\n",
    "        \"\"\"\n",
    "        if not isinstance(optimizer, Optimizer):\n",
    "            raise TypeError('{} is not an Optimizer'.format(\n",
    "                type(optimizer).__name__))\n",
    "        self.optimizer = optimizer\n",
    "        self.last_epoch = 0\n",
    "        self.initial_lr = np.copy(optimizer.lr)\n",
    "        self.lr_lambda = lr_lambda\n",
    "\n",
    "    def step(self):\n",
    "        \"\"\"To be called after each epoch. Update optimizer.lr\"\"\"\n",
    "        self.last_epoch += 1\n",
    "        self.optimizer.lr = self.lr_lambda(self.last_epoch)\n",
    "        return self.optimizer.lr\n",
    "        \n",
    "class PiecewiseConstantLR(LambdaLR):\n",
    "\n",
    "    \n",
    "    \n",
    "    def __init__(self, optimizer: Optimizer, epochs: List[int],\n",
    "                 learning_rates: List[float]):\n",
    "        \"\"\"Set learning rate as piecewise constant steps.\n",
    "\n",
    "        This class inherits from LambdaLR and implements the lambda\n",
    "        function that maps the current epoch to the learning rate\n",
    "        according to epochs.\n",
    "        \n",
    "        optimizer: The optimizer to wrap\n",
    "        \"\"\"\n",
    "        # START TODO ################\n",
<<<<<<< HEAD
    "        self.epochs = epochs\n",
    "        self.learning_rates = learning_rates\n",
    "        def piecewise_constant_lr(last_epoch):\n",
    "            N = np.shape(self.epochs)[0]\n",
    "            lr_adapt = np.zeros(np.max(self.epochs))\n",
    "            start_step = 0\n",
    "            for counter,no_steps in enumerate(self.epochs):\n",
    "                lr_adapt[start_step:no_steps] = learning_rates[counter]\n",
    "                start_step = no_steps\n",
    "            if (last_epoch >= np.max(self.epochs)):\n",
    "                lr = lr_adapt[-1]\n",
    "            else:\n",
    "                lr = lr_adapt[last_epoch]\n",
    "#             print(f'lr adapt piece: {lr}')\n",
    "            return lr\n",
    "#         self.lr_lambda = piecewise_constant_lr\n",
    "        super().__init__(optimizer, piecewise_constant_lr)\n",
    "        \n",
    "    \n",
=======
    "        self.cur_epoch_index = 0\n",
    "        def lr_lambda_constant_step(epoch_number):\n",
    "            if epoch_number > epochs[self.cur_epoch_index]:\n",
    "                self.cur_epoch_index = min(self.cur_epoch_index + 1, len(epochs) - 1)\n",
    "            return learning_rates[self.cur_epoch_index]\n",
    "        \n",
    "        super().__init__(optimizer=optimizer, lr_lambda=lr_lambda_constant_step)\n",
>>>>>>> master
    "        # End TODO ################\n",
    "        \n",
    "        \n",
    "class CosineAnnealingLR(LambdaLR):\n",
    "\n",
    "    def __init__(self, optimizer: Optimizer, T_max: int):\n",
    "        \"\"\"Set learning rate as a cosine decay.\n",
    "\n",
    "        This class inherits from LambdaLR and implements the lambda\n",
    "        function that maps the current epoch to the learning rate\n",
    "        according to epochs.\n",
    "        \n",
    "        optimizer: The optimizer to wrap\n",
    "        T_max:  Maximum number of epochs.\n",
    "        \"\"\"\n",
    "        # START TODO ################\n",
<<<<<<< HEAD
    "        self.num_epochs = T_max\n",
    "        def cosine_annealing_lr(last_epoch):\n",
    "            lr_adapt = 1.0/2 *(1 + np.cos(np.pi*last_epoch/self.num_epochs))*self.initial_lr\n",
    "#             print(f'lr adapt cosine: {lr_adapt}')\n",
    "            return lr_adapt\n",
    "        super().__init__(optimizer, cosine_annealing_lr)\n",
    "        \n",
=======
    "        def lr_lambda_cosine(epoch_number):\n",
    "            return (0.5) * (1.0 + np.cos((epoch_number / T_max)*np.pi)) * self.initial_lr\n",
    "        super().__init__(optimizer=optimizer, lr_lambda=lr_lambda_cosine)\n",
>>>>>>> master
    "        # End TODO ################"
   ]
  },
  {
   "cell_type": "markdown",
   "metadata": {
    "colab_type": "text",
    "id": "6dGoBWQwpVuc"
   },
   "source": [
    "To verify your implementation, **plot the learning rate schedules**, with the number of epochs on the x-axis and the learning rate on the y-axis."
   ]
  },
  {
   "cell_type": "code",
<<<<<<< HEAD
   "execution_count": 75,
=======
   "execution_count": 151,
>>>>>>> master
   "metadata": {
    "colab": {},
    "colab_type": "code",
    "id": "UW7b0b16pVuc"
   },
   "outputs": [
    {
     "data": {
      "text/plain": [
<<<<<<< HEAD
       "<matplotlib.legend.Legend at 0x1032861c88>"
      ]
     },
     "execution_count": 75,
=======
       "Text(0, 0.5, 'learning rate')"
      ]
     },
     "execution_count": 151,
>>>>>>> master
     "metadata": {},
     "output_type": "execute_result"
    },
    {
     "data": {
<<<<<<< HEAD
      "image/png": "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\n",
      "text/plain": [
       "<Figure size 576x432 with 1 Axes>"
      ]
     },
     "metadata": {
      "needs_background": "light"
     },
     "output_type": "display_data"
    },
    {
     "data": {
      "image/png": "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\n",
      "text/plain": [
       "<Figure size 576x432 with 1 Axes>"
=======
      "image/png": "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\n",
      "text/plain": [
       "<Figure size 1152x576 with 2 Axes>"
>>>>>>> master
      ]
     },
     "metadata": {
      "needs_background": "light"
     },
     "output_type": "display_data"
    }
   ],
   "source": [
    "num_epochs = 80\n",
    "\n",
    "optimizer = Adam([])\n",
    "lr_picewise_scheduler = PiecewiseConstantLR(optimizer, [10, 20, 40, 50], [0.1, 0.05, 0.01, 0.001])\n",
    "\n",
    "\n",
    "optimizer = Adam([])\n",
    "cosine_scheduler = CosineAnnealingLR(optimizer, num_epochs)\n",
    "\n",
    "# START TODO ################\n",
    "fig, ax = plt.subplots(nrows=1, ncols=2, figsize=(16,8))\n",
    "hist_1 = []\n",
    "hist_2 = []\n",
    "for i in range(num_epochs):\n",
    "    picewise_scheduler.step()\n",
    "    hist_1.append(picewise_scheduler.optimizer.lr)\n",
    "    cosine_scheduler.step()\n",
    "    hist_2.append(cosine_scheduler.optimizer.lr)\n",
    "# plot piecewise lr\n",
<<<<<<< HEAD
    "lr_picewise = []\n",
    "lr_cosine = []\n",
    "for i in range(num_epochs):\n",
    "    lr_picewise.append(lr_picewise_scheduler.step())\n",
    "    lr_cosine.append(cosine_scheduler.step())\n",
    "fig3 = plt.figure(figsize = (8, 6))\n",
    "plt.plot(lr_picewise, 'm-', label='picewise scheduler')\n",
    "plt.legend(loc='best')\n",
    "plt.xlabel('epochs')\n",
    "plt.ylabel('learning rate')\n",
    "\n",
    "# plot cosine lr\n",
    "fig3 = plt.figure(figsize = (8, 6))\n",
    "plt.plot(lr_cosine, 'b-', label='cosine scheduler')\n",
    "plt.xlabel('epochs')\n",
    "plt.ylabel('learning rate')\n",
    "plt.legend(loc='best')\n",
=======
    "ax[0].plot(hist_1)\n",
    "ax[0].set_title('picewise_scheduler')\n",
    "ax[0].set_xlabel('#epochs')\n",
    "ax[0].set_ylabel('learning rate')\n",
    "\n",
    "\n",
    "# plot cosine lr\n",
    "ax[1].plot(hist_2)\n",
    "ax[1].set_title('cosine_scheduler')\n",
    "ax[1].set_xlabel('#epochs')\n",
    "ax[1].set_ylabel('learning rate')\n",
    "\n",
    "\n",
>>>>>>> master
    "# End TODO ################"
   ]
  },
  {
   "cell_type": "markdown",
   "metadata": {
    "colab_type": "text",
    "id": "sAPmDYY2pVue"
   },
   "source": [
    "### Your Feedback on Exercise 4\n",
    "\n",
    "TODO"
   ]
  }
 ],
 "metadata": {
  "colab": {
   "name": "ex4_optimization.ipynb",
   "provenance": []
  },
  "kernelspec": {
   "display_name": "Python 3",
   "language": "python",
   "name": "python3"
  },
  "language_info": {
   "codemirror_mode": {
    "name": "ipython",
    "version": 3
   },
   "file_extension": ".py",
   "mimetype": "text/x-python",
   "name": "python",
   "nbconvert_exporter": "python",
   "pygments_lexer": "ipython3",
   "version": "3.7.3"
  }
 },
 "nbformat": 4,
 "nbformat_minor": 1
}
